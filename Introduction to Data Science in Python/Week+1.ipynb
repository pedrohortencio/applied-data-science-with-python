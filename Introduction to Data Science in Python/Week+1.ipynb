{
  "nbformat": 4,
  "nbformat_minor": 0,
  "metadata": {
    "kernelspec": {
      "display_name": "Python 3 (UM)",
      "language": "python",
      "name": "logging"
    },
    "language_info": {
      "file_extension": ".py",
      "mimetype": "text/x-python",
      "name": "python"
    },
    "colab": {
      "name": "Week+1.ipynb",
      "provenance": [],
      "collapsed_sections": [
        "8hZm21nm0CXD",
        "1-DdsnmU0Crr",
        "4Uq8wC7v0CuC",
        "hZ6d6_Gb0Cz6",
        "BEA6Xv5K0C0c",
        "q-BkUFZE0C2k",
        "aVWaLpeV0C4s",
        "RFjtraIf0C8g"
      ],
      "include_colab_link": true
    }
  },
  "cells": [
    {
      "cell_type": "markdown",
      "metadata": {
        "id": "view-in-github",
        "colab_type": "text"
      },
      "source": [
        "<a href=\"https://colab.research.google.com/github/pedrohortencio/applied-data-science-with-python/blob/main/Introduction%20to%20Data%20Science%20in%20Python/Week%2B1.ipynb\" target=\"_parent\"><img src=\"https://colab.research.google.com/assets/colab-badge.svg\" alt=\"Open In Colab\"/></a>"
      ]
    },
    {
      "cell_type": "markdown",
      "metadata": {
        "id": "ZUVeIjVS1bgy"
      },
      "source": [
        "#Python Introduction"
      ]
    },
    {
      "cell_type": "markdown",
      "metadata": {
        "id": "8hZm21nm0CXD"
      },
      "source": [
        "##The Python Programming Language: Functions"
      ]
    },
    {
      "cell_type": "markdown",
      "metadata": {
        "id": "aGFBWewc0CXH"
      },
      "source": [
        "`add_numbers` is a function that takes two numbers and adds them together."
      ]
    },
    {
      "cell_type": "code",
      "metadata": {
        "scrolled": true,
        "id": "Rn0VPiCR0CXK"
      },
      "source": [
        "def add_numbers(x, y):\n",
        "    return x + y\n",
        "\n",
        "add_numbers(1, 2)"
      ],
      "execution_count": null,
      "outputs": []
    },
    {
      "cell_type": "markdown",
      "metadata": {
        "id": "b0PyATJP0CXj"
      },
      "source": [
        "`add_numbers` updated to take an optional 3rd parameter. Using `print` allows printing of multiple expressions within a single cell."
      ]
    },
    {
      "cell_type": "code",
      "metadata": {
        "id": "QQa5GgZI0CXl"
      },
      "source": [
        "def add_numbers(x,y,z=None):\n",
        "    if (z==None):\n",
        "        return x+y\n",
        "    else:\n",
        "        return x+y+z\n",
        "\n",
        "print(add_numbers(1, 2))\n",
        "print(add_numbers(1, 2, 3))"
      ],
      "execution_count": null,
      "outputs": []
    },
    {
      "cell_type": "markdown",
      "metadata": {
        "id": "q9qnGSP40CX0"
      },
      "source": [
        "`add_numbers` updated to take an optional flag parameter."
      ]
    },
    {
      "cell_type": "code",
      "metadata": {
        "id": "w_Y2WpuB0CX3"
      },
      "source": [
        "def add_numbers(x, y, z=None, flag=False):\n",
        "    if (flag):\n",
        "        print('Flag is true!')\n",
        "    if (z==None):\n",
        "        return x + y\n",
        "    else:\n",
        "        return x + y + z\n",
        "    \n",
        "print(add_numbers(1, 2, flag=True))"
      ],
      "execution_count": null,
      "outputs": []
    },
    {
      "cell_type": "markdown",
      "metadata": {
        "id": "WDjHLp9t0CYJ"
      },
      "source": [
        "Assign function `add_numbers` to variable `a`."
      ]
    },
    {
      "cell_type": "code",
      "metadata": {
        "id": "dgAVZ1cE0CYM"
      },
      "source": [
        "def add_numbers(x,y):\n",
        "    return x+y\n",
        "\n",
        "a = add_numbers\n",
        "a(1,2)"
      ],
      "execution_count": null,
      "outputs": []
    },
    {
      "cell_type": "markdown",
      "metadata": {
        "id": "HUi70d9b0CZu"
      },
      "source": [
        "##The Python Programming Language: Types and Sequences"
      ]
    },
    {
      "cell_type": "markdown",
      "metadata": {
        "id": "5mPxj7Wb0CaN"
      },
      "source": [
        "Use `type` to return the object's type."
      ]
    },
    {
      "cell_type": "code",
      "metadata": {
        "id": "YD41exPq0CaQ"
      },
      "source": [
        "type('This is a string')"
      ],
      "execution_count": null,
      "outputs": []
    },
    {
      "cell_type": "code",
      "metadata": {
        "scrolled": false,
        "id": "sgK_zcWq0Cau"
      },
      "source": [
        "type(None)"
      ],
      "execution_count": null,
      "outputs": []
    },
    {
      "cell_type": "code",
      "metadata": {
        "id": "T2jqayXH0Cbi"
      },
      "source": [
        "type(1)"
      ],
      "execution_count": null,
      "outputs": []
    },
    {
      "cell_type": "code",
      "metadata": {
        "id": "J1P28_Gj0Cb1"
      },
      "source": [
        "type(1.0)"
      ],
      "execution_count": null,
      "outputs": []
    },
    {
      "cell_type": "code",
      "metadata": {
        "id": "ASdpucky0Ccw"
      },
      "source": [
        "type(add_numbers)"
      ],
      "execution_count": null,
      "outputs": []
    },
    {
      "cell_type": "markdown",
      "metadata": {
        "id": "TxL_WYm70Cdr"
      },
      "source": [
        "<br>\n",
        "Tuples are an immutable data structure (cannot be altered)."
      ]
    },
    {
      "cell_type": "code",
      "metadata": {
        "id": "5CXXyhHc0Cdt"
      },
      "source": [
        "x = (1, 'a', 2, 'b')\n",
        "type(x)"
      ],
      "execution_count": null,
      "outputs": []
    },
    {
      "cell_type": "markdown",
      "metadata": {
        "id": "ON7y6gKh0CeH"
      },
      "source": [
        "<br>\n",
        "Lists are a mutable data structure."
      ]
    },
    {
      "cell_type": "code",
      "metadata": {
        "id": "B085hkxz0CeL"
      },
      "source": [
        "x = [1, 'a', 2, 'b']\n",
        "type(x)"
      ],
      "execution_count": null,
      "outputs": []
    },
    {
      "cell_type": "markdown",
      "metadata": {
        "id": "spsqww940Cee"
      },
      "source": [
        "Use `append` to append an object to a list."
      ]
    },
    {
      "cell_type": "code",
      "metadata": {
        "id": "piYAUu-40Cei"
      },
      "source": [
        "x.append(3.3)\n",
        "print(x)"
      ],
      "execution_count": null,
      "outputs": []
    },
    {
      "cell_type": "markdown",
      "metadata": {
        "id": "lYYmvNxa0Ce4"
      },
      "source": [
        "<br>\n",
        "This is an example of how to loop through each item in the list."
      ]
    },
    {
      "cell_type": "code",
      "metadata": {
        "id": "GWmsFYjL0Ce8"
      },
      "source": [
        "for item in x:\n",
        "    print(item)"
      ],
      "execution_count": null,
      "outputs": []
    },
    {
      "cell_type": "markdown",
      "metadata": {
        "id": "7u-V0S3Y0CfR"
      },
      "source": [
        "<br>\n",
        "Or using the indexing operator:"
      ]
    },
    {
      "cell_type": "code",
      "metadata": {
        "id": "K7f2eO9H0Cfa"
      },
      "source": [
        "i=0\n",
        "while( i != len(x) ):\n",
        "    print(x[i])\n",
        "    i = i + 1"
      ],
      "execution_count": null,
      "outputs": []
    },
    {
      "cell_type": "markdown",
      "metadata": {
        "id": "6QvnOxCF0Cfu"
      },
      "source": [
        "Use `+` to concatenate lists."
      ]
    },
    {
      "cell_type": "code",
      "metadata": {
        "id": "rOYAbfqv0Cfx"
      },
      "source": [
        "[1,2] + [3,4]"
      ],
      "execution_count": null,
      "outputs": []
    },
    {
      "cell_type": "markdown",
      "metadata": {
        "id": "clWusKrw0CgN"
      },
      "source": [
        "Use `*` to repeat lists."
      ]
    },
    {
      "cell_type": "code",
      "metadata": {
        "id": "HTJuyiPQ0CgQ"
      },
      "source": [
        "[1]*3"
      ],
      "execution_count": null,
      "outputs": []
    },
    {
      "cell_type": "markdown",
      "metadata": {
        "id": "_1OP97ch0Cgq"
      },
      "source": [
        "Use the `in` operator to check if something is inside a list."
      ]
    },
    {
      "cell_type": "code",
      "metadata": {
        "id": "maohioLh0Cgt"
      },
      "source": [
        "1 in [1, 2, 3]"
      ],
      "execution_count": null,
      "outputs": []
    },
    {
      "cell_type": "markdown",
      "metadata": {
        "id": "aAEzOCh40ChJ"
      },
      "source": [
        "<br>\n",
        "Now let's look at strings. Use bracket notation to slice a string."
      ]
    },
    {
      "cell_type": "code",
      "metadata": {
        "id": "7O5eM7K-0ChL"
      },
      "source": [
        "x = 'This is a string'\n",
        "print(x[0]) #first character\n",
        "print(x[0:1]) #first character, but we have explicitly set the end character\n",
        "print(x[0:2]) #first two characters\n"
      ],
      "execution_count": null,
      "outputs": []
    },
    {
      "cell_type": "markdown",
      "metadata": {
        "id": "T-JeZRgR0CiA"
      },
      "source": [
        "<br>\n",
        "This will return the last element of the string."
      ]
    },
    {
      "cell_type": "code",
      "metadata": {
        "id": "AhrNwIsN0CiC"
      },
      "source": [
        "x[-1]"
      ],
      "execution_count": null,
      "outputs": []
    },
    {
      "cell_type": "markdown",
      "metadata": {
        "id": "Wf4EM8Ga0Cil"
      },
      "source": [
        "<br>\n",
        "This will return the slice starting from the 4th element from the end and stopping before the 2nd element from the end."
      ]
    },
    {
      "cell_type": "code",
      "metadata": {
        "id": "eFsbQbuE0Cis"
      },
      "source": [
        "x[-4:-2]"
      ],
      "execution_count": null,
      "outputs": []
    },
    {
      "cell_type": "markdown",
      "metadata": {
        "id": "L06Lc2nZ0CjA"
      },
      "source": [
        "<br>\n",
        "This is a slice from the beginning of the string and stopping before the 3rd element."
      ]
    },
    {
      "cell_type": "code",
      "metadata": {
        "id": "yfrlGSI10CjC"
      },
      "source": [
        "x[:3]"
      ],
      "execution_count": null,
      "outputs": []
    },
    {
      "cell_type": "markdown",
      "metadata": {
        "id": "ps8zWelC0CjV"
      },
      "source": [
        "<br>\n",
        "And this is a slice starting from the 4th element of the string and going all the way to the end."
      ]
    },
    {
      "cell_type": "code",
      "metadata": {
        "id": "WpiGvoG20CjX"
      },
      "source": [
        "x[3:]"
      ],
      "execution_count": null,
      "outputs": []
    },
    {
      "cell_type": "code",
      "metadata": {
        "id": "Nv2Ftt5-0Cjl"
      },
      "source": [
        "firstname = 'Christopher'\n",
        "lastname = 'Brooks'\n",
        "\n",
        "print(firstname + ' ' + lastname)\n",
        "print(firstname*3)\n",
        "print('Chris' in firstname)\n"
      ],
      "execution_count": null,
      "outputs": []
    },
    {
      "cell_type": "markdown",
      "metadata": {
        "id": "IAky4IIJ0Cjy"
      },
      "source": [
        "`split` returns a list of all the words in a string, or a list split on a specific character."
      ]
    },
    {
      "cell_type": "code",
      "metadata": {
        "id": "bCKlPFvp0Cj0"
      },
      "source": [
        "firstname = 'Christopher Arthur Hansen Brooks'.split(' ')[0] # [0] selects the first element of the list\n",
        "lastname = 'Christopher Arthur Hansen Brooks'.split(' ')[-1] # [-1] selects the last element of the list\n",
        "print(firstname)\n",
        "print(lastname)"
      ],
      "execution_count": null,
      "outputs": []
    },
    {
      "cell_type": "markdown",
      "metadata": {
        "id": "bPtesQ0w0CkB"
      },
      "source": [
        "<br>\n",
        "Make sure you convert objects to strings before concatenating."
      ]
    },
    {
      "cell_type": "code",
      "metadata": {
        "id": "ehW_fxUM0CkD"
      },
      "source": [
        "'Chris' + 2"
      ],
      "execution_count": null,
      "outputs": []
    },
    {
      "cell_type": "code",
      "metadata": {
        "id": "AEu_KIR70CkN"
      },
      "source": [
        "'Chris' + str(2)"
      ],
      "execution_count": null,
      "outputs": []
    },
    {
      "cell_type": "markdown",
      "metadata": {
        "id": "jqxDpPZn0CkZ"
      },
      "source": [
        "<br>\n",
        "Dictionaries associate keys with values."
      ]
    },
    {
      "cell_type": "code",
      "metadata": {
        "id": "eRTu5Wj80Ckd"
      },
      "source": [
        "x = {'Christopher Brooks': 'brooksch@umich.edu', 'Bill Gates': 'billg@microsoft.com'}\n",
        "x['Christopher Brooks'] # Retrieve a value by using the indexing operator\n"
      ],
      "execution_count": null,
      "outputs": []
    },
    {
      "cell_type": "code",
      "metadata": {
        "id": "k2XoaToD0Ckt"
      },
      "source": [
        "x['Kevyn Collins-Thompson'] = None\n",
        "x['Kevyn Collins-Thompson']"
      ],
      "execution_count": null,
      "outputs": []
    },
    {
      "cell_type": "markdown",
      "metadata": {
        "id": "g1XhrG1j0Ck5"
      },
      "source": [
        "<br>\n",
        "Iterate over all of the keys:"
      ]
    },
    {
      "cell_type": "code",
      "metadata": {
        "scrolled": true,
        "id": "rARoj2MC0Ck7"
      },
      "source": [
        "for name in x:\n",
        "    print(x[name])"
      ],
      "execution_count": null,
      "outputs": []
    },
    {
      "cell_type": "markdown",
      "metadata": {
        "id": "VvAau1Rj0ClK"
      },
      "source": [
        "<br>\n",
        "Iterate over all of the values:"
      ]
    },
    {
      "cell_type": "code",
      "metadata": {
        "id": "JmJLeaUq0ClQ"
      },
      "source": [
        "for email in x.values():\n",
        "    print(email)"
      ],
      "execution_count": null,
      "outputs": []
    },
    {
      "cell_type": "markdown",
      "metadata": {
        "id": "4pWWNTWu0Clc"
      },
      "source": [
        "<br>\n",
        "Iterate over all of the items in the list:"
      ]
    },
    {
      "cell_type": "code",
      "metadata": {
        "id": "DcRycCEl0Clf"
      },
      "source": [
        "for name, email in x.items():\n",
        "    print(name)\n",
        "    print(email)"
      ],
      "execution_count": null,
      "outputs": []
    },
    {
      "cell_type": "markdown",
      "metadata": {
        "id": "aD956ZyP0Clv"
      },
      "source": [
        "<br>\n",
        "You can unpack a sequence into different variables:"
      ]
    },
    {
      "cell_type": "code",
      "metadata": {
        "id": "Phsc54Qu0Clx"
      },
      "source": [
        "x = ('Christopher', 'Brooks', 'brooksch@umich.edu')\n",
        "fname, lname, email = x"
      ],
      "execution_count": null,
      "outputs": []
    },
    {
      "cell_type": "code",
      "metadata": {
        "id": "14qMGopy0CmB"
      },
      "source": [
        "fname"
      ],
      "execution_count": null,
      "outputs": []
    },
    {
      "cell_type": "code",
      "metadata": {
        "id": "Q6DxR65P0CmQ"
      },
      "source": [
        "lname"
      ],
      "execution_count": null,
      "outputs": []
    },
    {
      "cell_type": "code",
      "metadata": {
        "id": "OQx7Z5t-FjD7"
      },
      "source": [
        "#só funciona com x variáveis para um iterable de x posições. Se aumentar o numero de itens \n",
        "        #na lista, não vai mais dar certo\n",
        "lista = ['Pedro', 'Hortêncio']\n",
        "first_name, last_name = lista\n",
        "\n",
        "print(first_name, last_name)"
      ],
      "execution_count": null,
      "outputs": []
    },
    {
      "cell_type": "markdown",
      "metadata": {
        "id": "tHiaLE-t0Cmd"
      },
      "source": [
        "<br>\n",
        "Make sure the number of values you are unpacking matches the number of variables being assigned."
      ]
    },
    {
      "cell_type": "code",
      "metadata": {
        "id": "HwY77Q6H0Cmf"
      },
      "source": [
        "x = ('Christopher', 'Brooks', 'brooksch@umich.edu', 'Ann Arbor')\n",
        "fname, lname, email = x"
      ],
      "execution_count": null,
      "outputs": []
    },
    {
      "cell_type": "markdown",
      "metadata": {
        "id": "i_WdJfR10Cm4"
      },
      "source": [
        "\n",
        "##The Python Programming Language: More on Strings"
      ]
    },
    {
      "cell_type": "code",
      "metadata": {
        "id": "FEwtkFPS0Cm5"
      },
      "source": [
        "print('Chris' + 2)"
      ],
      "execution_count": null,
      "outputs": []
    },
    {
      "cell_type": "code",
      "metadata": {
        "id": "yvUVJO9o0CnM"
      },
      "source": [
        "print('Chris' + str(2))"
      ],
      "execution_count": null,
      "outputs": []
    },
    {
      "cell_type": "markdown",
      "metadata": {
        "id": "rT9QntB30Cng"
      },
      "source": [
        "<br>\n",
        "Python has a built in method for convenient string formatting."
      ]
    },
    {
      "cell_type": "code",
      "metadata": {
        "id": "PzZH4mIJ0Cnj"
      },
      "source": [
        "sales_record = {\n",
        "'price': 3.24,\n",
        "'num_items': 4,\n",
        "'person': 'Chris'}\n",
        "\n",
        "sales_statement = '{} bought {} item(s) at a price of {} each for a total of {}'\n",
        "\n",
        "print(sales_statement.format(sales_record['person'],\n",
        "                             sales_record['num_items'],\n",
        "                             sales_record['price'],\n",
        "                             sales_record['num_items']*sales_record['price']))\n"
      ],
      "execution_count": null,
      "outputs": []
    },
    {
      "cell_type": "markdown",
      "metadata": {
        "id": "K3vNlz3H0Cnu"
      },
      "source": [
        "##Reading and Writing CSV files"
      ]
    },
    {
      "cell_type": "markdown",
      "metadata": {
        "id": "pKycDzv80Cnw"
      },
      "source": [
        "<br>\n",
        "Let's import our datafile mpg.csv, which contains fuel economy data for 234 cars.\n",
        "\n",
        "* mpg : miles per gallon\n",
        "* class : car classification\n",
        "* cty : city mpg\n",
        "* cyl : # of cylinders\n",
        "* displ : engine displacement in liters\n",
        "* drv : f = front-wheel drive, r = rear wheel drive, 4 = 4wd\n",
        "* fl : fuel (e = ethanol E85, d = diesel, r = regular, p = premium, c = CNG)\n",
        "* hwy : highway mpg\n",
        "* manufacturer : automobile manufacturer\n",
        "* model : model of car\n",
        "* trans : type of transmission\n",
        "* year : model year"
      ]
    },
    {
      "cell_type": "code",
      "metadata": {
        "id": "CG2aTg98G8Z5"
      },
      "source": [
        "#importa a biblioteca do drive para poder fazer upload de files do meu drive\n",
        "from google.colab import drive\n",
        "#monta o drive na pasta drive\n",
        "drive.mount('/content/drive')"
      ],
      "execution_count": null,
      "outputs": []
    },
    {
      "cell_type": "code",
      "metadata": {
        "id": "l_wiM3ODIAEP"
      },
      "source": [
        "#só para checar se deu certo\n",
        "!ls"
      ],
      "execution_count": null,
      "outputs": []
    },
    {
      "cell_type": "code",
      "metadata": {
        "id": "z_iwxjqGHVVM"
      },
      "source": [
        "#comando para desmontar o drive\n",
        "#drive.flush_and_unmount()"
      ],
      "execution_count": null,
      "outputs": []
    },
    {
      "cell_type": "code",
      "metadata": {
        "scrolled": true,
        "id": "daWbQMcv0Cny"
      },
      "source": [
        "import csv\n",
        "\n",
        "%precision 2\n",
        "\n",
        "with open('/content/drive/My Drive/data/mpg.csv') as csvfile:\n",
        "    mpg = list(csv.DictReader(csvfile))\n",
        "    \n",
        "mpg[:3] # The first three dictionaries in our list."
      ],
      "execution_count": null,
      "outputs": []
    },
    {
      "cell_type": "markdown",
      "metadata": {
        "id": "1xwLTjEd0CoS"
      },
      "source": [
        "`csv.Dictreader` has read in each row of our csv file as a dictionary. `len` shows that our list is comprised of 234 dictionaries."
      ]
    },
    {
      "cell_type": "code",
      "metadata": {
        "id": "-DHWM1IS0CoT",
        "colab": {
          "base_uri": "https://localhost:8080/",
          "height": 34
        },
        "outputId": "600a7203-a8e9-4e3c-dd53-453a308694c4"
      },
      "source": [
        "len(mpg)"
      ],
      "execution_count": null,
      "outputs": [
        {
          "output_type": "execute_result",
          "data": {
            "text/plain": [
              "234"
            ]
          },
          "metadata": {
            "tags": []
          },
          "execution_count": 5
        }
      ]
    },
    {
      "cell_type": "markdown",
      "metadata": {
        "id": "J8FVUnSk0Cod"
      },
      "source": [
        "`keys` gives us the column names of our csv."
      ]
    },
    {
      "cell_type": "code",
      "metadata": {
        "id": "mA5QyREZ0CpA",
        "colab": {
          "base_uri": "https://localhost:8080/",
          "height": 54
        },
        "outputId": "f0e3f9c0-d4da-4e91-991d-3ab643cbd4f3"
      },
      "source": [
        "mpg[0].keys()"
      ],
      "execution_count": null,
      "outputs": [
        {
          "output_type": "execute_result",
          "data": {
            "text/plain": [
              "odict_keys(['', 'manufacturer', 'model', 'displ', 'year', 'cyl', 'trans', 'drv', 'cty', 'hwy', 'fl', 'class'])"
            ]
          },
          "metadata": {
            "tags": []
          },
          "execution_count": 6
        }
      ]
    },
    {
      "cell_type": "markdown",
      "metadata": {
        "id": "PesM4F-80CpU"
      },
      "source": [
        "This is how to find the average cty fuel economy across all cars. All values in the dictionaries are strings, so we need to convert to float."
      ]
    },
    {
      "cell_type": "code",
      "metadata": {
        "id": "cf8mh6dT0CpW"
      },
      "source": [
        "sum(float(d['cty']) for d in mpg) / len(mpg)"
      ],
      "execution_count": null,
      "outputs": []
    },
    {
      "cell_type": "markdown",
      "metadata": {
        "id": "xwbx0_xZ0Cpk"
      },
      "source": [
        "Similarly this is how to find the average hwy fuel economy across all cars."
      ]
    },
    {
      "cell_type": "code",
      "metadata": {
        "id": "n5lqhIyu0CqB"
      },
      "source": [
        "sum(float(d['hwy']) for d in mpg) / len(mpg)"
      ],
      "execution_count": null,
      "outputs": []
    },
    {
      "cell_type": "markdown",
      "metadata": {
        "id": "yaDBqqbM0CqT"
      },
      "source": [
        "Use `set` to return the unique values for the number of cylinders the cars in our dataset have."
      ]
    },
    {
      "cell_type": "code",
      "metadata": {
        "id": "e8GyLMAV0CqU"
      },
      "source": [
        "cylinders = set(d['cyl'] for d in mpg)\n",
        "cylinders"
      ],
      "execution_count": null,
      "outputs": []
    },
    {
      "cell_type": "markdown",
      "metadata": {
        "id": "0ONmdtH50Cqj"
      },
      "source": [
        "Here's a more complex example where we are grouping the cars by number of cylinder, and finding the average cty mpg for each group."
      ]
    },
    {
      "cell_type": "code",
      "metadata": {
        "id": "g5q385-Z0Cqk"
      },
      "source": [
        "CtyMpgByCyl = []\n",
        "\n",
        "for c in cylinders: # iterate over all the cylinder levels\n",
        "    summpg = 0\n",
        "    cyltypecount = 0\n",
        "    for d in mpg: # iterate over all dictionaries\n",
        "        if d['cyl'] == c: # if the cylinder level type matches,\n",
        "            summpg += float(d['cty']) # add the cty mpg\n",
        "            cyltypecount += 1 # increment the count\n",
        "    CtyMpgByCyl.append((c, summpg / cyltypecount)) # append the tuple ('cylinder', 'avg mpg')\n",
        "\n",
        "#a função lambda está fazendo papel de key.\n",
        "#uma key é uma função que dita como a lista é ordenada\n",
        "#no caso, o lambda indica que deve-se levar em consideração o primeiro valor para o sorting (e não o último, o mpg)\n",
        "#a key pode ser a posição do item a ser levado em conta, uma função len ou algo do tipo\n",
        "CtyMpgByCyl.sort(key=lambda x: x[0])\n",
        "CtyMpgByCyl"
      ],
      "execution_count": null,
      "outputs": []
    },
    {
      "cell_type": "markdown",
      "metadata": {
        "id": "2r1dK4h00CrI"
      },
      "source": [
        "Use `set` to return the unique values for the class types in our dataset."
      ]
    },
    {
      "cell_type": "code",
      "metadata": {
        "id": "9Uh-g8hz0CrJ"
      },
      "source": [
        "vehicleclass = set(d['class'] for d in mpg) # what are the class types\n",
        "vehicleclass"
      ],
      "execution_count": null,
      "outputs": []
    },
    {
      "cell_type": "markdown",
      "metadata": {
        "id": "oCnP5NR20CrY"
      },
      "source": [
        "And here's an example of how to find the average hwy mpg for each class of vehicle in our dataset."
      ]
    },
    {
      "cell_type": "code",
      "metadata": {
        "id": "47tFdJht0Crb"
      },
      "source": [
        "HwyMpgByClass = []\n",
        "\n",
        "for t in vehicleclass: # iterate over all the vehicle classes\n",
        "    summpg = 0\n",
        "    vclasscount = 0\n",
        "    for d in mpg: # iterate over all dictionaries\n",
        "        if d['class'] == t: # if the cylinder amount type matches,\n",
        "            summpg += float(d['hwy']) # add the hwy mpg\n",
        "            vclasscount += 1 # increment the count\n",
        "    HwyMpgByClass.append((t, summpg / vclasscount)) # append the tuple ('class', 'avg mpg')\n",
        "\n",
        "HwyMpgByClass.sort(key=lambda x: x[1])\n",
        "HwyMpgByClass"
      ],
      "execution_count": null,
      "outputs": []
    },
    {
      "cell_type": "markdown",
      "metadata": {
        "id": "1-DdsnmU0Crr"
      },
      "source": [
        "##The Python Programming Language: Dates and Times"
      ]
    },
    {
      "cell_type": "code",
      "metadata": {
        "id": "waylycPu0Crs"
      },
      "source": [
        "import datetime as dt\n",
        "import time as tm"
      ],
      "execution_count": null,
      "outputs": []
    },
    {
      "cell_type": "markdown",
      "metadata": {
        "id": "nCF1FOmd0Cr8"
      },
      "source": [
        "`time` returns the current time in seconds since the Epoch. (January 1st, 1970, 00:00:00 UTC)"
      ]
    },
    {
      "cell_type": "markdown",
      "metadata": {
        "id": "q7wenRy9QgU-"
      },
      "source": [
        "One of the most common legacy methods for storing the date and time in online transactions systems is based on the offset from the Epoch.\n",
        "\n",
        "[*Unix Time*](https://en.wikipedia.org/wiki/Unix_time)"
      ]
    },
    {
      "cell_type": "code",
      "metadata": {
        "id": "vJlfNsbP0Cr9"
      },
      "source": [
        "tm.time()\n",
        "\n",
        "print(\"Dias desde o The Epoch: {:.0f}\".format(tm.time()/(24*60*60)))"
      ],
      "execution_count": null,
      "outputs": []
    },
    {
      "cell_type": "markdown",
      "metadata": {
        "id": "BkDSE06m0Csq"
      },
      "source": [
        "<br>\n",
        "Convert the timestamp to datetime."
      ]
    },
    {
      "cell_type": "code",
      "metadata": {
        "id": "O6vwc8Zh0Csr"
      },
      "source": [
        "dtnow = dt.datetime.fromtimestamp(tm.time())\n",
        "dtnow"
      ],
      "execution_count": null,
      "outputs": []
    },
    {
      "cell_type": "markdown",
      "metadata": {
        "id": "xVTrjjkT0Cs4"
      },
      "source": [
        "<br>\n",
        "Handy datetime attributes:"
      ]
    },
    {
      "cell_type": "code",
      "metadata": {
        "id": "Gsk6FY2s0Cs8"
      },
      "source": [
        "dtnow.year, dtnow.month, dtnow.day, dtnow.hour, dtnow.minute, dtnow.second # get year, month, day, etc.from a datetime"
      ],
      "execution_count": null,
      "outputs": []
    },
    {
      "cell_type": "markdown",
      "metadata": {
        "id": "5Nqpjc0v0CtM"
      },
      "source": [
        "`timedelta` is a duration expressing the difference between two dates."
      ]
    },
    {
      "cell_type": "code",
      "metadata": {
        "id": "l4WLjzAE0CtU"
      },
      "source": [
        "delta = dt.timedelta(days = 100) # create a timedelta of 100 days\n",
        "delta"
      ],
      "execution_count": null,
      "outputs": []
    },
    {
      "cell_type": "markdown",
      "metadata": {
        "id": "Z9SSYoG30Ctf"
      },
      "source": [
        "`date.today` returns the current local date."
      ]
    },
    {
      "cell_type": "code",
      "metadata": {
        "id": "7OaofDLG0Ctl"
      },
      "source": [
        "today = dt.date.today()"
      ],
      "execution_count": null,
      "outputs": []
    },
    {
      "cell_type": "code",
      "metadata": {
        "id": "XFpceapl0Ctu"
      },
      "source": [
        "today - delta # the date 100 days ago"
      ],
      "execution_count": null,
      "outputs": []
    },
    {
      "cell_type": "code",
      "metadata": {
        "id": "IFgAVuBg0Ct2"
      },
      "source": [
        "today > today-delta # compare dates"
      ],
      "execution_count": null,
      "outputs": []
    },
    {
      "cell_type": "markdown",
      "metadata": {
        "id": "4Uq8wC7v0CuC"
      },
      "source": [
        "##The Python Programming Language: Objects and map()"
      ]
    },
    {
      "cell_type": "markdown",
      "metadata": {
        "id": "SLYL4MTM0CuD"
      },
      "source": [
        "<br>\n",
        "An example of a class in python:"
      ]
    },
    {
      "cell_type": "code",
      "metadata": {
        "id": "r8GYKqq70CuF"
      },
      "source": [
        "class Person:\n",
        "    department = 'School of Information' #a class variable\n",
        "\n",
        "    def set_name(self, new_name): #a method\n",
        "        self.name = new_name\n",
        "    def set_location(self, new_location):\n",
        "        self.location = new_location"
      ],
      "execution_count": null,
      "outputs": []
    },
    {
      "cell_type": "code",
      "metadata": {
        "id": "ef-2vagO0CuO"
      },
      "source": [
        "person = Person()\n",
        "person.set_name('Christopher Brooks')\n",
        "person.set_location('Ann Arbor, MI, USA')\n",
        "print('{} live in {} and works in the department {}'.format(person.name, person.location, person.department))"
      ],
      "execution_count": null,
      "outputs": []
    },
    {
      "cell_type": "markdown",
      "metadata": {
        "id": "P-re0CHbTcEB"
      },
      "source": [
        "`map(function, iterable)` return an iterator that applies *function* to every item of *iterable*, yielding the results. If additional *iterable* arguments are passed, *function* must take that many arguments and is applied to the items from all iterables in parallel. With multiple iterables, the iterator stops when the shortest iterable is exhausted."
      ]
    },
    {
      "cell_type": "code",
      "metadata": {
        "id": "gDotPwa8VfT8"
      },
      "source": [
        "###Problem:\n",
        "#Can you write a function and apply it using map() to get a list of all faculty titles\n",
        "#and last names (e.g. ['Dr. Brooks', 'Dr. Collins-Thompson', …]) ?\n",
        "\n",
        "%%timeit\n",
        "people = ['Dr. Christopher Brooks', 'Dr. Kevyn Collins-Thompson', 'Dr. VG Vinod Vydiswaran', 'Dr. Daniel Romero']\n",
        "\n",
        "def split_title_and_name(person):\n",
        "    lista_nome = person.split(' ')\n",
        "    titulo = \"{} {}\".format(lista_nome[0], lista_nome[-1])\n",
        "    return titulo\n",
        "\n",
        "list(map(split_title_and_name, people))"
      ],
      "execution_count": null,
      "outputs": []
    },
    {
      "cell_type": "code",
      "metadata": {
        "id": "SanLdan3VtnX"
      },
      "source": [
        "#Other way to solve the problem:\n",
        "\n",
        "%%timeit\n",
        "people = ['Dr. Christopher Brooks', 'Dr. Kevyn Collins-Thompson', 'Dr. VG Vinod Vydiswaran', 'Dr. Daniel Romero']\n",
        "\n",
        "def split_title_and_name(person):\n",
        "    title = person.split()[0]\n",
        "    lastname = person.split()[-1]\n",
        "    return '{} {}'.format(title, lastname)\n",
        "\n",
        "list(map(split_title_and_name, people))\n"
      ],
      "execution_count": null,
      "outputs": []
    },
    {
      "cell_type": "markdown",
      "metadata": {
        "id": "grC9IcCK0CuW"
      },
      "source": [
        "Here's an example of mapping the `min` function between two lists."
      ]
    },
    {
      "cell_type": "code",
      "metadata": {
        "id": "jbtKwpb30CuX"
      },
      "source": [
        "store1 = [10.00, 11.00, 12.34, 2.34]\n",
        "store2 = [9.00, 11.10, 12.34, 2.01]\n",
        "cheapest = map(min, store1, store2)\n",
        "cheapest"
      ],
      "execution_count": null,
      "outputs": []
    },
    {
      "cell_type": "markdown",
      "metadata": {
        "id": "oZyDis2r0Cuo"
      },
      "source": [
        "<br>\n",
        "Now let's iterate through the map object to see the values."
      ]
    },
    {
      "cell_type": "code",
      "metadata": {
        "scrolled": true,
        "id": "nvloFtfP0Cus"
      },
      "source": [
        "for item in cheapest:\n",
        "    print(item)"
      ],
      "execution_count": null,
      "outputs": []
    },
    {
      "cell_type": "markdown",
      "metadata": {
        "id": "WnVCkTMz0Cuz"
      },
      "source": [
        "##The Python Programming Language: Lambda and List Comprehensions"
      ]
    },
    {
      "cell_type": "markdown",
      "metadata": {
        "id": "UnPOMuu80Cu0"
      },
      "source": [
        "<br>\n",
        "Here's an example of lambda that takes in three parameters and adds the first two."
      ]
    },
    {
      "cell_type": "code",
      "metadata": {
        "id": "1F6ASbWV0Cu-"
      },
      "source": [
        "my_function = lambda a, b, c : a + b"
      ],
      "execution_count": null,
      "outputs": []
    },
    {
      "cell_type": "code",
      "metadata": {
        "id": "rweXrUg60CvI"
      },
      "source": [
        "my_function(1, 2, 3)"
      ],
      "execution_count": null,
      "outputs": []
    },
    {
      "cell_type": "code",
      "metadata": {
        "id": "r9jyi11mXoyi"
      },
      "source": [
        "people = ['Dr. Christopher Brooks', 'Dr. Kevyn Collins-Thompson', 'Dr. VG Vinod Vydiswaran', 'Dr. Daniel Romero']\n",
        "\n",
        "for person in people:\n",
        "    print((lambda x: x.split()[0] + ' ' + x.split()[-1])(person))"
      ],
      "execution_count": null,
      "outputs": []
    },
    {
      "cell_type": "markdown",
      "metadata": {
        "id": "_iIiOb0Y0Cvv"
      },
      "source": [
        "<br>\n",
        "Let's iterate from 0 to 999 and return the even numbers."
      ]
    },
    {
      "cell_type": "code",
      "metadata": {
        "id": "u4kNxlg50Cvy"
      },
      "source": [
        "my_list = []\n",
        "for number in range(0, 1000):\n",
        "    if number % 2 == 0:\n",
        "        my_list.append(number)\n",
        "my_list"
      ],
      "execution_count": null,
      "outputs": []
    },
    {
      "cell_type": "markdown",
      "metadata": {
        "id": "UmZY3Hnp0Cv7"
      },
      "source": [
        "<br>\n",
        "Now the same thing but with list comprehension."
      ]
    },
    {
      "cell_type": "code",
      "metadata": {
        "id": "4SShBXnc0Cv_"
      },
      "source": [
        "my_list = [number for number in range(0,1000) if number % 2 == 0]\n",
        "my_list"
      ],
      "execution_count": null,
      "outputs": []
    },
    {
      "cell_type": "code",
      "metadata": {
        "id": "rckIlES7cn5O"
      },
      "source": [
        "lst1 = []\n",
        "for i in range(10):\n",
        "    for j in range (10):\n",
        "        lst1.append(i*j)\n",
        "\n",
        "lst2 = [i*j for i in range(10) for j in range(10)]\n",
        "\n",
        "print(lst1 == lst2)"
      ],
      "execution_count": null,
      "outputs": []
    },
    {
      "cell_type": "markdown",
      "metadata": {
        "id": "qbpfK1LadCkF"
      },
      "source": [
        "Many organizations have user ids which are constrained in some way. Imagine you work at an internet service provider and the user ids are all two letters followed by two numbers (e.g. aa49). Your task at such an organization might be to hold a record on the billing activity for each possible user.\n",
        "\n",
        "Write an initialization line as a single list comprehension which creates a list of all possible user ids. Assume the letters are all lower case."
      ]
    },
    {
      "cell_type": "code",
      "metadata": {
        "id": "FBlbj87ddEtg"
      },
      "source": [
        "#achar tdas as combinações de login possíveis\n",
        "#id:        [letra][letra][numero][numero]  ex: aa87\n",
        "#combs:     [24][24][10][10]\n",
        "\n",
        "lowercase = 'abcdefghijklmnopqrstuvwxyz'\n",
        "digits = '0123456789'\n",
        "\n",
        "combinacoes = [\"{}{}{}{}\".format(letra1, letra2, num1, num2) for letra1 in lowercase\n",
        "                for letra2 in lowercase for num1 in digits for num2 in digits]\n",
        "\n",
        "###versão compacta:\n",
        "#correct_answer = [a+b+c+d for a in lowercase for b in lowercase for c in digits for d in digits]\n",
        "\n",
        "print(combinacoes[:25])\n",
        "print(len(combinacoes) == (len(lowercase)**2)*(len(digits)**2))"
      ],
      "execution_count": null,
      "outputs": []
    },
    {
      "cell_type": "markdown",
      "metadata": {
        "collapsed": true,
        "id": "fZoml8Jq0CwL"
      },
      "source": [
        "##The Python Programming Language: Numerical Python (NumPy)"
      ]
    },
    {
      "cell_type": "code",
      "metadata": {
        "id": "O4GminN60CwM"
      },
      "source": [
        "import numpy as np"
      ],
      "execution_count": null,
      "outputs": []
    },
    {
      "cell_type": "code",
      "metadata": {
        "id": "1O4Eamp50Jqn"
      },
      "source": [
        ""
      ],
      "execution_count": null,
      "outputs": []
    },
    {
      "cell_type": "markdown",
      "metadata": {
        "id": "eiWQZshm0CwY"
      },
      "source": [
        "### Creating Arrays"
      ]
    },
    {
      "cell_type": "code",
      "metadata": {
        "id": "v6MmCHtBw9iz"
      },
      "source": [
        "#array[linha, coluna]\n",
        "#array[  i  ,   j   ]\n",
        "\n",
        "#array[        i      ,        j       ]\n",
        "#array[start:stop:step, start:stop:step]\n",
        "#array[start:stop     , start:Stop     ]\n",
        "\n",
        "#no i é pego do array as linhas inteiras. No j é pego as colunas.\n",
        "\n",
        "#o valor do stop não é inclusivo.\n",
        "#se estiver array[2:4, 1:5] será pego as linhas de 2 a 4 (2 e 3)\n",
        "                            #e os valores das colunas de 1 a 5 (1, 2, 3 e 4)"
      ],
      "execution_count": null,
      "outputs": []
    },
    {
      "cell_type": "markdown",
      "metadata": {
        "id": "TCgN9KcL0Cwb"
      },
      "source": [
        "Create a list and convert it to a numpy array"
      ]
    },
    {
      "cell_type": "code",
      "metadata": {
        "id": "CHq5Vpd40Cwd"
      },
      "source": [
        "mylist = [1, 2, 3]\n",
        "x = np.array(mylist)\n",
        "x"
      ],
      "execution_count": null,
      "outputs": []
    },
    {
      "cell_type": "markdown",
      "metadata": {
        "id": "FjwYiYc60Cwn"
      },
      "source": [
        "<br>\n",
        "Or just pass in a list directly"
      ]
    },
    {
      "cell_type": "code",
      "metadata": {
        "id": "giuJ1gFL0Cwy"
      },
      "source": [
        "y = np.array([4, 5, 6])\n",
        "y"
      ],
      "execution_count": null,
      "outputs": []
    },
    {
      "cell_type": "markdown",
      "metadata": {
        "id": "-uUjk3SG0CxS"
      },
      "source": [
        "<br>\n",
        "Pass in a list of lists to create a multidimensional array."
      ]
    },
    {
      "cell_type": "code",
      "metadata": {
        "id": "xZC7VQBA0CxT"
      },
      "source": [
        "#multidimensional array\n",
        "m = np.array([[7, 8, 9], [10, 11, 12]])\n",
        "m"
      ],
      "execution_count": null,
      "outputs": []
    },
    {
      "cell_type": "markdown",
      "metadata": {
        "id": "pJOBReRz0Cxj"
      },
      "source": [
        "<br>\n",
        "Use the shape method to find the dimensions of the array. (rows, columns)"
      ]
    },
    {
      "cell_type": "code",
      "metadata": {
        "id": "cHB8CKLT0Cxk"
      },
      "source": [
        "m.shape"
      ],
      "execution_count": null,
      "outputs": []
    },
    {
      "cell_type": "markdown",
      "metadata": {
        "id": "aq6JMo9m0Cxr"
      },
      "source": [
        "`arange` returns evenly spaced values within a given interval."
      ]
    },
    {
      "cell_type": "code",
      "metadata": {
        "id": "-_diUqrA0Cxs"
      },
      "source": [
        "n = np.arange(0, 30, 2) # start at 0 count up by 2, stop before 30\n",
        "n"
      ],
      "execution_count": null,
      "outputs": []
    },
    {
      "cell_type": "markdown",
      "metadata": {
        "id": "VFwk7TnA0Cx8"
      },
      "source": [
        "`reshape` returns an array with the same data with a new shape."
      ]
    },
    {
      "cell_type": "code",
      "metadata": {
        "id": "Ni3XAYWh0Cx9"
      },
      "source": [
        "n = n.reshape(3, 5) # reshape array to be 3x5\n",
        "n"
      ],
      "execution_count": null,
      "outputs": []
    },
    {
      "cell_type": "markdown",
      "metadata": {
        "id": "W6J9gkXX0CyH"
      },
      "source": [
        "`linspace` returns evenly spaced numbers over a specified interval."
      ]
    },
    {
      "cell_type": "code",
      "metadata": {
        "id": "tpZTB6Kt0CyI"
      },
      "source": [
        "o = np.linspace(0, 4, 9) # return 9 evenly spaced values from 0 to 4\n",
        "o"
      ],
      "execution_count": null,
      "outputs": []
    },
    {
      "cell_type": "markdown",
      "metadata": {
        "id": "j-PW49WE0CyU"
      },
      "source": [
        "`resize` changes the shape and size of array in-place."
      ]
    },
    {
      "cell_type": "code",
      "metadata": {
        "id": "S3RqV0dP0CyV"
      },
      "source": [
        "o.resize(3, 3)\n",
        "o"
      ],
      "execution_count": null,
      "outputs": []
    },
    {
      "cell_type": "markdown",
      "metadata": {
        "id": "q5StoiVO0Cyc"
      },
      "source": [
        "`ones` returns a new array of given shape and type, filled with ones."
      ]
    },
    {
      "cell_type": "code",
      "metadata": {
        "id": "cwcWWOBz0Cyd"
      },
      "source": [
        "np.ones((3, 2))"
      ],
      "execution_count": null,
      "outputs": []
    },
    {
      "cell_type": "markdown",
      "metadata": {
        "id": "miRv0LbQ0Cyo"
      },
      "source": [
        "`zeros` returns a new array of given shape and type, filled with zeros."
      ]
    },
    {
      "cell_type": "code",
      "metadata": {
        "id": "bII6_yWg0Cyp"
      },
      "source": [
        "np.zeros((2, 3))"
      ],
      "execution_count": null,
      "outputs": []
    },
    {
      "cell_type": "markdown",
      "metadata": {
        "id": "R5GwOIsw0Cyv"
      },
      "source": [
        "`eye` returns a 2-D array with ones on the diagonal and zeros elsewhere."
      ]
    },
    {
      "cell_type": "code",
      "metadata": {
        "id": "g-bw830o0Cyx"
      },
      "source": [
        "np.eye(3)"
      ],
      "execution_count": null,
      "outputs": []
    },
    {
      "cell_type": "markdown",
      "metadata": {
        "id": "dEiS2Fc40Cy-"
      },
      "source": [
        "`diag` extracts a diagonal or constructs a diagonal array."
      ]
    },
    {
      "cell_type": "code",
      "metadata": {
        "id": "CXmZbrqp0CzA"
      },
      "source": [
        "np.diag(y)"
      ],
      "execution_count": null,
      "outputs": []
    },
    {
      "cell_type": "markdown",
      "metadata": {
        "id": "fJI-ONx80CzK"
      },
      "source": [
        "Create an array using repeating list (or see `np.tile`)"
      ]
    },
    {
      "cell_type": "code",
      "metadata": {
        "id": "U4wei20U0CzL",
        "colab": {
          "base_uri": "https://localhost:8080/",
          "height": 34
        },
        "outputId": "f68bcc13-230a-4099-ebfc-9fbca83f5945"
      },
      "source": [
        "np.array([1, 2, 3] * 3)"
      ],
      "execution_count": null,
      "outputs": [
        {
          "output_type": "execute_result",
          "data": {
            "text/plain": [
              "array([1, 2, 3, 1, 2, 3, 1, 2, 3])"
            ]
          },
          "metadata": {
            "tags": []
          },
          "execution_count": 120
        }
      ]
    },
    {
      "cell_type": "markdown",
      "metadata": {
        "id": "ySDRUJkC0Cze"
      },
      "source": [
        "Repeat elements of an array using `repeat`."
      ]
    },
    {
      "cell_type": "code",
      "metadata": {
        "id": "Z_WkORfq0Czf"
      },
      "source": [
        "np.repeat([1, 2, 3], 3)"
      ],
      "execution_count": null,
      "outputs": []
    },
    {
      "cell_type": "markdown",
      "metadata": {
        "id": "hZ6d6_Gb0Cz6"
      },
      "source": [
        "#### Combining Arrays"
      ]
    },
    {
      "cell_type": "code",
      "metadata": {
        "id": "vuQgaAGK0Cz7"
      },
      "source": [
        "p = np.ones([2, 3], int)\n",
        "p"
      ],
      "execution_count": null,
      "outputs": []
    },
    {
      "cell_type": "markdown",
      "metadata": {
        "id": "aBOI_E5K0C0D"
      },
      "source": [
        "Use `vstack` to stack arrays in sequence vertically (row wise)."
      ]
    },
    {
      "cell_type": "code",
      "metadata": {
        "id": "FoBKnGcZ0C0G"
      },
      "source": [
        "np.vstack([p, 2*p])"
      ],
      "execution_count": null,
      "outputs": []
    },
    {
      "cell_type": "markdown",
      "metadata": {
        "id": "O524m5Kk0C0Q"
      },
      "source": [
        "Use `hstack` to stack arrays in sequence horizontally (column wise)."
      ]
    },
    {
      "cell_type": "code",
      "metadata": {
        "id": "5T81rxhk0C0R"
      },
      "source": [
        "np.hstack([p, 2*p])"
      ],
      "execution_count": null,
      "outputs": []
    },
    {
      "cell_type": "markdown",
      "metadata": {
        "id": "BEA6Xv5K0C0c"
      },
      "source": [
        "### Operations"
      ]
    },
    {
      "cell_type": "markdown",
      "metadata": {
        "id": "OoRVgUIh0C0d"
      },
      "source": [
        "Use `+`, `-`, `*`, `/` and `**` to perform element wise addition, subtraction, multiplication, division and power."
      ]
    },
    {
      "cell_type": "code",
      "metadata": {
        "id": "KMBFxzV_0C0f"
      },
      "source": [
        "print(x + y) # elementwise addition     [1 2 3] + [4 5 6] = [5  7  9]\n",
        "print(x - y) # elementwise subtraction  [1 2 3] - [4 5 6] = [-3 -3 -3]"
      ],
      "execution_count": null,
      "outputs": []
    },
    {
      "cell_type": "code",
      "metadata": {
        "id": "aS1VjlDy0C0l"
      },
      "source": [
        "print(x * y) # elementwise multiplication  [1 2 3] * [4 5 6] = [4  10  18]\n",
        "print(x / y) # elementwise divison         [1 2 3] / [4 5 6] = [0.25  0.4  0.5]"
      ],
      "execution_count": null,
      "outputs": []
    },
    {
      "cell_type": "code",
      "metadata": {
        "id": "Uon2pC6S0C0t"
      },
      "source": [
        "print(x**2) # elementwise power  [1 2 3] ^2 =  [1 4 9]"
      ],
      "execution_count": null,
      "outputs": []
    },
    {
      "cell_type": "markdown",
      "metadata": {
        "id": "ynxPb4VI0C01"
      },
      "source": [
        "**Dot Product:**  \n",
        "\n",
        "$ \\begin{bmatrix}x_1 \\ x_2 \\ x_3\\end{bmatrix}\n",
        "\\cdot\n",
        "\\begin{bmatrix}y_1 \\\\ y_2 \\\\ y_3\\end{bmatrix}\n",
        "= x_1 y_1 + x_2 y_2 + x_3 y_3$"
      ]
    },
    {
      "cell_type": "code",
      "metadata": {
        "id": "odKXfGzj0C02"
      },
      "source": [
        "x.dot(y) # dot product  1*4 + 2*5 + 3*6"
      ],
      "execution_count": null,
      "outputs": []
    },
    {
      "cell_type": "code",
      "metadata": {
        "id": "Fcf2KN_H0C0-"
      },
      "source": [
        "z = np.array([y, y**2])\n",
        "print(len(z)) # number of rows of array"
      ],
      "execution_count": null,
      "outputs": []
    },
    {
      "cell_type": "markdown",
      "metadata": {
        "id": "pMr93ViE0C1E"
      },
      "source": [
        "<br>\n",
        "Let's look at transposing arrays. Transposing permutes the dimensions of the array."
      ]
    },
    {
      "cell_type": "code",
      "metadata": {
        "id": "Pf_Ce9qO0C1F"
      },
      "source": [
        "z = np.array([y, y**2])\n",
        "z"
      ],
      "execution_count": null,
      "outputs": []
    },
    {
      "cell_type": "markdown",
      "metadata": {
        "id": "GCOzNlYj0C1O"
      },
      "source": [
        "The shape of array `z` is `(2,3)` before transposing."
      ]
    },
    {
      "cell_type": "code",
      "metadata": {
        "id": "VddLZI2W0C1P"
      },
      "source": [
        "z.shape"
      ],
      "execution_count": null,
      "outputs": []
    },
    {
      "cell_type": "markdown",
      "metadata": {
        "id": "YcgLK5Lc0C1Z"
      },
      "source": [
        "Use `.T` to get the transpose."
      ]
    },
    {
      "cell_type": "code",
      "metadata": {
        "id": "ypcThcSD0C1a"
      },
      "source": [
        "z.T"
      ],
      "execution_count": null,
      "outputs": []
    },
    {
      "cell_type": "markdown",
      "metadata": {
        "id": "fV8LWUiI0C1n"
      },
      "source": [
        "<br>\n",
        "The number of rows has swapped with the number of columns."
      ]
    },
    {
      "cell_type": "code",
      "metadata": {
        "id": "rHX6Tdhr0C1o"
      },
      "source": [
        "z.T.shape"
      ],
      "execution_count": null,
      "outputs": []
    },
    {
      "cell_type": "markdown",
      "metadata": {
        "id": "hnBMvQic0C12"
      },
      "source": [
        "Use `.dtype` to see the data type of the elements in the array."
      ]
    },
    {
      "cell_type": "code",
      "metadata": {
        "id": "UuKUv7Df0C2L"
      },
      "source": [
        "z.dtype"
      ],
      "execution_count": null,
      "outputs": []
    },
    {
      "cell_type": "markdown",
      "metadata": {
        "id": "DMdVNgC10C2c"
      },
      "source": [
        "Use `.astype` to cast to a specific type."
      ]
    },
    {
      "cell_type": "code",
      "metadata": {
        "id": "doYR1JEs0C2f"
      },
      "source": [
        "z = z.astype('f')\n",
        "z.dtype"
      ],
      "execution_count": null,
      "outputs": []
    },
    {
      "cell_type": "markdown",
      "metadata": {
        "id": "q-BkUFZE0C2k"
      },
      "source": [
        "### Math Functions"
      ]
    },
    {
      "cell_type": "markdown",
      "metadata": {
        "id": "a5uaRk-b0C2l"
      },
      "source": [
        "Numpy has many built in math functions that can be performed on arrays."
      ]
    },
    {
      "cell_type": "code",
      "metadata": {
        "id": "DaQd7y4k0C2m"
      },
      "source": [
        "a = np.array([-4, -2, 1, 3, 5])"
      ],
      "execution_count": null,
      "outputs": []
    },
    {
      "cell_type": "code",
      "metadata": {
        "id": "UvVJRs0x0C2s"
      },
      "source": [
        "a.sum()"
      ],
      "execution_count": null,
      "outputs": []
    },
    {
      "cell_type": "code",
      "metadata": {
        "id": "oluFQCtO0C2z"
      },
      "source": [
        "a.max()"
      ],
      "execution_count": null,
      "outputs": []
    },
    {
      "cell_type": "code",
      "metadata": {
        "id": "k5RhqSEU0C24"
      },
      "source": [
        "a.min()"
      ],
      "execution_count": null,
      "outputs": []
    },
    {
      "cell_type": "code",
      "metadata": {
        "id": "y4B9XMpB0C3B"
      },
      "source": [
        "a.mean()"
      ],
      "execution_count": null,
      "outputs": []
    },
    {
      "cell_type": "code",
      "metadata": {
        "id": "g7wppVq60C3H"
      },
      "source": [
        "#desvio padrão (standard deviation)\n",
        "a.std()"
      ],
      "execution_count": null,
      "outputs": []
    },
    {
      "cell_type": "markdown",
      "metadata": {
        "id": "itqxyZPF0C3U"
      },
      "source": [
        "`argmax` and `argmin` return the index of the maximum and minimum values in the array."
      ]
    },
    {
      "cell_type": "code",
      "metadata": {
        "id": "8zdRvYkE0C3V"
      },
      "source": [
        "a.argmax()"
      ],
      "execution_count": null,
      "outputs": []
    },
    {
      "cell_type": "code",
      "metadata": {
        "id": "0sioZ0D20C3a"
      },
      "source": [
        "a.argmin()"
      ],
      "execution_count": null,
      "outputs": []
    },
    {
      "cell_type": "markdown",
      "metadata": {
        "id": "aVWaLpeV0C4s"
      },
      "source": [
        "### Indexing / Slicing"
      ]
    },
    {
      "cell_type": "code",
      "metadata": {
        "id": "g2LsaR4w0C4t"
      },
      "source": [
        "s = np.arange(13)**2\n",
        "s"
      ],
      "execution_count": null,
      "outputs": []
    },
    {
      "cell_type": "markdown",
      "metadata": {
        "id": "XiTo3CIn0C4z"
      },
      "source": [
        "<br>\n",
        "Use bracket notation to get the value at a specific index. Remember that indexing starts at 0."
      ]
    },
    {
      "cell_type": "code",
      "metadata": {
        "id": "ofQRchYg0C42"
      },
      "source": [
        "s[0], s[4], s[-1]"
      ],
      "execution_count": null,
      "outputs": []
    },
    {
      "cell_type": "markdown",
      "metadata": {
        "id": "yambtQSQ0C47"
      },
      "source": [
        "Use `:` to indicate a range. `array[start:stop]`\n",
        "\n",
        "\n",
        "Leaving `start` or `stop` empty will default to the beginning/end of the array."
      ]
    },
    {
      "cell_type": "code",
      "metadata": {
        "id": "wHwWD9BT0C48"
      },
      "source": [
        "s[1:5]"
      ],
      "execution_count": null,
      "outputs": []
    },
    {
      "cell_type": "markdown",
      "metadata": {
        "id": "z2DcizIn0C5H"
      },
      "source": [
        "<br>\n",
        "Use negatives to count from the back."
      ]
    },
    {
      "cell_type": "code",
      "metadata": {
        "id": "P7enk8c40C5I"
      },
      "source": [
        "s[-4:]"
      ],
      "execution_count": null,
      "outputs": []
    },
    {
      "cell_type": "markdown",
      "metadata": {
        "id": "0yFsEkBS0C5Q"
      },
      "source": [
        "A second `:` can be used to indicate step-size. `array[start:stop:stepsize]`\n",
        "\n",
        "Here we are starting 5th element from the end, and counting backwards by 2 until the beginning of the array is reached."
      ]
    },
    {
      "cell_type": "code",
      "metadata": {
        "id": "hQ3v5yfX0C5T"
      },
      "source": [
        "s[-5::-2]"
      ],
      "execution_count": null,
      "outputs": []
    },
    {
      "cell_type": "markdown",
      "metadata": {
        "id": "3iPgZESI0C5a"
      },
      "source": [
        "<br>\n",
        "Let's look at a multidimensional array."
      ]
    },
    {
      "cell_type": "code",
      "metadata": {
        "id": "DLx1At8Z0C5b"
      },
      "source": [
        "r = np.arange(36)\n",
        "r.resize((6, 6))\n",
        "r"
      ],
      "execution_count": null,
      "outputs": []
    },
    {
      "cell_type": "markdown",
      "metadata": {
        "id": "ROFJzTJK0C5h"
      },
      "source": [
        "Use bracket notation to slice: `array[row, column]`"
      ]
    },
    {
      "cell_type": "code",
      "metadata": {
        "id": "BJh1Gupj0C5-"
      },
      "source": [
        "r[2, 2]"
      ],
      "execution_count": null,
      "outputs": []
    },
    {
      "cell_type": "markdown",
      "metadata": {
        "id": "iJzajLHd0C6F"
      },
      "source": [
        "<br>\n",
        "And use : to select a range of rows or columns"
      ]
    },
    {
      "cell_type": "code",
      "metadata": {
        "id": "Sra5SoB20C6K"
      },
      "source": [
        "r[3, 3:6]"
      ],
      "execution_count": null,
      "outputs": []
    },
    {
      "cell_type": "markdown",
      "metadata": {
        "id": "xvebr1uC0C6g"
      },
      "source": [
        "<br>\n",
        "Here we are selecting all the rows up to (and not including) row 2, and all the columns up to (and not including) the last column."
      ]
    },
    {
      "cell_type": "code",
      "metadata": {
        "id": "q60wqlq60C6h"
      },
      "source": [
        "r[:2, :-1]"
      ],
      "execution_count": null,
      "outputs": []
    },
    {
      "cell_type": "markdown",
      "metadata": {
        "id": "OqdwHVLn0C6r"
      },
      "source": [
        "<br>\n",
        "This is a slice of the last row, and only every other element."
      ]
    },
    {
      "cell_type": "code",
      "metadata": {
        "id": "J31FCMLF0C6s"
      },
      "source": [
        "r[-1, ::2]"
      ],
      "execution_count": null,
      "outputs": []
    },
    {
      "cell_type": "markdown",
      "metadata": {
        "id": "rwQ4_pLo0C6y"
      },
      "source": [
        "<br>\n",
        "We can also perform conditional indexing. Here we are selecting values from the array that are greater than 30. (Also see `np.where`)"
      ]
    },
    {
      "cell_type": "code",
      "metadata": {
        "id": "Q9cOjHr_0C6z"
      },
      "source": [
        "r[r > 30]"
      ],
      "execution_count": null,
      "outputs": []
    },
    {
      "cell_type": "markdown",
      "metadata": {
        "id": "_vXwuFvd0C69"
      },
      "source": [
        "<br>\n",
        "Here we are assigning all values in the array that are greater than 30 to the value of 30."
      ]
    },
    {
      "cell_type": "code",
      "metadata": {
        "id": "-tNsDIn-0C6-"
      },
      "source": [
        "r[r > 30] = 30\n",
        "r"
      ],
      "execution_count": null,
      "outputs": []
    },
    {
      "cell_type": "markdown",
      "metadata": {
        "id": "mlVgocwN0C7c"
      },
      "source": [
        "### Copying Data"
      ]
    },
    {
      "cell_type": "markdown",
      "metadata": {
        "id": "15jbdwpFO8Nn"
      },
      "source": [
        ""
      ]
    },
    {
      "cell_type": "markdown",
      "metadata": {
        "id": "6h3uoFUL0C7d"
      },
      "source": [
        "Be careful with copying and modifying arrays in NumPy!\n",
        "\n",
        "\n",
        "`r2` is a slice of `r`"
      ]
    },
    {
      "cell_type": "code",
      "metadata": {
        "id": "tiYFEnLG0C7e"
      },
      "source": [
        "r2 = r[:3,:3]\n",
        "r2"
      ],
      "execution_count": null,
      "outputs": []
    },
    {
      "cell_type": "markdown",
      "metadata": {
        "id": "qn1Hpo2k0C7u"
      },
      "source": [
        "Set this slice's values to zero ([:] selects the entire array)"
      ]
    },
    {
      "cell_type": "code",
      "metadata": {
        "id": "n9C-9WKR0C7v"
      },
      "source": [
        "r2[:] = 0\n",
        "r2"
      ],
      "execution_count": null,
      "outputs": []
    },
    {
      "cell_type": "markdown",
      "metadata": {
        "id": "i-XtkoDT0C8C"
      },
      "source": [
        "`r` has also been changed!"
      ]
    },
    {
      "cell_type": "code",
      "metadata": {
        "id": "YZy8Sd1p0C8D"
      },
      "source": [
        "r"
      ],
      "execution_count": null,
      "outputs": []
    },
    {
      "cell_type": "markdown",
      "metadata": {
        "id": "a-fF42n80C8P"
      },
      "source": [
        "To avoid this, use `r.copy` to create a copy that will not affect the original array"
      ]
    },
    {
      "cell_type": "code",
      "metadata": {
        "id": "ySAGgPn40C8P"
      },
      "source": [
        "r_copy = r.copy()\n",
        "r_copy"
      ],
      "execution_count": null,
      "outputs": []
    },
    {
      "cell_type": "markdown",
      "metadata": {
        "id": "2NV-bpLN0C8V"
      },
      "source": [
        "<br>\n",
        "Now when r_copy is modified, r will not be changed."
      ]
    },
    {
      "cell_type": "code",
      "metadata": {
        "id": "X0HMuKGR0C8W"
      },
      "source": [
        "r_copy[:] = 10\n",
        "print(r_copy, '\\n')\n",
        "print(r)"
      ],
      "execution_count": null,
      "outputs": []
    },
    {
      "cell_type": "markdown",
      "metadata": {
        "id": "RFjtraIf0C8g"
      },
      "source": [
        "#### Iterating Over Arrays"
      ]
    },
    {
      "cell_type": "markdown",
      "metadata": {
        "id": "M_Vqu03-0C8h"
      },
      "source": [
        "Let's create a new 4 by 3 array of random numbers 0-9."
      ]
    },
    {
      "cell_type": "code",
      "metadata": {
        "id": "L5v-k6Wd0C8i"
      },
      "source": [
        "test = np.random.randint(0, 10, (4,3))\n",
        "test"
      ],
      "execution_count": null,
      "outputs": []
    },
    {
      "cell_type": "markdown",
      "metadata": {
        "id": "sYlxqg2Z0C8o"
      },
      "source": [
        "<br>\n",
        "Iterate by row:"
      ]
    },
    {
      "cell_type": "code",
      "metadata": {
        "id": "b0BNFWLN0C8p"
      },
      "source": [
        "for row in test:\n",
        "    print(row)"
      ],
      "execution_count": null,
      "outputs": []
    },
    {
      "cell_type": "markdown",
      "metadata": {
        "id": "JanPqqRW0C8z"
      },
      "source": [
        "<br>\n",
        "Iterate by index:"
      ]
    },
    {
      "cell_type": "code",
      "metadata": {
        "id": "L0GExGK_0C80"
      },
      "source": [
        "for i in range(len(test)):\n",
        "    print(test[i])"
      ],
      "execution_count": null,
      "outputs": []
    },
    {
      "cell_type": "markdown",
      "metadata": {
        "id": "TmfZ8Dyq0C9B"
      },
      "source": [
        "<br>\n",
        "Iterate by row and index:"
      ]
    },
    {
      "cell_type": "code",
      "metadata": {
        "id": "R0eHbdNT0C9C"
      },
      "source": [
        "for i, row in enumerate(test):\n",
        "    print('row', i, 'is', row)"
      ],
      "execution_count": null,
      "outputs": []
    },
    {
      "cell_type": "markdown",
      "metadata": {
        "id": "yvawK3sa0C9I"
      },
      "source": [
        "Use `zip` to iterate over multiple iterables."
      ]
    },
    {
      "cell_type": "code",
      "metadata": {
        "id": "i11ePiWE0C9J"
      },
      "source": [
        "test2 = test**2\n",
        "test2"
      ],
      "execution_count": null,
      "outputs": []
    },
    {
      "cell_type": "code",
      "metadata": {
        "id": "NQVm6LXs0C9S"
      },
      "source": [
        "for i, j in zip(test, test2):\n",
        "    print(i,'+',j,'=',i+j)"
      ],
      "execution_count": null,
      "outputs": []
    },
    {
      "cell_type": "code",
      "metadata": {
        "id": "wJ001lF9t2eL",
        "colab": {
          "base_uri": "https://localhost:8080/",
          "height": 34
        },
        "outputId": "ff3e1187-4312-4ebe-8d9a-783ee2dd732b"
      },
      "source": [
        "teste = [\"a\", \"b\", \"c\"] + [1, 2, 3]\n",
        "teste"
      ],
      "execution_count": null,
      "outputs": [
        {
          "output_type": "execute_result",
          "data": {
            "text/plain": [
              "['a', 'b', 'c', 1, 2, 3]"
            ]
          },
          "metadata": {
            "tags": []
          },
          "execution_count": 107
        }
      ]
    }
  ]
}