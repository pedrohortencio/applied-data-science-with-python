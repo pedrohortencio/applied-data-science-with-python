{
  "nbformat": 4,
  "nbformat_minor": 0,
  "metadata": {
    "colab": {
      "name": "NYC Parking Violations.ipynb",
      "provenance": [],
      "collapsed_sections": [],
      "authorship_tag": "ABX9TyMdZBt1H81U19PbszPHLBpq",
      "include_colab_link": true
    },
    "kernelspec": {
      "display_name": "Python 3",
      "name": "python3"
    }
  },
  "cells": [
    {
      "cell_type": "markdown",
      "metadata": {
        "id": "view-in-github",
        "colab_type": "text"
      },
      "source": [
        "<a href=\"https://colab.research.google.com/github/pedrohortencio/applied-data-science-with-python/blob/main/NYC%20Parking%20Violations/NYC_Parking_Violations.ipynb\" target=\"_parent\"><img src=\"https://colab.research.google.com/assets/colab-badge.svg\" alt=\"Open In Colab\"/></a>"
      ]
    },
    {
      "cell_type": "markdown",
      "metadata": {
        "id": "jdiTFfxof4bt"
      },
      "source": [
        "[Full violations data from NYC Open Data](https://data.cityofnewyork.us/City-Government/Parking-Violations-Issued-Fiscal-Year-2021/pvqr-7yc4)\r\n",
        "\r\n",
        "[Raw .csv data (subset of 50,000 rows)](https://raw.githubusercontent.com/pedrohortencio/data-analysis-projects/main/NYC%20Parking%20Violations/violations.csv)\r\n",
        "\r\n",
        "\r\n",
        "[Original project](https://towardsdatascience.com/learn-python-data-analytics-by-example-ny-parking-violations-e1ce1847fa2)"
      ]
    },
    {
      "cell_type": "markdown",
      "metadata": {
        "id": "8tCa1_n3je5p"
      },
      "source": [
        "### Importing the data file"
      ]
    },
    {
      "cell_type": "code",
      "metadata": {
        "id": "OYvSErYTfXMm"
      },
      "source": [
        "import pandas as pd\r\n",
        "import numpy as np"
      ],
      "execution_count": 182,
      "outputs": []
    },
    {
      "cell_type": "code",
      "metadata": {
        "colab": {
          "base_uri": "https://localhost:8080/",
          "height": 462
        },
        "id": "Gz8KdOs7gIkd",
        "outputId": "22980beb-3615-4953-bebd-87475b65be3a"
      },
      "source": [
        "url = 'https://raw.githubusercontent.com/pedrohortencio/data-analysis-projects/main/NYC%20Parking%20Violations/violations.csv'\r\n",
        "\r\n",
        "# Importing .csv from the URL\r\n",
        "df = pd.read_csv(url)\r\n",
        "df.head()"
      ],
      "execution_count": 183,
      "outputs": [
        {
          "output_type": "execute_result",
          "data": {
            "text/html": [
              "<div>\n",
              "<style scoped>\n",
              "    .dataframe tbody tr th:only-of-type {\n",
              "        vertical-align: middle;\n",
              "    }\n",
              "\n",
              "    .dataframe tbody tr th {\n",
              "        vertical-align: top;\n",
              "    }\n",
              "\n",
              "    .dataframe thead th {\n",
              "        text-align: right;\n",
              "    }\n",
              "</style>\n",
              "<table border=\"1\" class=\"dataframe\">\n",
              "  <thead>\n",
              "    <tr style=\"text-align: right;\">\n",
              "      <th></th>\n",
              "      <th>Summons Number</th>\n",
              "      <th>Plate ID</th>\n",
              "      <th>Registration State</th>\n",
              "      <th>Plate Type</th>\n",
              "      <th>Issue Date</th>\n",
              "      <th>Violation Code</th>\n",
              "      <th>Vehicle Body Type</th>\n",
              "      <th>Vehicle Make</th>\n",
              "      <th>Issuing Agency</th>\n",
              "      <th>Street Code1</th>\n",
              "      <th>Street Code2</th>\n",
              "      <th>Street Code3</th>\n",
              "      <th>Vehicle Expiration Date</th>\n",
              "      <th>Violation Location</th>\n",
              "      <th>Violation Precinct</th>\n",
              "      <th>Issuer Precinct</th>\n",
              "      <th>Issuer Code</th>\n",
              "      <th>Issuer Command</th>\n",
              "      <th>Issuer Squad</th>\n",
              "      <th>Violation Time</th>\n",
              "      <th>Time First Observed</th>\n",
              "      <th>Violation County</th>\n",
              "      <th>Violation In Front Of Or Opposite</th>\n",
              "      <th>House Number</th>\n",
              "      <th>Street Name</th>\n",
              "      <th>Intersecting Street</th>\n",
              "      <th>Date First Observed</th>\n",
              "      <th>Law Section</th>\n",
              "      <th>Sub Division</th>\n",
              "      <th>Violation Legal Code</th>\n",
              "      <th>Days Parking In Effect</th>\n",
              "      <th>From Hours In Effect</th>\n",
              "      <th>To Hours In Effect</th>\n",
              "      <th>Vehicle Color</th>\n",
              "      <th>Unregistered Vehicle?</th>\n",
              "      <th>Vehicle Year</th>\n",
              "      <th>Meter Number</th>\n",
              "      <th>Feet From Curb</th>\n",
              "      <th>Violation Post Code</th>\n",
              "      <th>Violation Description</th>\n",
              "      <th>No Standing or Stopping Violation</th>\n",
              "      <th>Hydrant Violation</th>\n",
              "      <th>Double Parking Violation</th>\n",
              "    </tr>\n",
              "  </thead>\n",
              "  <tbody>\n",
              "    <tr>\n",
              "      <th>0</th>\n",
              "      <td>4714702166</td>\n",
              "      <td>KGK6659</td>\n",
              "      <td>NY</td>\n",
              "      <td>PAS</td>\n",
              "      <td>11/12/2020</td>\n",
              "      <td>36</td>\n",
              "      <td>4DSD</td>\n",
              "      <td>BMW</td>\n",
              "      <td>V</td>\n",
              "      <td>0</td>\n",
              "      <td>0</td>\n",
              "      <td>0</td>\n",
              "      <td>0</td>\n",
              "      <td>NaN</td>\n",
              "      <td>0</td>\n",
              "      <td>0</td>\n",
              "      <td>0</td>\n",
              "      <td>NaN</td>\n",
              "      <td>NaN</td>\n",
              "      <td>0637P</td>\n",
              "      <td>NaN</td>\n",
              "      <td>BK</td>\n",
              "      <td>NaN</td>\n",
              "      <td>NaN</td>\n",
              "      <td>WB ATLANTIC AVE @ SH</td>\n",
              "      <td>EPHERD AVE</td>\n",
              "      <td>0</td>\n",
              "      <td>1180</td>\n",
              "      <td>B</td>\n",
              "      <td>T</td>\n",
              "      <td>NaN</td>\n",
              "      <td>NaN</td>\n",
              "      <td>NaN</td>\n",
              "      <td>GY</td>\n",
              "      <td>NaN</td>\n",
              "      <td>2007</td>\n",
              "      <td>NaN</td>\n",
              "      <td>0</td>\n",
              "      <td>NaN</td>\n",
              "      <td>PHTO SCHOOL ZN SPEED VIOLATION</td>\n",
              "      <td>NaN</td>\n",
              "      <td>NaN</td>\n",
              "      <td>NaN</td>\n",
              "    </tr>\n",
              "    <tr>\n",
              "      <th>1</th>\n",
              "      <td>8793684599</td>\n",
              "      <td>L5232HY</td>\n",
              "      <td>TN</td>\n",
              "      <td>PAS</td>\n",
              "      <td>09/14/2020</td>\n",
              "      <td>21</td>\n",
              "      <td>TRAC</td>\n",
              "      <td>INTER</td>\n",
              "      <td>T</td>\n",
              "      <td>60790</td>\n",
              "      <td>31140</td>\n",
              "      <td>31190</td>\n",
              "      <td>20200888</td>\n",
              "      <td>101.0</td>\n",
              "      <td>101</td>\n",
              "      <td>101</td>\n",
              "      <td>367421</td>\n",
              "      <td>T402</td>\n",
              "      <td>N</td>\n",
              "      <td>0853A</td>\n",
              "      <td>NaN</td>\n",
              "      <td>Q</td>\n",
              "      <td>O</td>\n",
              "      <td>4212</td>\n",
              "      <td>Rockaway Beach Blvd</td>\n",
              "      <td>NaN</td>\n",
              "      <td>0</td>\n",
              "      <td>408</td>\n",
              "      <td>D1</td>\n",
              "      <td>NaN</td>\n",
              "      <td>Y</td>\n",
              "      <td>0830A</td>\n",
              "      <td>1000A</td>\n",
              "      <td>WHITE</td>\n",
              "      <td>NaN</td>\n",
              "      <td>0</td>\n",
              "      <td>NaN</td>\n",
              "      <td>0</td>\n",
              "      <td>W</td>\n",
              "      <td>NaN</td>\n",
              "      <td>NaN</td>\n",
              "      <td>NaN</td>\n",
              "      <td>NaN</td>\n",
              "    </tr>\n",
              "    <tr>\n",
              "      <th>2</th>\n",
              "      <td>8864757053</td>\n",
              "      <td>BPMN76</td>\n",
              "      <td>FL</td>\n",
              "      <td>PAS</td>\n",
              "      <td>11/25/2020</td>\n",
              "      <td>20</td>\n",
              "      <td>SUBN</td>\n",
              "      <td>NISSA</td>\n",
              "      <td>T</td>\n",
              "      <td>36030</td>\n",
              "      <td>31190</td>\n",
              "      <td>10610</td>\n",
              "      <td>20200688</td>\n",
              "      <td>28.0</td>\n",
              "      <td>28</td>\n",
              "      <td>28</td>\n",
              "      <td>367911</td>\n",
              "      <td>T103</td>\n",
              "      <td>FF</td>\n",
              "      <td>0853A</td>\n",
              "      <td>NaN</td>\n",
              "      <td>NY</td>\n",
              "      <td>F</td>\n",
              "      <td>130</td>\n",
              "      <td>W 113th St</td>\n",
              "      <td>NaN</td>\n",
              "      <td>0</td>\n",
              "      <td>408</td>\n",
              "      <td>d</td>\n",
              "      <td>NaN</td>\n",
              "      <td>YYYYYYY</td>\n",
              "      <td>NaN</td>\n",
              "      <td>NaN</td>\n",
              "      <td>BLACK</td>\n",
              "      <td>NaN</td>\n",
              "      <td>0</td>\n",
              "      <td>NaN</td>\n",
              "      <td>0</td>\n",
              "      <td>49</td>\n",
              "      <td>20A-No Parking (Non-COM)</td>\n",
              "      <td>NaN</td>\n",
              "      <td>NaN</td>\n",
              "      <td>NaN</td>\n",
              "    </tr>\n",
              "    <tr>\n",
              "      <th>3</th>\n",
              "      <td>8778326047</td>\n",
              "      <td>57387MJ</td>\n",
              "      <td>NY</td>\n",
              "      <td>COM</td>\n",
              "      <td>08/20/2020</td>\n",
              "      <td>38</td>\n",
              "      <td>VAN</td>\n",
              "      <td>NaN</td>\n",
              "      <td>T</td>\n",
              "      <td>34430</td>\n",
              "      <td>10410</td>\n",
              "      <td>13610</td>\n",
              "      <td>20211231</td>\n",
              "      <td>13.0</td>\n",
              "      <td>13</td>\n",
              "      <td>13</td>\n",
              "      <td>368567</td>\n",
              "      <td>T506</td>\n",
              "      <td>X</td>\n",
              "      <td>0444P</td>\n",
              "      <td>NaN</td>\n",
              "      <td>NY</td>\n",
              "      <td>F</td>\n",
              "      <td>4</td>\n",
              "      <td>W 33rd St</td>\n",
              "      <td>NaN</td>\n",
              "      <td>0</td>\n",
              "      <td>408</td>\n",
              "      <td>I3</td>\n",
              "      <td>NaN</td>\n",
              "      <td>YYYYY</td>\n",
              "      <td>0700A</td>\n",
              "      <td>0700P</td>\n",
              "      <td>WH</td>\n",
              "      <td>NaN</td>\n",
              "      <td>2016</td>\n",
              "      <td>NaN</td>\n",
              "      <td>0</td>\n",
              "      <td>01</td>\n",
              "      <td>NaN</td>\n",
              "      <td>NaN</td>\n",
              "      <td>NaN</td>\n",
              "      <td>NaN</td>\n",
              "    </tr>\n",
              "    <tr>\n",
              "      <th>4</th>\n",
              "      <td>4706640702</td>\n",
              "      <td>M81KFJ</td>\n",
              "      <td>NJ</td>\n",
              "      <td>PAS</td>\n",
              "      <td>09/09/2020</td>\n",
              "      <td>36</td>\n",
              "      <td>UT</td>\n",
              "      <td>TOYOT</td>\n",
              "      <td>V</td>\n",
              "      <td>0</td>\n",
              "      <td>0</td>\n",
              "      <td>0</td>\n",
              "      <td>0</td>\n",
              "      <td>NaN</td>\n",
              "      <td>0</td>\n",
              "      <td>0</td>\n",
              "      <td>0</td>\n",
              "      <td>NaN</td>\n",
              "      <td>NaN</td>\n",
              "      <td>0723A</td>\n",
              "      <td>NaN</td>\n",
              "      <td>BK</td>\n",
              "      <td>NaN</td>\n",
              "      <td>NaN</td>\n",
              "      <td>WB FOSTER AVE @ E 18</td>\n",
              "      <td>TH ST</td>\n",
              "      <td>0</td>\n",
              "      <td>1180</td>\n",
              "      <td>B</td>\n",
              "      <td>T</td>\n",
              "      <td>NaN</td>\n",
              "      <td>NaN</td>\n",
              "      <td>NaN</td>\n",
              "      <td>NaN</td>\n",
              "      <td>NaN</td>\n",
              "      <td>2002</td>\n",
              "      <td>NaN</td>\n",
              "      <td>0</td>\n",
              "      <td>NaN</td>\n",
              "      <td>PHTO SCHOOL ZN SPEED VIOLATION</td>\n",
              "      <td>NaN</td>\n",
              "      <td>NaN</td>\n",
              "      <td>NaN</td>\n",
              "    </tr>\n",
              "  </tbody>\n",
              "</table>\n",
              "</div>"
            ],
            "text/plain": [
              "   Summons Number Plate ID  ... Hydrant Violation Double Parking Violation\n",
              "0      4714702166  KGK6659  ...               NaN                      NaN\n",
              "1      8793684599  L5232HY  ...               NaN                      NaN\n",
              "2      8864757053   BPMN76  ...               NaN                      NaN\n",
              "3      8778326047  57387MJ  ...               NaN                      NaN\n",
              "4      4706640702   M81KFJ  ...               NaN                      NaN\n",
              "\n",
              "[5 rows x 43 columns]"
            ]
          },
          "metadata": {
            "tags": []
          },
          "execution_count": 183
        }
      ]
    },
    {
      "cell_type": "code",
      "metadata": {
        "colab": {
          "base_uri": "https://localhost:8080/"
        },
        "id": "lXVKYot_guvg",
        "outputId": "ea90cd10-4475-4888-b58f-06aebae7e8ee"
      },
      "source": [
        "rows, columns = df.shape\r\n",
        "print(\"Number of rows:\", rows)\r\n",
        "print(\"Number of columns:\", columns)"
      ],
      "execution_count": 184,
      "outputs": [
        {
          "output_type": "stream",
          "text": [
            "Number of rows: 50000\n",
            "Number of columns: 43\n"
          ],
          "name": "stdout"
        }
      ]
    },
    {
      "cell_type": "markdown",
      "metadata": {
        "id": "fgN2S6fujizt"
      },
      "source": [
        "### Changing the 'Issue Date' column to a date format."
      ]
    },
    {
      "cell_type": "code",
      "metadata": {
        "colab": {
          "base_uri": "https://localhost:8080/"
        },
        "id": "xOawtKGDgYmf",
        "outputId": "a0a8833e-330c-4854-d6a5-364b62b81954"
      },
      "source": [
        "df['Issue Date'].dtype\r\n",
        "# The 'Issue Data' is in a MM/DD/YYYY format,\r\n",
        "# but pandas is treating it like a general object dtype"
      ],
      "execution_count": 185,
      "outputs": [
        {
          "output_type": "execute_result",
          "data": {
            "text/plain": [
              "dtype('O')"
            ]
          },
          "metadata": {
            "tags": []
          },
          "execution_count": 185
        }
      ]
    },
    {
      "cell_type": "code",
      "metadata": {
        "colab": {
          "base_uri": "https://localhost:8080/"
        },
        "id": "Ogu6zrHfgnOE",
        "outputId": "69491c22-a588-4246-d768-c96ad50fae64"
      },
      "source": [
        "# To fix this, a simple method is to use .to_datetime\r\n",
        "df['Issue Date'] = pd.to_datetime(df['Issue Date'])\r\n",
        "df['Issue Date'].dtype"
      ],
      "execution_count": 186,
      "outputs": [
        {
          "output_type": "execute_result",
          "data": {
            "text/plain": [
              "dtype('<M8[ns]')"
            ]
          },
          "metadata": {
            "tags": []
          },
          "execution_count": 186
        }
      ]
    },
    {
      "cell_type": "code",
      "metadata": {
        "colab": {
          "base_uri": "https://localhost:8080/",
          "height": 479
        },
        "id": "Z7JaqODJh0uq",
        "outputId": "0492b332-04ac-463c-a4ac-59d370762cbd"
      },
      "source": [
        "# Let's take a look\r\n",
        "df.head()"
      ],
      "execution_count": 187,
      "outputs": [
        {
          "output_type": "execute_result",
          "data": {
            "text/html": [
              "<div>\n",
              "<style scoped>\n",
              "    .dataframe tbody tr th:only-of-type {\n",
              "        vertical-align: middle;\n",
              "    }\n",
              "\n",
              "    .dataframe tbody tr th {\n",
              "        vertical-align: top;\n",
              "    }\n",
              "\n",
              "    .dataframe thead th {\n",
              "        text-align: right;\n",
              "    }\n",
              "</style>\n",
              "<table border=\"1\" class=\"dataframe\">\n",
              "  <thead>\n",
              "    <tr style=\"text-align: right;\">\n",
              "      <th></th>\n",
              "      <th>Summons Number</th>\n",
              "      <th>Plate ID</th>\n",
              "      <th>Registration State</th>\n",
              "      <th>Plate Type</th>\n",
              "      <th>Issue Date</th>\n",
              "      <th>Violation Code</th>\n",
              "      <th>Vehicle Body Type</th>\n",
              "      <th>Vehicle Make</th>\n",
              "      <th>Issuing Agency</th>\n",
              "      <th>Street Code1</th>\n",
              "      <th>Street Code2</th>\n",
              "      <th>Street Code3</th>\n",
              "      <th>Vehicle Expiration Date</th>\n",
              "      <th>Violation Location</th>\n",
              "      <th>Violation Precinct</th>\n",
              "      <th>Issuer Precinct</th>\n",
              "      <th>Issuer Code</th>\n",
              "      <th>Issuer Command</th>\n",
              "      <th>Issuer Squad</th>\n",
              "      <th>Violation Time</th>\n",
              "      <th>Time First Observed</th>\n",
              "      <th>Violation County</th>\n",
              "      <th>Violation In Front Of Or Opposite</th>\n",
              "      <th>House Number</th>\n",
              "      <th>Street Name</th>\n",
              "      <th>Intersecting Street</th>\n",
              "      <th>Date First Observed</th>\n",
              "      <th>Law Section</th>\n",
              "      <th>Sub Division</th>\n",
              "      <th>Violation Legal Code</th>\n",
              "      <th>Days Parking In Effect</th>\n",
              "      <th>From Hours In Effect</th>\n",
              "      <th>To Hours In Effect</th>\n",
              "      <th>Vehicle Color</th>\n",
              "      <th>Unregistered Vehicle?</th>\n",
              "      <th>Vehicle Year</th>\n",
              "      <th>Meter Number</th>\n",
              "      <th>Feet From Curb</th>\n",
              "      <th>Violation Post Code</th>\n",
              "      <th>Violation Description</th>\n",
              "      <th>No Standing or Stopping Violation</th>\n",
              "      <th>Hydrant Violation</th>\n",
              "      <th>Double Parking Violation</th>\n",
              "    </tr>\n",
              "  </thead>\n",
              "  <tbody>\n",
              "    <tr>\n",
              "      <th>0</th>\n",
              "      <td>4714702166</td>\n",
              "      <td>KGK6659</td>\n",
              "      <td>NY</td>\n",
              "      <td>PAS</td>\n",
              "      <td>2020-11-12</td>\n",
              "      <td>36</td>\n",
              "      <td>4DSD</td>\n",
              "      <td>BMW</td>\n",
              "      <td>V</td>\n",
              "      <td>0</td>\n",
              "      <td>0</td>\n",
              "      <td>0</td>\n",
              "      <td>0</td>\n",
              "      <td>NaN</td>\n",
              "      <td>0</td>\n",
              "      <td>0</td>\n",
              "      <td>0</td>\n",
              "      <td>NaN</td>\n",
              "      <td>NaN</td>\n",
              "      <td>0637P</td>\n",
              "      <td>NaN</td>\n",
              "      <td>BK</td>\n",
              "      <td>NaN</td>\n",
              "      <td>NaN</td>\n",
              "      <td>WB ATLANTIC AVE @ SH</td>\n",
              "      <td>EPHERD AVE</td>\n",
              "      <td>0</td>\n",
              "      <td>1180</td>\n",
              "      <td>B</td>\n",
              "      <td>T</td>\n",
              "      <td>NaN</td>\n",
              "      <td>NaN</td>\n",
              "      <td>NaN</td>\n",
              "      <td>GY</td>\n",
              "      <td>NaN</td>\n",
              "      <td>2007</td>\n",
              "      <td>NaN</td>\n",
              "      <td>0</td>\n",
              "      <td>NaN</td>\n",
              "      <td>PHTO SCHOOL ZN SPEED VIOLATION</td>\n",
              "      <td>NaN</td>\n",
              "      <td>NaN</td>\n",
              "      <td>NaN</td>\n",
              "    </tr>\n",
              "    <tr>\n",
              "      <th>1</th>\n",
              "      <td>8793684599</td>\n",
              "      <td>L5232HY</td>\n",
              "      <td>TN</td>\n",
              "      <td>PAS</td>\n",
              "      <td>2020-09-14</td>\n",
              "      <td>21</td>\n",
              "      <td>TRAC</td>\n",
              "      <td>INTER</td>\n",
              "      <td>T</td>\n",
              "      <td>60790</td>\n",
              "      <td>31140</td>\n",
              "      <td>31190</td>\n",
              "      <td>20200888</td>\n",
              "      <td>101.0</td>\n",
              "      <td>101</td>\n",
              "      <td>101</td>\n",
              "      <td>367421</td>\n",
              "      <td>T402</td>\n",
              "      <td>N</td>\n",
              "      <td>0853A</td>\n",
              "      <td>NaN</td>\n",
              "      <td>Q</td>\n",
              "      <td>O</td>\n",
              "      <td>4212</td>\n",
              "      <td>Rockaway Beach Blvd</td>\n",
              "      <td>NaN</td>\n",
              "      <td>0</td>\n",
              "      <td>408</td>\n",
              "      <td>D1</td>\n",
              "      <td>NaN</td>\n",
              "      <td>Y</td>\n",
              "      <td>0830A</td>\n",
              "      <td>1000A</td>\n",
              "      <td>WHITE</td>\n",
              "      <td>NaN</td>\n",
              "      <td>0</td>\n",
              "      <td>NaN</td>\n",
              "      <td>0</td>\n",
              "      <td>W</td>\n",
              "      <td>NaN</td>\n",
              "      <td>NaN</td>\n",
              "      <td>NaN</td>\n",
              "      <td>NaN</td>\n",
              "    </tr>\n",
              "    <tr>\n",
              "      <th>2</th>\n",
              "      <td>8864757053</td>\n",
              "      <td>BPMN76</td>\n",
              "      <td>FL</td>\n",
              "      <td>PAS</td>\n",
              "      <td>2020-11-25</td>\n",
              "      <td>20</td>\n",
              "      <td>SUBN</td>\n",
              "      <td>NISSA</td>\n",
              "      <td>T</td>\n",
              "      <td>36030</td>\n",
              "      <td>31190</td>\n",
              "      <td>10610</td>\n",
              "      <td>20200688</td>\n",
              "      <td>28.0</td>\n",
              "      <td>28</td>\n",
              "      <td>28</td>\n",
              "      <td>367911</td>\n",
              "      <td>T103</td>\n",
              "      <td>FF</td>\n",
              "      <td>0853A</td>\n",
              "      <td>NaN</td>\n",
              "      <td>NY</td>\n",
              "      <td>F</td>\n",
              "      <td>130</td>\n",
              "      <td>W 113th St</td>\n",
              "      <td>NaN</td>\n",
              "      <td>0</td>\n",
              "      <td>408</td>\n",
              "      <td>d</td>\n",
              "      <td>NaN</td>\n",
              "      <td>YYYYYYY</td>\n",
              "      <td>NaN</td>\n",
              "      <td>NaN</td>\n",
              "      <td>BLACK</td>\n",
              "      <td>NaN</td>\n",
              "      <td>0</td>\n",
              "      <td>NaN</td>\n",
              "      <td>0</td>\n",
              "      <td>49</td>\n",
              "      <td>20A-No Parking (Non-COM)</td>\n",
              "      <td>NaN</td>\n",
              "      <td>NaN</td>\n",
              "      <td>NaN</td>\n",
              "    </tr>\n",
              "    <tr>\n",
              "      <th>3</th>\n",
              "      <td>8778326047</td>\n",
              "      <td>57387MJ</td>\n",
              "      <td>NY</td>\n",
              "      <td>COM</td>\n",
              "      <td>2020-08-20</td>\n",
              "      <td>38</td>\n",
              "      <td>VAN</td>\n",
              "      <td>NaN</td>\n",
              "      <td>T</td>\n",
              "      <td>34430</td>\n",
              "      <td>10410</td>\n",
              "      <td>13610</td>\n",
              "      <td>20211231</td>\n",
              "      <td>13.0</td>\n",
              "      <td>13</td>\n",
              "      <td>13</td>\n",
              "      <td>368567</td>\n",
              "      <td>T506</td>\n",
              "      <td>X</td>\n",
              "      <td>0444P</td>\n",
              "      <td>NaN</td>\n",
              "      <td>NY</td>\n",
              "      <td>F</td>\n",
              "      <td>4</td>\n",
              "      <td>W 33rd St</td>\n",
              "      <td>NaN</td>\n",
              "      <td>0</td>\n",
              "      <td>408</td>\n",
              "      <td>I3</td>\n",
              "      <td>NaN</td>\n",
              "      <td>YYYYY</td>\n",
              "      <td>0700A</td>\n",
              "      <td>0700P</td>\n",
              "      <td>WH</td>\n",
              "      <td>NaN</td>\n",
              "      <td>2016</td>\n",
              "      <td>NaN</td>\n",
              "      <td>0</td>\n",
              "      <td>01</td>\n",
              "      <td>NaN</td>\n",
              "      <td>NaN</td>\n",
              "      <td>NaN</td>\n",
              "      <td>NaN</td>\n",
              "    </tr>\n",
              "    <tr>\n",
              "      <th>4</th>\n",
              "      <td>4706640702</td>\n",
              "      <td>M81KFJ</td>\n",
              "      <td>NJ</td>\n",
              "      <td>PAS</td>\n",
              "      <td>2020-09-09</td>\n",
              "      <td>36</td>\n",
              "      <td>UT</td>\n",
              "      <td>TOYOT</td>\n",
              "      <td>V</td>\n",
              "      <td>0</td>\n",
              "      <td>0</td>\n",
              "      <td>0</td>\n",
              "      <td>0</td>\n",
              "      <td>NaN</td>\n",
              "      <td>0</td>\n",
              "      <td>0</td>\n",
              "      <td>0</td>\n",
              "      <td>NaN</td>\n",
              "      <td>NaN</td>\n",
              "      <td>0723A</td>\n",
              "      <td>NaN</td>\n",
              "      <td>BK</td>\n",
              "      <td>NaN</td>\n",
              "      <td>NaN</td>\n",
              "      <td>WB FOSTER AVE @ E 18</td>\n",
              "      <td>TH ST</td>\n",
              "      <td>0</td>\n",
              "      <td>1180</td>\n",
              "      <td>B</td>\n",
              "      <td>T</td>\n",
              "      <td>NaN</td>\n",
              "      <td>NaN</td>\n",
              "      <td>NaN</td>\n",
              "      <td>NaN</td>\n",
              "      <td>NaN</td>\n",
              "      <td>2002</td>\n",
              "      <td>NaN</td>\n",
              "      <td>0</td>\n",
              "      <td>NaN</td>\n",
              "      <td>PHTO SCHOOL ZN SPEED VIOLATION</td>\n",
              "      <td>NaN</td>\n",
              "      <td>NaN</td>\n",
              "      <td>NaN</td>\n",
              "    </tr>\n",
              "  </tbody>\n",
              "</table>\n",
              "</div>"
            ],
            "text/plain": [
              "   Summons Number Plate ID  ... Hydrant Violation Double Parking Violation\n",
              "0      4714702166  KGK6659  ...               NaN                      NaN\n",
              "1      8793684599  L5232HY  ...               NaN                      NaN\n",
              "2      8864757053   BPMN76  ...               NaN                      NaN\n",
              "3      8778326047  57387MJ  ...               NaN                      NaN\n",
              "4      4706640702   M81KFJ  ...               NaN                      NaN\n",
              "\n",
              "[5 rows x 43 columns]"
            ]
          },
          "metadata": {
            "tags": []
          },
          "execution_count": 187
        }
      ]
    },
    {
      "cell_type": "markdown",
      "metadata": {
        "id": "Am_C6ENIj7Rs"
      },
      "source": [
        "### Searching for invalid data"
      ]
    },
    {
      "cell_type": "code",
      "metadata": {
        "colab": {
          "base_uri": "https://localhost:8080/"
        },
        "id": "RFBmYJs_j7wz",
        "outputId": "c4964075-f3f0-43d2-e4d2-c406e6f31633"
      },
      "source": [
        "# Searching for missing values\r\n",
        "df.isna().sum()"
      ],
      "execution_count": 188,
      "outputs": [
        {
          "output_type": "execute_result",
          "data": {
            "text/plain": [
              "Summons Number                           0\n",
              "Plate ID                                 0\n",
              "Registration State                       0\n",
              "Plate Type                               0\n",
              "Issue Date                               0\n",
              "Violation Code                           0\n",
              "Vehicle Body Type                      145\n",
              "Vehicle Make                           136\n",
              "Issuing Agency                           0\n",
              "Street Code1                             0\n",
              "Street Code2                             0\n",
              "Street Code3                             0\n",
              "Vehicle Expiration Date                  0\n",
              "Violation Location                   17893\n",
              "Violation Precinct                       0\n",
              "Issuer Precinct                          0\n",
              "Issuer Code                              0\n",
              "Issuer Command                       17857\n",
              "Issuer Squad                         17857\n",
              "Violation Time                           1\n",
              "Time First Observed                  48111\n",
              "Violation County                       117\n",
              "Violation In Front Of Or Opposite    18068\n",
              "House Number                         18272\n",
              "Street Name                             10\n",
              "Intersecting Street                  27283\n",
              "Date First Observed                      0\n",
              "Law Section                              0\n",
              "Sub Division                             2\n",
              "Violation Legal Code                 32143\n",
              "Days Parking In Effect               17857\n",
              "From Hours In Effect                 30394\n",
              "To Hours In Effect                   30394\n",
              "Vehicle Color                         2417\n",
              "Unregistered Vehicle?                47892\n",
              "Vehicle Year                             0\n",
              "Meter Number                         47850\n",
              "Feet From Curb                           0\n",
              "Violation Post Code                  19965\n",
              "Violation Description                27198\n",
              "No Standing or Stopping Violation    50000\n",
              "Hydrant Violation                    50000\n",
              "Double Parking Violation             50000\n",
              "dtype: int64"
            ]
          },
          "metadata": {
            "tags": []
          },
          "execution_count": 188
        }
      ]
    },
    {
      "cell_type": "markdown",
      "metadata": {
        "id": "rhwsT44GnS81"
      },
      "source": [
        "There are a bunch of columns with huge number of NaN entries.\r\n",
        "\r\n",
        "```No Standing or Stopping Violation```, ```Hydrant Violation ``` and ```Double Parking Violation``` have all rows with NaN values.\r\n",
        "\r\n",
        "```Meter Number```, ```Unregistered Vehicle? ``` and ```Time First Observed``` have over 47k rows with missing values.\r\n",
        "\r\n",
        "```Violation Legal Code ```, ```From Hours In Effect  ``` and ```To Hours In Effect ``` have over 30k rows with missing values."
      ]
    },
    {
      "cell_type": "markdown",
      "metadata": {
        "id": "elQ9KXN6pWDH"
      },
      "source": [
        "As most of these problematic columns aren't useful for my analysis, I'll drop all of them and those I don't consider useful right now."
      ]
    },
    {
      "cell_type": "code",
      "metadata": {
        "colab": {
          "base_uri": "https://localhost:8080/",
          "height": 204
        },
        "id": "0vlCAT85ork_",
        "outputId": "312b9188-6e23-48f0-f2e8-6a938432ef58"
      },
      "source": [
        "columns_to_keep = ['Summons Number', 'Violation Code', 'Vehicle Make',\r\n",
        "                   'Issue Date', 'Plate Type', 'Vehicle Year',\r\n",
        "                   'Violation Time', 'Registration State', 'Street Name',\r\n",
        "                   'Violation County', 'Vehicle Color']\r\n",
        "\r\n",
        "df.drop(df.columns.difference(columns_to_keep), 1, inplace=True)\r\n",
        "\r\n",
        "df.head()"
      ],
      "execution_count": 189,
      "outputs": [
        {
          "output_type": "execute_result",
          "data": {
            "text/html": [
              "<div>\n",
              "<style scoped>\n",
              "    .dataframe tbody tr th:only-of-type {\n",
              "        vertical-align: middle;\n",
              "    }\n",
              "\n",
              "    .dataframe tbody tr th {\n",
              "        vertical-align: top;\n",
              "    }\n",
              "\n",
              "    .dataframe thead th {\n",
              "        text-align: right;\n",
              "    }\n",
              "</style>\n",
              "<table border=\"1\" class=\"dataframe\">\n",
              "  <thead>\n",
              "    <tr style=\"text-align: right;\">\n",
              "      <th></th>\n",
              "      <th>Summons Number</th>\n",
              "      <th>Registration State</th>\n",
              "      <th>Plate Type</th>\n",
              "      <th>Issue Date</th>\n",
              "      <th>Violation Code</th>\n",
              "      <th>Vehicle Make</th>\n",
              "      <th>Violation Time</th>\n",
              "      <th>Violation County</th>\n",
              "      <th>Street Name</th>\n",
              "      <th>Vehicle Color</th>\n",
              "      <th>Vehicle Year</th>\n",
              "    </tr>\n",
              "  </thead>\n",
              "  <tbody>\n",
              "    <tr>\n",
              "      <th>0</th>\n",
              "      <td>4714702166</td>\n",
              "      <td>NY</td>\n",
              "      <td>PAS</td>\n",
              "      <td>2020-11-12</td>\n",
              "      <td>36</td>\n",
              "      <td>BMW</td>\n",
              "      <td>0637P</td>\n",
              "      <td>BK</td>\n",
              "      <td>WB ATLANTIC AVE @ SH</td>\n",
              "      <td>GY</td>\n",
              "      <td>2007</td>\n",
              "    </tr>\n",
              "    <tr>\n",
              "      <th>1</th>\n",
              "      <td>8793684599</td>\n",
              "      <td>TN</td>\n",
              "      <td>PAS</td>\n",
              "      <td>2020-09-14</td>\n",
              "      <td>21</td>\n",
              "      <td>INTER</td>\n",
              "      <td>0853A</td>\n",
              "      <td>Q</td>\n",
              "      <td>Rockaway Beach Blvd</td>\n",
              "      <td>WHITE</td>\n",
              "      <td>0</td>\n",
              "    </tr>\n",
              "    <tr>\n",
              "      <th>2</th>\n",
              "      <td>8864757053</td>\n",
              "      <td>FL</td>\n",
              "      <td>PAS</td>\n",
              "      <td>2020-11-25</td>\n",
              "      <td>20</td>\n",
              "      <td>NISSA</td>\n",
              "      <td>0853A</td>\n",
              "      <td>NY</td>\n",
              "      <td>W 113th St</td>\n",
              "      <td>BLACK</td>\n",
              "      <td>0</td>\n",
              "    </tr>\n",
              "    <tr>\n",
              "      <th>3</th>\n",
              "      <td>8778326047</td>\n",
              "      <td>NY</td>\n",
              "      <td>COM</td>\n",
              "      <td>2020-08-20</td>\n",
              "      <td>38</td>\n",
              "      <td>NaN</td>\n",
              "      <td>0444P</td>\n",
              "      <td>NY</td>\n",
              "      <td>W 33rd St</td>\n",
              "      <td>WH</td>\n",
              "      <td>2016</td>\n",
              "    </tr>\n",
              "    <tr>\n",
              "      <th>4</th>\n",
              "      <td>4706640702</td>\n",
              "      <td>NJ</td>\n",
              "      <td>PAS</td>\n",
              "      <td>2020-09-09</td>\n",
              "      <td>36</td>\n",
              "      <td>TOYOT</td>\n",
              "      <td>0723A</td>\n",
              "      <td>BK</td>\n",
              "      <td>WB FOSTER AVE @ E 18</td>\n",
              "      <td>NaN</td>\n",
              "      <td>2002</td>\n",
              "    </tr>\n",
              "  </tbody>\n",
              "</table>\n",
              "</div>"
            ],
            "text/plain": [
              "   Summons Number Registration State  ... Vehicle Color Vehicle Year\n",
              "0      4714702166                 NY  ...            GY         2007\n",
              "1      8793684599                 TN  ...         WHITE            0\n",
              "2      8864757053                 FL  ...         BLACK            0\n",
              "3      8778326047                 NY  ...            WH         2016\n",
              "4      4706640702                 NJ  ...           NaN         2002\n",
              "\n",
              "[5 rows x 11 columns]"
            ]
          },
          "metadata": {
            "tags": []
          },
          "execution_count": 189
        }
      ]
    },
    {
      "cell_type": "code",
      "metadata": {
        "colab": {
          "base_uri": "https://localhost:8080/"
        },
        "id": "fTkqIYpAqMaY",
        "outputId": "b7dbc166-2d65-46ae-922e-1876be173c2a"
      },
      "source": [
        "# Checking missing values again:\r\n",
        "df.isna().sum()"
      ],
      "execution_count": 190,
      "outputs": [
        {
          "output_type": "execute_result",
          "data": {
            "text/plain": [
              "Summons Number           0\n",
              "Registration State       0\n",
              "Plate Type               0\n",
              "Issue Date               0\n",
              "Violation Code           0\n",
              "Vehicle Make           136\n",
              "Violation Time           1\n",
              "Violation County       117\n",
              "Street Name             10\n",
              "Vehicle Color         2417\n",
              "Vehicle Year             0\n",
              "dtype: int64"
            ]
          },
          "metadata": {
            "tags": []
          },
          "execution_count": 190
        }
      ]
    },
    {
      "cell_type": "code",
      "metadata": {
        "colab": {
          "base_uri": "https://localhost:8080/"
        },
        "id": "hJDQPfBdVfHx",
        "outputId": "22319b9d-f321-4fcb-ff1b-e8a6e0e0ffd9"
      },
      "source": [
        "# Inspecting the 'Registration State' column\r\n",
        "df[\"Registration State\"].unique()\r\n",
        "# The '99' entry doesn't mean anything and it's possible a missing value."
      ],
      "execution_count": 191,
      "outputs": [
        {
          "output_type": "execute_result",
          "data": {
            "text/plain": [
              "array(['NY', 'TN', 'FL', 'NJ', 'MA', 'PA', 'MD', 'CT', 'TX', 'CA', 'IL',\n",
              "       'IN', 'OR', 'AZ', 'QB', 'WA', 'GA', 'CO', 'GV', 'NC', 'ME', 'DE',\n",
              "       'VA', 'MN', '99', 'WV', 'OH', 'NH', 'AR', 'DC', 'SC', 'NV', 'SD',\n",
              "       'RI', 'MO', 'LA', 'NM', 'OK', 'AL', 'IA', 'MT', 'MI', 'NE', 'ID',\n",
              "       'KY', 'VT', 'WI', 'MS', 'ON', 'HI', 'KS', 'UT', 'AK', 'FO', 'PR',\n",
              "       'DP', 'WY', 'AB', 'ND'], dtype=object)"
            ]
          },
          "metadata": {
            "tags": []
          },
          "execution_count": 191
        }
      ]
    },
    {
      "cell_type": "code",
      "metadata": {
        "colab": {
          "base_uri": "https://localhost:8080/",
          "height": 419
        },
        "id": "cPprGujGVRPS",
        "outputId": "1a8b77f7-af64-487a-acc6-9fdee3531163"
      },
      "source": [
        "# Examining the rows where \"Registration State\" is 99 we can see that the \"Plate Type\"\r\n",
        "# also has a missing value entry: '999'\r\n",
        "df[df['Registration State'] == \"99\"]"
      ],
      "execution_count": 192,
      "outputs": [
        {
          "output_type": "execute_result",
          "data": {
            "text/html": [
              "<div>\n",
              "<style scoped>\n",
              "    .dataframe tbody tr th:only-of-type {\n",
              "        vertical-align: middle;\n",
              "    }\n",
              "\n",
              "    .dataframe tbody tr th {\n",
              "        vertical-align: top;\n",
              "    }\n",
              "\n",
              "    .dataframe thead th {\n",
              "        text-align: right;\n",
              "    }\n",
              "</style>\n",
              "<table border=\"1\" class=\"dataframe\">\n",
              "  <thead>\n",
              "    <tr style=\"text-align: right;\">\n",
              "      <th></th>\n",
              "      <th>Summons Number</th>\n",
              "      <th>Registration State</th>\n",
              "      <th>Plate Type</th>\n",
              "      <th>Issue Date</th>\n",
              "      <th>Violation Code</th>\n",
              "      <th>Vehicle Make</th>\n",
              "      <th>Violation Time</th>\n",
              "      <th>Violation County</th>\n",
              "      <th>Street Name</th>\n",
              "      <th>Vehicle Color</th>\n",
              "      <th>Vehicle Year</th>\n",
              "    </tr>\n",
              "  </thead>\n",
              "  <tbody>\n",
              "    <tr>\n",
              "      <th>450</th>\n",
              "      <td>8558998905</td>\n",
              "      <td>99</td>\n",
              "      <td>999</td>\n",
              "      <td>2020-09-08</td>\n",
              "      <td>20</td>\n",
              "      <td>FORD</td>\n",
              "      <td>0258P</td>\n",
              "      <td>Q</td>\n",
              "      <td>49th Ave</td>\n",
              "      <td>WHITE</td>\n",
              "      <td>0</td>\n",
              "    </tr>\n",
              "    <tr>\n",
              "      <th>8177</th>\n",
              "      <td>1473591405</td>\n",
              "      <td>99</td>\n",
              "      <td>999</td>\n",
              "      <td>2020-10-06</td>\n",
              "      <td>74</td>\n",
              "      <td>HONDA</td>\n",
              "      <td>0123P</td>\n",
              "      <td>BX</td>\n",
              "      <td>E 178 STREET</td>\n",
              "      <td>BLUE</td>\n",
              "      <td>2009</td>\n",
              "    </tr>\n",
              "    <tr>\n",
              "      <th>8371</th>\n",
              "      <td>1473889406</td>\n",
              "      <td>99</td>\n",
              "      <td>999</td>\n",
              "      <td>2020-07-22</td>\n",
              "      <td>70</td>\n",
              "      <td>MITSU</td>\n",
              "      <td>1050P</td>\n",
              "      <td>BX</td>\n",
              "      <td>BOSTON RD</td>\n",
              "      <td>GRAY</td>\n",
              "      <td>2008</td>\n",
              "    </tr>\n",
              "    <tr>\n",
              "      <th>9097</th>\n",
              "      <td>1478640340</td>\n",
              "      <td>99</td>\n",
              "      <td>999</td>\n",
              "      <td>2020-08-04</td>\n",
              "      <td>21</td>\n",
              "      <td>INTER</td>\n",
              "      <td>0839A</td>\n",
              "      <td>K</td>\n",
              "      <td>7TH AVENUE</td>\n",
              "      <td>WHT</td>\n",
              "      <td>0</td>\n",
              "    </tr>\n",
              "    <tr>\n",
              "      <th>10194</th>\n",
              "      <td>1478349232</td>\n",
              "      <td>99</td>\n",
              "      <td>COM</td>\n",
              "      <td>2020-08-29</td>\n",
              "      <td>21</td>\n",
              "      <td>FORD</td>\n",
              "      <td>0820A</td>\n",
              "      <td>Q</td>\n",
              "      <td>GRAND AVENUE</td>\n",
              "      <td>WHT</td>\n",
              "      <td>2010</td>\n",
              "    </tr>\n",
              "    <tr>\n",
              "      <th>...</th>\n",
              "      <td>...</td>\n",
              "      <td>...</td>\n",
              "      <td>...</td>\n",
              "      <td>...</td>\n",
              "      <td>...</td>\n",
              "      <td>...</td>\n",
              "      <td>...</td>\n",
              "      <td>...</td>\n",
              "      <td>...</td>\n",
              "      <td>...</td>\n",
              "      <td>...</td>\n",
              "    </tr>\n",
              "    <tr>\n",
              "      <th>47496</th>\n",
              "      <td>1477643310</td>\n",
              "      <td>99</td>\n",
              "      <td>999</td>\n",
              "      <td>2020-07-11</td>\n",
              "      <td>51</td>\n",
              "      <td>HONDA</td>\n",
              "      <td>0955A</td>\n",
              "      <td>K</td>\n",
              "      <td>CHESTNUT ST</td>\n",
              "      <td>GR</td>\n",
              "      <td>0</td>\n",
              "    </tr>\n",
              "    <tr>\n",
              "      <th>48018</th>\n",
              "      <td>1474455141</td>\n",
              "      <td>99</td>\n",
              "      <td>PAS</td>\n",
              "      <td>2020-10-11</td>\n",
              "      <td>14</td>\n",
              "      <td>CHEVR</td>\n",
              "      <td>1240A</td>\n",
              "      <td>NY</td>\n",
              "      <td>W 202 ST</td>\n",
              "      <td>BLU</td>\n",
              "      <td>2014</td>\n",
              "    </tr>\n",
              "    <tr>\n",
              "      <th>49639</th>\n",
              "      <td>1479532290</td>\n",
              "      <td>99</td>\n",
              "      <td>PAS</td>\n",
              "      <td>2020-09-03</td>\n",
              "      <td>21</td>\n",
              "      <td>TOYOT</td>\n",
              "      <td>0904A</td>\n",
              "      <td>K</td>\n",
              "      <td>OVINGTON AVE</td>\n",
              "      <td>RED</td>\n",
              "      <td>0</td>\n",
              "    </tr>\n",
              "    <tr>\n",
              "      <th>49653</th>\n",
              "      <td>1472860378</td>\n",
              "      <td>99</td>\n",
              "      <td>PAS</td>\n",
              "      <td>2020-07-15</td>\n",
              "      <td>17</td>\n",
              "      <td>CHEVR</td>\n",
              "      <td>0825A</td>\n",
              "      <td>K</td>\n",
              "      <td>PACIFIC</td>\n",
              "      <td>WHITE</td>\n",
              "      <td>0</td>\n",
              "    </tr>\n",
              "    <tr>\n",
              "      <th>49959</th>\n",
              "      <td>8833558344</td>\n",
              "      <td>99</td>\n",
              "      <td>999</td>\n",
              "      <td>2020-10-07</td>\n",
              "      <td>74</td>\n",
              "      <td>VESPA</td>\n",
              "      <td>0117P</td>\n",
              "      <td>NY</td>\n",
              "      <td>7th Ave</td>\n",
              "      <td>BROWN</td>\n",
              "      <td>0</td>\n",
              "    </tr>\n",
              "  </tbody>\n",
              "</table>\n",
              "<p>70 rows × 11 columns</p>\n",
              "</div>"
            ],
            "text/plain": [
              "       Summons Number Registration State  ... Vehicle Color Vehicle Year\n",
              "450        8558998905                 99  ...         WHITE            0\n",
              "8177       1473591405                 99  ...          BLUE         2009\n",
              "8371       1473889406                 99  ...          GRAY         2008\n",
              "9097       1478640340                 99  ...           WHT            0\n",
              "10194      1478349232                 99  ...           WHT         2010\n",
              "...               ...                ...  ...           ...          ...\n",
              "47496      1477643310                 99  ...            GR            0\n",
              "48018      1474455141                 99  ...           BLU         2014\n",
              "49639      1479532290                 99  ...           RED            0\n",
              "49653      1472860378                 99  ...         WHITE            0\n",
              "49959      8833558344                 99  ...         BROWN            0\n",
              "\n",
              "[70 rows x 11 columns]"
            ]
          },
          "metadata": {
            "tags": []
          },
          "execution_count": 192
        }
      ]
    },
    {
      "cell_type": "code",
      "metadata": {
        "id": "aCg0bTGGYBZk"
      },
      "source": [
        "# Let's discart these rows, along with the ones that have some column with NaN value:\r\n",
        "\r\n",
        "df = df[(df['Registration State'] != \"99\") \r\n",
        "    & (df['Plate Type'] != \"999\")\r\n",
        "    & (df['Vehicle Make'].notnull()) \r\n",
        "    & (df['Violation Time'].notnull())]"
      ],
      "execution_count": 193,
      "outputs": []
    },
    {
      "cell_type": "code",
      "metadata": {
        "colab": {
          "base_uri": "https://localhost:8080/",
          "height": 49
        },
        "id": "A-Zz-66dYbG-",
        "outputId": "5c23291f-0bc5-49b8-dd37-4d52f304b5f1"
      },
      "source": [
        "# Sanity check\r\n",
        "df[df['Registration State'] == \"99\"]"
      ],
      "execution_count": 194,
      "outputs": [
        {
          "output_type": "execute_result",
          "data": {
            "text/html": [
              "<div>\n",
              "<style scoped>\n",
              "    .dataframe tbody tr th:only-of-type {\n",
              "        vertical-align: middle;\n",
              "    }\n",
              "\n",
              "    .dataframe tbody tr th {\n",
              "        vertical-align: top;\n",
              "    }\n",
              "\n",
              "    .dataframe thead th {\n",
              "        text-align: right;\n",
              "    }\n",
              "</style>\n",
              "<table border=\"1\" class=\"dataframe\">\n",
              "  <thead>\n",
              "    <tr style=\"text-align: right;\">\n",
              "      <th></th>\n",
              "      <th>Summons Number</th>\n",
              "      <th>Registration State</th>\n",
              "      <th>Plate Type</th>\n",
              "      <th>Issue Date</th>\n",
              "      <th>Violation Code</th>\n",
              "      <th>Vehicle Make</th>\n",
              "      <th>Violation Time</th>\n",
              "      <th>Violation County</th>\n",
              "      <th>Street Name</th>\n",
              "      <th>Vehicle Color</th>\n",
              "      <th>Vehicle Year</th>\n",
              "    </tr>\n",
              "  </thead>\n",
              "  <tbody>\n",
              "  </tbody>\n",
              "</table>\n",
              "</div>"
            ],
            "text/plain": [
              "Empty DataFrame\n",
              "Columns: [Summons Number, Registration State, Plate Type, Issue Date, Violation Code, Vehicle Make, Violation Time, Violation County, Street Name, Vehicle Color, Vehicle Year]\n",
              "Index: []"
            ]
          },
          "metadata": {
            "tags": []
          },
          "execution_count": 194
        }
      ]
    },
    {
      "cell_type": "markdown",
      "metadata": {
        "id": "HkoCJTV5YwMz"
      },
      "source": [
        "Let's see if there are wrong dates in the \"Issue Date\" column"
      ]
    },
    {
      "cell_type": "code",
      "metadata": {
        "colab": {
          "base_uri": "https://localhost:8080/",
          "height": 142
        },
        "id": "5aRpU55-UdeA",
        "outputId": "5b38b79c-8d95-462b-914e-f48e6e1c949d"
      },
      "source": [
        "# Dates before 04/01/2020 (beggining of the fiscal year)\r\n",
        "df[df[\"Issue Date\"] <= '2020-04-01']"
      ],
      "execution_count": 195,
      "outputs": [
        {
          "output_type": "execute_result",
          "data": {
            "text/html": [
              "<div>\n",
              "<style scoped>\n",
              "    .dataframe tbody tr th:only-of-type {\n",
              "        vertical-align: middle;\n",
              "    }\n",
              "\n",
              "    .dataframe tbody tr th {\n",
              "        vertical-align: top;\n",
              "    }\n",
              "\n",
              "    .dataframe thead th {\n",
              "        text-align: right;\n",
              "    }\n",
              "</style>\n",
              "<table border=\"1\" class=\"dataframe\">\n",
              "  <thead>\n",
              "    <tr style=\"text-align: right;\">\n",
              "      <th></th>\n",
              "      <th>Summons Number</th>\n",
              "      <th>Registration State</th>\n",
              "      <th>Plate Type</th>\n",
              "      <th>Issue Date</th>\n",
              "      <th>Violation Code</th>\n",
              "      <th>Vehicle Make</th>\n",
              "      <th>Violation Time</th>\n",
              "      <th>Violation County</th>\n",
              "      <th>Street Name</th>\n",
              "      <th>Vehicle Color</th>\n",
              "      <th>Vehicle Year</th>\n",
              "    </tr>\n",
              "  </thead>\n",
              "  <tbody>\n",
              "    <tr>\n",
              "      <th>5478</th>\n",
              "      <td>1434778198</td>\n",
              "      <td>NY</td>\n",
              "      <td>PAS</td>\n",
              "      <td>2019-12-13</td>\n",
              "      <td>17</td>\n",
              "      <td>MITSU</td>\n",
              "      <td>0743A</td>\n",
              "      <td>BX</td>\n",
              "      <td>GRAND CONCOURSE</td>\n",
              "      <td>GREY</td>\n",
              "      <td>2006</td>\n",
              "    </tr>\n",
              "    <tr>\n",
              "      <th>38476</th>\n",
              "      <td>1479597715</td>\n",
              "      <td>NY</td>\n",
              "      <td>PAS</td>\n",
              "      <td>2010-10-22</td>\n",
              "      <td>19</td>\n",
              "      <td>BMW</td>\n",
              "      <td>0354P</td>\n",
              "      <td>K</td>\n",
              "      <td>BRIGHTON BEACH AVE</td>\n",
              "      <td>NaN</td>\n",
              "      <td>2019</td>\n",
              "    </tr>\n",
              "    <tr>\n",
              "      <th>39623</th>\n",
              "      <td>1476478417</td>\n",
              "      <td>NY</td>\n",
              "      <td>PAS</td>\n",
              "      <td>2020-02-26</td>\n",
              "      <td>20</td>\n",
              "      <td>BMW</td>\n",
              "      <td>0939A</td>\n",
              "      <td>NaN</td>\n",
              "      <td>MORRIS AVE</td>\n",
              "      <td>BLK</td>\n",
              "      <td>2007</td>\n",
              "    </tr>\n",
              "  </tbody>\n",
              "</table>\n",
              "</div>"
            ],
            "text/plain": [
              "       Summons Number Registration State  ... Vehicle Color Vehicle Year\n",
              "5478       1434778198                 NY  ...          GREY         2006\n",
              "38476      1479597715                 NY  ...           NaN         2019\n",
              "39623      1476478417                 NY  ...           BLK         2007\n",
              "\n",
              "[3 rows x 11 columns]"
            ]
          },
          "metadata": {
            "tags": []
          },
          "execution_count": 195
        }
      ]
    },
    {
      "cell_type": "code",
      "metadata": {
        "colab": {
          "base_uri": "https://localhost:8080/",
          "height": 173
        },
        "id": "Yl6B0rIdYour",
        "outputId": "a94b62cb-b546-4d7e-998b-133b475a1700"
      },
      "source": [
        "# Dates after 11/30/2020 (the end of the fiscal year)\r\n",
        "df[df[\"Issue Date\"] >= '2020-11-30']"
      ],
      "execution_count": 196,
      "outputs": [
        {
          "output_type": "execute_result",
          "data": {
            "text/html": [
              "<div>\n",
              "<style scoped>\n",
              "    .dataframe tbody tr th:only-of-type {\n",
              "        vertical-align: middle;\n",
              "    }\n",
              "\n",
              "    .dataframe tbody tr th {\n",
              "        vertical-align: top;\n",
              "    }\n",
              "\n",
              "    .dataframe thead th {\n",
              "        text-align: right;\n",
              "    }\n",
              "</style>\n",
              "<table border=\"1\" class=\"dataframe\">\n",
              "  <thead>\n",
              "    <tr style=\"text-align: right;\">\n",
              "      <th></th>\n",
              "      <th>Summons Number</th>\n",
              "      <th>Registration State</th>\n",
              "      <th>Plate Type</th>\n",
              "      <th>Issue Date</th>\n",
              "      <th>Violation Code</th>\n",
              "      <th>Vehicle Make</th>\n",
              "      <th>Violation Time</th>\n",
              "      <th>Violation County</th>\n",
              "      <th>Street Name</th>\n",
              "      <th>Vehicle Color</th>\n",
              "      <th>Vehicle Year</th>\n",
              "    </tr>\n",
              "  </thead>\n",
              "  <tbody>\n",
              "    <tr>\n",
              "      <th>26544</th>\n",
              "      <td>1477685066</td>\n",
              "      <td>NY</td>\n",
              "      <td>PAS</td>\n",
              "      <td>2030-08-06</td>\n",
              "      <td>21</td>\n",
              "      <td>TOYOT</td>\n",
              "      <td>0954A</td>\n",
              "      <td>Q</td>\n",
              "      <td>38 AVE</td>\n",
              "      <td>YEL</td>\n",
              "      <td>2014</td>\n",
              "    </tr>\n",
              "    <tr>\n",
              "      <th>29120</th>\n",
              "      <td>1479952205</td>\n",
              "      <td>NY</td>\n",
              "      <td>PAS</td>\n",
              "      <td>2021-11-04</td>\n",
              "      <td>21</td>\n",
              "      <td>CHEVR</td>\n",
              "      <td>1123A</td>\n",
              "      <td>Q</td>\n",
              "      <td>74 AVE</td>\n",
              "      <td>WHITE</td>\n",
              "      <td>0</td>\n",
              "    </tr>\n",
              "    <tr>\n",
              "      <th>29947</th>\n",
              "      <td>1480015891</td>\n",
              "      <td>NY</td>\n",
              "      <td>PAS</td>\n",
              "      <td>2022-10-20</td>\n",
              "      <td>21</td>\n",
              "      <td>SUBAR</td>\n",
              "      <td>1206P</td>\n",
              "      <td>K</td>\n",
              "      <td>NORWOOD AVE</td>\n",
              "      <td>BLUE</td>\n",
              "      <td>2014</td>\n",
              "    </tr>\n",
              "    <tr>\n",
              "      <th>48186</th>\n",
              "      <td>1476825312</td>\n",
              "      <td>NY</td>\n",
              "      <td>PAS</td>\n",
              "      <td>2026-09-16</td>\n",
              "      <td>21</td>\n",
              "      <td>HONDA</td>\n",
              "      <td>0739A</td>\n",
              "      <td>K</td>\n",
              "      <td>13TH AV</td>\n",
              "      <td>GY</td>\n",
              "      <td>2003</td>\n",
              "    </tr>\n",
              "  </tbody>\n",
              "</table>\n",
              "</div>"
            ],
            "text/plain": [
              "       Summons Number Registration State  ... Vehicle Color Vehicle Year\n",
              "26544      1477685066                 NY  ...           YEL         2014\n",
              "29120      1479952205                 NY  ...         WHITE            0\n",
              "29947      1480015891                 NY  ...          BLUE         2014\n",
              "48186      1476825312                 NY  ...            GY         2003\n",
              "\n",
              "[4 rows x 11 columns]"
            ]
          },
          "metadata": {
            "tags": []
          },
          "execution_count": 196
        }
      ]
    },
    {
      "cell_type": "code",
      "metadata": {
        "id": "NSPFC-2CZY0M"
      },
      "source": [
        "# Let's discard these rows:\r\n",
        "\r\n",
        "df = df[(df['Issue Date'] >= '2020-04-01') \r\n",
        "        & (df['Issue Date'] <= '2020-11-30')]"
      ],
      "execution_count": 197,
      "outputs": []
    },
    {
      "cell_type": "markdown",
      "metadata": {
        "id": "nBOUxiS5Zkau"
      },
      "source": [
        "Dealing with the other three columns"
      ]
    },
    {
      "cell_type": "code",
      "metadata": {
        "colab": {
          "base_uri": "https://localhost:8080/"
        },
        "id": "Res46o4pZOOV",
        "outputId": "be56ab31-d603-45e9-c31a-24261ca1fc91"
      },
      "source": [
        "# \"Violation Code\"\r\n",
        "\r\n",
        "df['Violation Code'].unique()\r\n",
        "# it looks alright"
      ],
      "execution_count": 198,
      "outputs": [
        {
          "output_type": "execute_result",
          "data": {
            "text/plain": [
              "array([36, 21, 20, 74, 38, 14,  7, 40, 31, 16, 50, 69, 68, 17, 46, 84, 19,\n",
              "       42,  5, 37, 33, 10, 78, 70, 51, 47, 82, 66, 61, 98, 53, 94, 71,  8,\n",
              "       41, 45, 72, 99, 12, 18, 77,  9, 48, 83, 22, 67, 39, 85, 76, 13, 52,\n",
              "       60,  6, 24, 75, 64, 11, 73,  4, 87, 54, 35, 56, 62, 27, 96, 91, 44,\n",
              "       26, 49, 89, 80, 95, 79, 63,  1, 59])"
            ]
          },
          "metadata": {
            "tags": []
          },
          "execution_count": 198
        }
      ]
    },
    {
      "cell_type": "code",
      "metadata": {
        "colab": {
          "base_uri": "https://localhost:8080/"
        },
        "id": "fevU-1AcZv57",
        "outputId": "bf7463a0-42c6-4233-a6c5-66e3b3a1ac80"
      },
      "source": [
        "# \"Vehicle Year\"\r\n",
        "df['Vehicle Year'].unique()\r\n",
        "# definitely numbers like 0 and bigger than 2020 shouldn't be here"
      ],
      "execution_count": 199,
      "outputs": [
        {
          "output_type": "execute_result",
          "data": {
            "text/plain": [
              "array([2007,    0, 2002, 2017, 2008, 2016, 2018, 2006, 2019, 2013, 2004,\n",
              "       2005, 2010, 2020, 1997, 2012, 2009, 2015, 2014, 2011, 2003, 2021,\n",
              "       2001, 1991, 1998, 1995, 1999, 1994, 1990, 1992, 1989, 1993, 1996,\n",
              "       1985, 2054, 1977, 1988, 1978, 1987, 2066, 1984, 1986, 1976, 1982,\n",
              "       1983, 2069, 1979, 2062])"
            ]
          },
          "metadata": {
            "tags": []
          },
          "execution_count": 199
        }
      ]
    },
    {
      "cell_type": "code",
      "metadata": {
        "id": "fEeOMZnSaXHE"
      },
      "source": [
        "df = df[(df['Vehicle Year'] != 0) \r\n",
        "    & (df['Vehicle Year'] <= 2020)]"
      ],
      "execution_count": 200,
      "outputs": []
    },
    {
      "cell_type": "code",
      "metadata": {
        "colab": {
          "base_uri": "https://localhost:8080/",
          "height": 204
        },
        "id": "fUmOrrT5IUj8",
        "outputId": "38baf96e-f507-4211-b27c-2dda6b0c4abd"
      },
      "source": [
        "df[df['Street Name'].isna()]\r\n",
        "# There are some entries with NaN values"
      ],
      "execution_count": 201,
      "outputs": [
        {
          "output_type": "execute_result",
          "data": {
            "text/html": [
              "<div>\n",
              "<style scoped>\n",
              "    .dataframe tbody tr th:only-of-type {\n",
              "        vertical-align: middle;\n",
              "    }\n",
              "\n",
              "    .dataframe tbody tr th {\n",
              "        vertical-align: top;\n",
              "    }\n",
              "\n",
              "    .dataframe thead th {\n",
              "        text-align: right;\n",
              "    }\n",
              "</style>\n",
              "<table border=\"1\" class=\"dataframe\">\n",
              "  <thead>\n",
              "    <tr style=\"text-align: right;\">\n",
              "      <th></th>\n",
              "      <th>Summons Number</th>\n",
              "      <th>Registration State</th>\n",
              "      <th>Plate Type</th>\n",
              "      <th>Issue Date</th>\n",
              "      <th>Violation Code</th>\n",
              "      <th>Vehicle Make</th>\n",
              "      <th>Violation Time</th>\n",
              "      <th>Violation County</th>\n",
              "      <th>Street Name</th>\n",
              "      <th>Vehicle Color</th>\n",
              "      <th>Vehicle Year</th>\n",
              "    </tr>\n",
              "  </thead>\n",
              "  <tbody>\n",
              "    <tr>\n",
              "      <th>302</th>\n",
              "      <td>6021023640</td>\n",
              "      <td>NY</td>\n",
              "      <td>PAS</td>\n",
              "      <td>2020-07-09</td>\n",
              "      <td>94</td>\n",
              "      <td>NISSA</td>\n",
              "      <td>1033A</td>\n",
              "      <td>NaN</td>\n",
              "      <td>NaN</td>\n",
              "      <td>GRY</td>\n",
              "      <td>2018</td>\n",
              "    </tr>\n",
              "    <tr>\n",
              "      <th>10070</th>\n",
              "      <td>6021024539</td>\n",
              "      <td>NY</td>\n",
              "      <td>PAS</td>\n",
              "      <td>2020-11-23</td>\n",
              "      <td>94</td>\n",
              "      <td>DODGE</td>\n",
              "      <td>0930A</td>\n",
              "      <td>NaN</td>\n",
              "      <td>NaN</td>\n",
              "      <td>GRY</td>\n",
              "      <td>2019</td>\n",
              "    </tr>\n",
              "    <tr>\n",
              "      <th>13984</th>\n",
              "      <td>8570063805</td>\n",
              "      <td>NY</td>\n",
              "      <td>PAS</td>\n",
              "      <td>2020-10-15</td>\n",
              "      <td>31</td>\n",
              "      <td>HONDA</td>\n",
              "      <td>0418P</td>\n",
              "      <td>NY</td>\n",
              "      <td>NaN</td>\n",
              "      <td>GY</td>\n",
              "      <td>2015</td>\n",
              "    </tr>\n",
              "    <tr>\n",
              "      <th>34351</th>\n",
              "      <td>1472935044</td>\n",
              "      <td>NY</td>\n",
              "      <td>PAS</td>\n",
              "      <td>2020-11-01</td>\n",
              "      <td>98</td>\n",
              "      <td>HYUND</td>\n",
              "      <td>0701A</td>\n",
              "      <td>K</td>\n",
              "      <td>NaN</td>\n",
              "      <td>WHITE</td>\n",
              "      <td>2004</td>\n",
              "    </tr>\n",
              "    <tr>\n",
              "      <th>41414</th>\n",
              "      <td>1478907058</td>\n",
              "      <td>NY</td>\n",
              "      <td>PAS</td>\n",
              "      <td>2020-10-19</td>\n",
              "      <td>21</td>\n",
              "      <td>HONDA</td>\n",
              "      <td>0940A</td>\n",
              "      <td>BX</td>\n",
              "      <td>NaN</td>\n",
              "      <td>BLACK</td>\n",
              "      <td>2016</td>\n",
              "    </tr>\n",
              "  </tbody>\n",
              "</table>\n",
              "</div>"
            ],
            "text/plain": [
              "       Summons Number Registration State  ... Vehicle Color Vehicle Year\n",
              "302        6021023640                 NY  ...           GRY         2018\n",
              "10070      6021024539                 NY  ...           GRY         2019\n",
              "13984      8570063805                 NY  ...            GY         2015\n",
              "34351      1472935044                 NY  ...         WHITE         2004\n",
              "41414      1478907058                 NY  ...         BLACK         2016\n",
              "\n",
              "[5 rows x 11 columns]"
            ]
          },
          "metadata": {
            "tags": []
          },
          "execution_count": 201
        }
      ]
    },
    {
      "cell_type": "code",
      "metadata": {
        "id": "gIfGo6cAIgBS"
      },
      "source": [
        "# Discarting the rows with NaN values in the 'Street Name' column\r\n",
        "df = df[df['Street Name'].notnull()]"
      ],
      "execution_count": 202,
      "outputs": []
    },
    {
      "cell_type": "code",
      "metadata": {
        "colab": {
          "base_uri": "https://localhost:8080/",
          "height": 49
        },
        "id": "U0qpINXWIjWy",
        "outputId": "ce7ac1d5-599d-4458-986b-c298c802ad2b"
      },
      "source": [
        "# Sanity check\r\n",
        "df[df['Street Name'].isna()]"
      ],
      "execution_count": 203,
      "outputs": [
        {
          "output_type": "execute_result",
          "data": {
            "text/html": [
              "<div>\n",
              "<style scoped>\n",
              "    .dataframe tbody tr th:only-of-type {\n",
              "        vertical-align: middle;\n",
              "    }\n",
              "\n",
              "    .dataframe tbody tr th {\n",
              "        vertical-align: top;\n",
              "    }\n",
              "\n",
              "    .dataframe thead th {\n",
              "        text-align: right;\n",
              "    }\n",
              "</style>\n",
              "<table border=\"1\" class=\"dataframe\">\n",
              "  <thead>\n",
              "    <tr style=\"text-align: right;\">\n",
              "      <th></th>\n",
              "      <th>Summons Number</th>\n",
              "      <th>Registration State</th>\n",
              "      <th>Plate Type</th>\n",
              "      <th>Issue Date</th>\n",
              "      <th>Violation Code</th>\n",
              "      <th>Vehicle Make</th>\n",
              "      <th>Violation Time</th>\n",
              "      <th>Violation County</th>\n",
              "      <th>Street Name</th>\n",
              "      <th>Vehicle Color</th>\n",
              "      <th>Vehicle Year</th>\n",
              "    </tr>\n",
              "  </thead>\n",
              "  <tbody>\n",
              "  </tbody>\n",
              "</table>\n",
              "</div>"
            ],
            "text/plain": [
              "Empty DataFrame\n",
              "Columns: [Summons Number, Registration State, Plate Type, Issue Date, Violation Code, Vehicle Make, Violation Time, Violation County, Street Name, Vehicle Color, Vehicle Year]\n",
              "Index: []"
            ]
          },
          "metadata": {
            "tags": []
          },
          "execution_count": 203
        }
      ]
    },
    {
      "cell_type": "code",
      "metadata": {
        "colab": {
          "base_uri": "https://localhost:8080/",
          "height": 419
        },
        "id": "dlEPRFrdSoyN",
        "outputId": "b6fbd405-7cd4-4470-bc57-4794b0fd4eb3"
      },
      "source": [
        "df[df['Vehicle Color'].isna()]"
      ],
      "execution_count": 204,
      "outputs": [
        {
          "output_type": "execute_result",
          "data": {
            "text/html": [
              "<div>\n",
              "<style scoped>\n",
              "    .dataframe tbody tr th:only-of-type {\n",
              "        vertical-align: middle;\n",
              "    }\n",
              "\n",
              "    .dataframe tbody tr th {\n",
              "        vertical-align: top;\n",
              "    }\n",
              "\n",
              "    .dataframe thead th {\n",
              "        text-align: right;\n",
              "    }\n",
              "</style>\n",
              "<table border=\"1\" class=\"dataframe\">\n",
              "  <thead>\n",
              "    <tr style=\"text-align: right;\">\n",
              "      <th></th>\n",
              "      <th>Summons Number</th>\n",
              "      <th>Registration State</th>\n",
              "      <th>Plate Type</th>\n",
              "      <th>Issue Date</th>\n",
              "      <th>Violation Code</th>\n",
              "      <th>Vehicle Make</th>\n",
              "      <th>Violation Time</th>\n",
              "      <th>Violation County</th>\n",
              "      <th>Street Name</th>\n",
              "      <th>Vehicle Color</th>\n",
              "      <th>Vehicle Year</th>\n",
              "    </tr>\n",
              "  </thead>\n",
              "  <tbody>\n",
              "    <tr>\n",
              "      <th>4</th>\n",
              "      <td>4706640702</td>\n",
              "      <td>NJ</td>\n",
              "      <td>PAS</td>\n",
              "      <td>2020-09-09</td>\n",
              "      <td>36</td>\n",
              "      <td>TOYOT</td>\n",
              "      <td>0723A</td>\n",
              "      <td>BK</td>\n",
              "      <td>WB FOSTER AVE @ E 18</td>\n",
              "      <td>NaN</td>\n",
              "      <td>2002</td>\n",
              "    </tr>\n",
              "    <tr>\n",
              "      <th>10</th>\n",
              "      <td>4707750461</td>\n",
              "      <td>NJ</td>\n",
              "      <td>PAS</td>\n",
              "      <td>2020-09-17</td>\n",
              "      <td>36</td>\n",
              "      <td>BMW</td>\n",
              "      <td>1001A</td>\n",
              "      <td>BK</td>\n",
              "      <td>NB SHORE RD @ 71ST S</td>\n",
              "      <td>NaN</td>\n",
              "      <td>2018</td>\n",
              "    </tr>\n",
              "    <tr>\n",
              "      <th>12</th>\n",
              "      <td>5112547674</td>\n",
              "      <td>MA</td>\n",
              "      <td>PAS</td>\n",
              "      <td>2020-10-30</td>\n",
              "      <td>7</td>\n",
              "      <td>BMW</td>\n",
              "      <td>0109P</td>\n",
              "      <td>QN</td>\n",
              "      <td>QUEENS BLVD (W/B) @</td>\n",
              "      <td>NaN</td>\n",
              "      <td>2018</td>\n",
              "    </tr>\n",
              "    <tr>\n",
              "      <th>29</th>\n",
              "      <td>4707001490</td>\n",
              "      <td>PA</td>\n",
              "      <td>PAS</td>\n",
              "      <td>2020-09-11</td>\n",
              "      <td>36</td>\n",
              "      <td>DODGE</td>\n",
              "      <td>1257P</td>\n",
              "      <td>QN</td>\n",
              "      <td>SB WOODHAVEN BLVD @</td>\n",
              "      <td>NaN</td>\n",
              "      <td>2016</td>\n",
              "    </tr>\n",
              "    <tr>\n",
              "      <th>63</th>\n",
              "      <td>4700823999</td>\n",
              "      <td>NJ</td>\n",
              "      <td>PAS</td>\n",
              "      <td>2020-07-28</td>\n",
              "      <td>36</td>\n",
              "      <td>NISSA</td>\n",
              "      <td>0700P</td>\n",
              "      <td>QN</td>\n",
              "      <td>WB SEAGIRT BLVD @ CR</td>\n",
              "      <td>NaN</td>\n",
              "      <td>2017</td>\n",
              "    </tr>\n",
              "    <tr>\n",
              "      <th>...</th>\n",
              "      <td>...</td>\n",
              "      <td>...</td>\n",
              "      <td>...</td>\n",
              "      <td>...</td>\n",
              "      <td>...</td>\n",
              "      <td>...</td>\n",
              "      <td>...</td>\n",
              "      <td>...</td>\n",
              "      <td>...</td>\n",
              "      <td>...</td>\n",
              "      <td>...</td>\n",
              "    </tr>\n",
              "    <tr>\n",
              "      <th>49869</th>\n",
              "      <td>5600298493</td>\n",
              "      <td>NJ</td>\n",
              "      <td>PAS</td>\n",
              "      <td>2020-06-25</td>\n",
              "      <td>12</td>\n",
              "      <td>TOYOT</td>\n",
              "      <td>0348P</td>\n",
              "      <td>MN</td>\n",
              "      <td>NB 1 Avenue @ E 68 S</td>\n",
              "      <td>NaN</td>\n",
              "      <td>2007</td>\n",
              "    </tr>\n",
              "    <tr>\n",
              "      <th>49874</th>\n",
              "      <td>4704030167</td>\n",
              "      <td>NJ</td>\n",
              "      <td>PAS</td>\n",
              "      <td>2020-08-18</td>\n",
              "      <td>36</td>\n",
              "      <td>MITSU</td>\n",
              "      <td>0426P</td>\n",
              "      <td>MN</td>\n",
              "      <td>EB E HOUSTON ST @ AV</td>\n",
              "      <td>NaN</td>\n",
              "      <td>2019</td>\n",
              "    </tr>\n",
              "    <tr>\n",
              "      <th>49958</th>\n",
              "      <td>4015100736</td>\n",
              "      <td>NJ</td>\n",
              "      <td>PAS</td>\n",
              "      <td>2020-09-09</td>\n",
              "      <td>5</td>\n",
              "      <td>HONDA</td>\n",
              "      <td>0741P</td>\n",
              "      <td>BX</td>\n",
              "      <td>EB E 161ST ST @ GERA</td>\n",
              "      <td>NaN</td>\n",
              "      <td>2020</td>\n",
              "    </tr>\n",
              "    <tr>\n",
              "      <th>49961</th>\n",
              "      <td>4712605820</td>\n",
              "      <td>MA</td>\n",
              "      <td>PAS</td>\n",
              "      <td>2020-10-23</td>\n",
              "      <td>36</td>\n",
              "      <td>NISSA</td>\n",
              "      <td>1214P</td>\n",
              "      <td>ST</td>\n",
              "      <td>SB MANOR RD @ BRIELL</td>\n",
              "      <td>NaN</td>\n",
              "      <td>2017</td>\n",
              "    </tr>\n",
              "    <tr>\n",
              "      <th>49964</th>\n",
              "      <td>5112225385</td>\n",
              "      <td>SC</td>\n",
              "      <td>PAS</td>\n",
              "      <td>2020-10-04</td>\n",
              "      <td>7</td>\n",
              "      <td>FORD</td>\n",
              "      <td>1004A</td>\n",
              "      <td>BX</td>\n",
              "      <td>E 135TH ST (W/B) @ A</td>\n",
              "      <td>NaN</td>\n",
              "      <td>2009</td>\n",
              "    </tr>\n",
              "  </tbody>\n",
              "</table>\n",
              "<p>2324 rows × 11 columns</p>\n",
              "</div>"
            ],
            "text/plain": [
              "       Summons Number Registration State  ... Vehicle Color Vehicle Year\n",
              "4          4706640702                 NJ  ...           NaN         2002\n",
              "10         4707750461                 NJ  ...           NaN         2018\n",
              "12         5112547674                 MA  ...           NaN         2018\n",
              "29         4707001490                 PA  ...           NaN         2016\n",
              "63         4700823999                 NJ  ...           NaN         2017\n",
              "...               ...                ...  ...           ...          ...\n",
              "49869      5600298493                 NJ  ...           NaN         2007\n",
              "49874      4704030167                 NJ  ...           NaN         2019\n",
              "49958      4015100736                 NJ  ...           NaN         2020\n",
              "49961      4712605820                 MA  ...           NaN         2017\n",
              "49964      5112225385                 SC  ...           NaN         2009\n",
              "\n",
              "[2324 rows x 11 columns]"
            ]
          },
          "metadata": {
            "tags": []
          },
          "execution_count": 204
        }
      ]
    },
    {
      "cell_type": "code",
      "metadata": {
        "colab": {
          "base_uri": "https://localhost:8080/"
        },
        "id": "sgzd_R7iagQj",
        "outputId": "d186f1bb-59f8-44f3-e8c4-d341bf45699a"
      },
      "source": [
        "# Counting the number os rows and columns after the data processing\r\n",
        "rows, columns = df.shape\r\n",
        "\r\n",
        "print(\"After data processing\")\r\n",
        "print(\"Rows:\", rows)\r\n",
        "print(\"Columns:\", columns)"
      ],
      "execution_count": 205,
      "outputs": [
        {
          "output_type": "stream",
          "text": [
            "After data processing\n",
            "Rows: 38932\n",
            "Columns: 11\n"
          ],
          "name": "stdout"
        }
      ]
    },
    {
      "cell_type": "markdown",
      "metadata": {
        "id": "Fui0w9owa7OR"
      },
      "source": [
        "11068 rows were discarted."
      ]
    },
    {
      "cell_type": "markdown",
      "metadata": {
        "id": "XHBSFRiDa_1z"
      },
      "source": [
        "##Plotting"
      ]
    },
    {
      "cell_type": "code",
      "metadata": {
        "id": "VMAhp835l5KE"
      },
      "source": [
        "# Importing the libraries\r\n",
        "import seaborn as sns\r\n",
        "import matplotlib.pyplot as plt\r\n",
        "\r\n",
        "# Setting the seaborn default theme\r\n",
        "sns.set_theme()"
      ],
      "execution_count": 206,
      "outputs": []
    },
    {
      "cell_type": "code",
      "metadata": {
        "id": "V62QTgbOm83u"
      },
      "source": [
        "# Getting the number of violations by each vehicle fabrication year\r\n",
        "violations_by_vehicle_year = df.groupby('Vehicle Year')['Summons Number'].count()"
      ],
      "execution_count": 207,
      "outputs": []
    },
    {
      "cell_type": "code",
      "metadata": {
        "colab": {
          "base_uri": "https://localhost:8080/"
        },
        "id": "RwCpQ_bWrU6O",
        "outputId": "94bda101-9774-47b3-9d70-a56a907bace8"
      },
      "source": [
        "violations_by_vehicle_year.head()"
      ],
      "execution_count": 208,
      "outputs": [
        {
          "output_type": "execute_result",
          "data": {
            "text/plain": [
              "Vehicle Year\n",
              "1976    1\n",
              "1977    1\n",
              "1978    1\n",
              "1979    1\n",
              "1982    3\n",
              "Name: Summons Number, dtype: int64"
            ]
          },
          "metadata": {
            "tags": []
          },
          "execution_count": 208
        }
      ]
    },
    {
      "cell_type": "markdown",
      "metadata": {
        "id": "iJuIlJLhkHRU"
      },
      "source": [
        "###A plot that shows the number of parking violations issued for each vehicle year"
      ]
    },
    {
      "cell_type": "code",
      "metadata": {
        "colab": {
          "base_uri": "https://localhost:8080/",
          "height": 586
        },
        "id": "ReFoSwlNsgAx",
        "outputId": "1709bee7-57ce-4f3e-9a79-f0c85a24f0bf"
      },
      "source": [
        "# set the figure size\r\n",
        "fig = plt.figure(figsize=(18, 9))\r\n",
        "# set the background color to mach the plot color\r\n",
        "fig.patch.set_facecolor('#eaeaf2')\r\n",
        "# disable the box around the plot\r\n",
        "plt.box(False)\r\n",
        "\r\n",
        "\r\n",
        "ax = sns.lineplot(x=violations_by_vehicle_year.index,\r\n",
        "                  y=violations_by_vehicle_year.values) #sns.lineplot returns an axes object\r\n",
        "\r\n",
        "# create two lists of labels\r\n",
        "years = [x for x in range(1976, 2021, 2)]\r\n",
        "ammount_violations = [0, 1000, 2000, 3000, 4000, 5000]\r\n",
        "\r\n",
        "# set the xticks and yticks based on the lists created\r\n",
        "ax.set_xticks(years)\r\n",
        "ax.set_yticks(ammount_violations)\r\n",
        "\r\n",
        "# set the x and y labels and limits\r\n",
        "ax.set(xlabel='Vehicle Year', ylabel='Number of Violations', xlim = (1976, 2020), ylim = (-15, 5200))\r\n",
        "\r\n",
        "# add a title\r\n",
        "plt.title('Parking Violations Issued for Vehicle Year',\r\n",
        "          size=18, alpha=0.8, y=1.02)\r\n",
        "\r\n",
        "# disable the default seaborn grid\r\n",
        "ax.grid(False)\r\n",
        "\r\n",
        "# crate a custom grid\r\n",
        "plt.vlines(years, *ax.get_ylim(), color='k', linestyles='--', lw=0.3, alpha=0.4)\r\n",
        "plt.hlines(ammount_violations, *ax.get_xlim(), color='k', linestyles='--', lw=0.3, alpha=0.4)\r\n",
        "\r\n",
        "# show the plot\r\n",
        "plt.show();"
      ],
      "execution_count": 209,
      "outputs": [
        {
          "output_type": "display_data",
          "data": {
            "image/png": "[encoded data removed]",
            "text/plain": [
              "<Figure size 1296x648 with 1 Axes>"
            ]
          },
          "metadata": {
            "tags": []
          }
        }
      ]
    },
    {
      "cell_type": "markdown",
      "metadata": {
        "id": "workznto0fFH"
      },
      "source": [
        "###Top 5 violation codes"
      ]
    },
    {
      "cell_type": "code",
      "metadata": {
        "colab": {
          "base_uri": "https://localhost:8080/",
          "height": 136
        },
        "id": "8giYjHYj0LQ-",
        "outputId": "42797bef-2d39-4622-b5d4-d8852c6e1a7a"
      },
      "source": [
        "# create a series containing the top 5 violations codes\r\n",
        "top_5_violations = df.groupby('Violation Code')['Summons Number'].count().nlargest(5)\r\n",
        "display(top_5_violations)"
      ],
      "execution_count": 210,
      "outputs": [
        {
          "output_type": "display_data",
          "data": {
            "text/plain": [
              "Violation Code\n",
              "36    14318\n",
              "21     4318\n",
              "38     2939\n",
              "14     2143\n",
              "20     2013\n",
              "Name: Summons Number, dtype: int64"
            ]
          },
          "metadata": {
            "tags": []
          }
        }
      ]
    },
    {
      "cell_type": "code",
      "metadata": {
        "colab": {
          "base_uri": "https://localhost:8080/",
          "height": 429
        },
        "id": "EVLOgRR-1VIe",
        "outputId": "ffe90055-2288-4fd0-f6d7-f04feee65cec"
      },
      "source": [
        "# set the figure size\r\n",
        "fig = plt.figure(figsize=(15, 7))\r\n",
        "\r\n",
        "color_map = sns.color_palette(\"icefire\", as_cmap=True)\r\n",
        "\r\n",
        "# create a plot and save the axes object it returns\r\n",
        "ax = top_5_violations.plot.pie(colormap='twilight_shifted', autopct='%1.0f%%', textprops={'color':\"#505050\"})\r\n",
        "\r\n",
        "# set the labels\r\n",
        "ax.set(xlabel='', ylabel='')\r\n",
        "\r\n",
        "# set a title\r\n",
        "plt.title('Proportion of the top 5 violations',\r\n",
        "          size=16, alpha=0.8);\r\n",
        "\r\n",
        "# show the plot\r\n",
        "plt.show();"
      ],
      "execution_count": 211,
      "outputs": [
        {
          "output_type": "display_data",
          "data": {
            "image/png": "[encoded data removed]",
            "text/plain": [
              "<Figure size 1080x504 with 1 Axes>"
            ]
          },
          "metadata": {
            "tags": []
          }
        }
      ]
    },
    {
      "cell_type": "markdown",
      "metadata": {
        "id": "jPcuVC92kG3q"
      },
      "source": [
        "###List the top 5 violation codes for vehicles that are registered in states other than NY."
      ]
    },
    {
      "cell_type": "code",
      "metadata": {
        "colab": {
          "base_uri": "https://localhost:8080/"
        },
        "id": "4WpT33wdz1lG",
        "outputId": "cc54bfb9-cfd4-47ed-bfc6-06dfd770e84e"
      },
      "source": [
        "# create a series of the 5 top violations codes made by cars registed outside NY\r\n",
        "top_5_no_NY = df[df['Registration State'] != 'NY'].groupby('Violation Code')['Summons Number'].count().nlargest(5)\r\n",
        "top_5_no_NY"
      ],
      "execution_count": 212,
      "outputs": [
        {
          "output_type": "execute_result",
          "data": {
            "text/plain": [
              "Violation Code\n",
              "36    2772\n",
              "5      365\n",
              "7      350\n",
              "12      62\n",
              "21      30\n",
              "Name: Summons Number, dtype: int64"
            ]
          },
          "metadata": {
            "tags": []
          },
          "execution_count": 212
        }
      ]
    },
    {
      "cell_type": "code",
      "metadata": {
        "colab": {
          "base_uri": "https://localhost:8080/",
          "height": 445
        },
        "id": "9U5ErlDc2Nj6",
        "outputId": "289122bb-f34d-4490-ad58-3e9dbe4a5bc8"
      },
      "source": [
        "fig = plt.figure(figsize=(15, 7))\r\n",
        "\r\n",
        "color_map = plt.cm.get_cmap('Blues').reversed()\r\n",
        "\r\n",
        "ax = top_5_no_NY.plot.pie(colormap='twilight_shifted', autopct='%1.0f%%', textprops={'color':\"#505050\"})\r\n",
        "ax.set(xlabel='', ylabel='')\r\n",
        "\r\n",
        "plt.title('Proportion of the top 5 violations \\n(excluding New York registered cars)',\r\n",
        "          size=14, alpha=0.8);\r\n",
        "\r\n",
        "plt.show();"
      ],
      "execution_count": 213,
      "outputs": [
        {
          "output_type": "display_data",
          "data": {
            "image/png": "[encoded data removed]",
            "text/plain": [
              "<Figure size 1080x504 with 1 Axes>"
            ]
          },
          "metadata": {
            "tags": []
          }
        }
      ]
    },
    {
      "cell_type": "markdown",
      "metadata": {
        "id": "RW7SA-l0C17T"
      },
      "source": [
        "###The streets where Hondas received the most parking violations."
      ]
    },
    {
      "cell_type": "code",
      "metadata": {
        "colab": {
          "base_uri": "https://localhost:8080/"
        },
        "id": "Lsix2-4gJ246",
        "outputId": "f009ffcb-60f7-4262-eb2e-0e2f3fdab283"
      },
      "source": [
        "streets_hondas = df[df['Vehicle Make']=='HONDA'].groupby('Street Name')['Summons Number'].count().nlargest(5)\r\n",
        "streets_hondas"
      ],
      "execution_count": 214,
      "outputs": [
        {
          "output_type": "execute_result",
          "data": {
            "text/plain": [
              "Street Name\n",
              "Broadway                34\n",
              "WB CONDUIT BLVD @ LI    31\n",
              "WB QUEENS BLVD @ 72N    29\n",
              "NB WEST ST @ LEROY S    25\n",
              "EB W 14TH STREET @ 5    23\n",
              "Name: Summons Number, dtype: int64"
            ]
          },
          "metadata": {
            "tags": []
          },
          "execution_count": 214
        }
      ]
    },
    {
      "cell_type": "code",
      "metadata": {
        "colab": {
          "base_uri": "https://localhost:8080/",
          "height": 545
        },
        "id": "_mXMtgAhJ5Py",
        "outputId": "3fdc2abb-a342-4ec4-fe45-042b5e0b0a36"
      },
      "source": [
        "# set the figure size\r\n",
        "fig = plt.figure(figsize=(15, 7))\r\n",
        "fig.patch.set_facecolor('#eaeaf2')\r\n",
        "\r\n",
        "# create a bar plot\r\n",
        "plt.bar(streets_hondas.index, streets_hondas.values)\r\n",
        "\r\n",
        "# rotate the xticks so they don't overlap\r\n",
        "plt.xticks(rotation=45, rotation_mode=\"anchor\", ha='right')\r\n",
        "\r\n",
        "# add a title\r\n",
        "plt.title('Streets were Hondas received the most parking violations',\r\n",
        "          size=16, alpha=0.8);\r\n",
        "\r\n",
        "# add a y label\r\n",
        "plt.ylabel('Number of Violations')\r\n",
        "\r\n",
        "# show the plot\r\n",
        "plt.show();"
      ],
      "execution_count": 215,
      "outputs": [
        {
          "output_type": "display_data",
          "data": {
            "image/png": "[encoded data removed]",
            "text/plain": [
              "<Figure size 1080x504 with 1 Axes>"
            ]
          },
          "metadata": {
            "tags": []
          }
        }
      ]
    },
    {
      "cell_type": "markdown",
      "metadata": {
        "id": "_87r8V7jRpc5"
      },
      "source": [
        "### Ratio of plate types that are not passenger\r\n",
        "\r\n",
        "For vehicles that are from NY only, create a plot displaying the \r\n",
        "ratio of plate types that are not passenger,\r\n",
        "year by year."
      ]
    },
    {
      "cell_type": "code",
      "metadata": {
        "id": "J2z8yp4zTMLO",
        "colab": {
          "base_uri": "https://localhost:8080/",
          "height": 268
        },
        "outputId": "79ba9110-b10a-44fe-bd32-66a7239b60dc"
      },
      "source": [
        "# Subset for only rows where the Registration State is NY.\r\n",
        "df_ny = df[df['Registration State'] == 'NY']\r\n",
        "\r\n",
        "# Calculate the ratio of non-passenger plates to all plates, grouped by year. \r\n",
        "df_ny_notpas = df_ny[df_ny['Plate Type'] != 'PAS'].groupby('Vehicle Year')['Summons Number'].count()\r\n",
        "df_ny_all = df_ny.groupby('Vehicle Year')['Summons Number'].count()\r\n",
        "ratio = df_ny_notpas / df_ny_all\r\n",
        "\r\n",
        "# Replace nulls with 0.\r\n",
        "ratio.fillna(0, inplace = True)\r\n",
        "\r\n",
        "# Create and show plot.\r\n",
        "plt.plot(ratio)\r\n",
        "plt.show()"
      ],
      "execution_count": 216,
      "outputs": [
        {
          "output_type": "display_data",
          "data": {
            "image/png": "[encoded data removed]",
            "text/plain": [
              "<Figure size 432x288 with 1 Axes>"
            ]
          },
          "metadata": {
            "tags": []
          }
        }
      ]
    },
    {
      "cell_type": "markdown",
      "metadata": {
        "id": "OfK-gkxWSKAW"
      },
      "source": [
        "###Relation between vehicle color and plate type\r\n",
        "\r\n",
        "Determine whether the color of vehicles with passenger plates receiving the most violations is the same as the color of vehicles with commercial plates receiving the most violations."
      ]
    },
    {
      "cell_type": "code",
      "metadata": {
        "colab": {
          "base_uri": "https://localhost:8080/"
        },
        "id": "HZ4Nth_J7aNi",
        "outputId": "6c5fb047-e88f-4d9e-ad03-28a5c0bc5ee4"
      },
      "source": [
        "# First, let's plot a pie chart of the vehicle colors with the whole dataset\r\n",
        "top_colors = df.groupby('Vehicle Color')['Summons Number'].count().nlargest(5)\r\n",
        "top_colors"
      ],
      "execution_count": 217,
      "outputs": [
        {
          "output_type": "execute_result",
          "data": {
            "text/plain": [
              "Vehicle Color\n",
              "GY    8689\n",
              "WH    8122\n",
              "BK    7778\n",
              "BL    2859\n",
              "RD    1730\n",
              "Name: Summons Number, dtype: int64"
            ]
          },
          "metadata": {
            "tags": []
          },
          "execution_count": 217
        }
      ]
    },
    {
      "cell_type": "code",
      "metadata": {
        "colab": {
          "base_uri": "https://localhost:8080/",
          "height": 428
        },
        "id": "Vz8YqSoD7sTk",
        "outputId": "6c67f5f2-7ee2-4ccf-cbfe-0b0d758e20c1"
      },
      "source": [
        "fig = plt.figure(figsize=(15, 7))\r\n",
        "\r\n",
        "color_map = plt.cm.get_cmap('Blues').reversed()\r\n",
        "\r\n",
        "ax = top_colors.plot.pie(colormap='twilight_shifted', autopct='%1.0f%%', textprops={'color':\"#505050\"})\r\n",
        "ax.set(xlabel='', ylabel='')\r\n",
        "\r\n",
        "plt.title('Proportion of the color of vehicles',\r\n",
        "          size=14, alpha=0.8);\r\n",
        "\r\n",
        "plt.show();"
      ],
      "execution_count": 218,
      "outputs": [
        {
          "output_type": "display_data",
          "data": {
            "image/png": "[encoded data removed]",
            "text/plain": [
              "<Figure size 1080x504 with 1 Axes>"
            ]
          },
          "metadata": {
            "tags": []
          }
        }
      ]
    },
    {
      "cell_type": "code",
      "metadata": {
        "colab": {
          "base_uri": "https://localhost:8080/"
        },
        "id": "YsgkNirOyUKU",
        "outputId": "4ec62a72-2d31-422d-86bf-6cd779fc076d"
      },
      "source": [
        "top_colors_pas = df[df['Plate Type'] == 'PAS'].groupby('Vehicle Color')['Summons Number'].count().nlargest(5)\r\n",
        "top_colors_pas"
      ],
      "execution_count": 219,
      "outputs": [
        {
          "output_type": "execute_result",
          "data": {
            "text/plain": [
              "Vehicle Color\n",
              "GY    7796\n",
              "BK    6413\n",
              "WH    4696\n",
              "BL    2489\n",
              "RD    1464\n",
              "Name: Summons Number, dtype: int64"
            ]
          },
          "metadata": {
            "tags": []
          },
          "execution_count": 219
        }
      ]
    },
    {
      "cell_type": "code",
      "metadata": {
        "colab": {
          "base_uri": "https://localhost:8080/",
          "height": 428
        },
        "id": "9HNhK3SNy611",
        "outputId": "b5ca8e09-1aed-4227-baec-e3645b5067c4"
      },
      "source": [
        "fig = plt.figure(figsize=(15, 7))\r\n",
        "\r\n",
        "color_map = plt.cm.get_cmap('Blues').reversed()\r\n",
        "\r\n",
        "ax = top_colors_pas.plot.pie(colormap='twilight_shifted', autopct='%1.0f%%', textprops={'color':\"#505050\"})\r\n",
        "ax.set(xlabel='', ylabel='')\r\n",
        "\r\n",
        "plt.title('Proportion of the color of vehicles with passenger plates',\r\n",
        "          size=14, alpha=0.8);\r\n",
        "\r\n",
        "plt.show();"
      ],
      "execution_count": 220,
      "outputs": [
        {
          "output_type": "display_data",
          "data": {
            "image/png": "[encoded data removed]",
            "text/plain": [
              "<Figure size 1080x504 with 1 Axes>"
            ]
          },
          "metadata": {
            "tags": []
          }
        }
      ]
    },
    {
      "cell_type": "code",
      "metadata": {
        "colab": {
          "base_uri": "https://localhost:8080/"
        },
        "id": "OIZg0Kzdy6pO",
        "outputId": "c0a40a9c-a648-4f15-dd5e-dfd9e150c04d"
      },
      "source": [
        "top_colors_com = df[df['Plate Type'] == 'COM'].groupby('Vehicle Color')['Summons Number'].count().nlargest(5)\r\n",
        "top_colors_com"
      ],
      "execution_count": 221,
      "outputs": [
        {
          "output_type": "execute_result",
          "data": {
            "text/plain": [
              "Vehicle Color\n",
              "WH       2882\n",
              "WHITE     976\n",
              "BROWN     953\n",
              "GY        230\n",
              "BL        186\n",
              "Name: Summons Number, dtype: int64"
            ]
          },
          "metadata": {
            "tags": []
          },
          "execution_count": 221
        }
      ]
    },
    {
      "cell_type": "code",
      "metadata": {
        "colab": {
          "base_uri": "https://localhost:8080/",
          "height": 428
        },
        "id": "nFfvZwVDzCJU",
        "outputId": "bded4964-5b3e-4a2a-9251-86fc143c18ad"
      },
      "source": [
        "fig = plt.figure(figsize=(15, 7))\r\n",
        "\r\n",
        "color_map = plt.cm.get_cmap('Blues').reversed()\r\n",
        "\r\n",
        "ax = top_colors_com.plot.pie(colormap='twilight_shifted', autopct='%1.0f%%', textprops={'color':\"#505050\"})\r\n",
        "ax.set(xlabel='', ylabel='')\r\n",
        "\r\n",
        "plt.title('Proportion of the color of vehicles with comercial plates',\r\n",
        "          size=14, alpha=0.8);\r\n",
        "\r\n",
        "plt.show();"
      ],
      "execution_count": 222,
      "outputs": [
        {
          "output_type": "display_data",
          "data": {
            "image/png": "[encoded data removed]",
            "text/plain": [
              "<Figure size 1080x504 with 1 Axes>"
            ]
          },
          "metadata": {
            "tags": []
          }
        }
      ]
    },
    {
      "cell_type": "code",
      "metadata": {
        "colab": {
          "base_uri": "https://localhost:8080/",
          "height": 428
        },
        "id": "cLvGy3IV0o77",
        "outputId": "74f20cb7-e0b8-4ee5-e87b-a8c870e572bd"
      },
      "source": [
        "# As WH and WHITE correspond to the same thing, I'll merge them:\r\n",
        "\r\n",
        "df.loc[df['Vehicle Color']=='WHITE', 'Vehicle Color'] = 'WH'\r\n",
        "\r\n",
        "# Doing the plot again\r\n",
        "top_colors_com = df[df['Plate Type'] == 'COM'].groupby('Vehicle Color')['Summons Number'].count().nlargest(5)\r\n",
        "\r\n",
        "fig = plt.figure(figsize=(15, 7))\r\n",
        "\r\n",
        "color_map = plt.cm.get_cmap('Blues').reversed()\r\n",
        "\r\n",
        "ax = top_colors_com.plot.pie(colormap='twilight_shifted', autopct='%1.0f%%', textprops={'color':\"#505050\"})\r\n",
        "ax.set(xlabel='', ylabel='')\r\n",
        "\r\n",
        "plt.title('Proportion of the color of vehicles with comercial plates',\r\n",
        "          size=14, alpha=0.8);\r\n",
        "\r\n",
        "plt.show();"
      ],
      "execution_count": 223,
      "outputs": [
        {
          "output_type": "display_data",
          "data": {
            "image/png": "[encoded data removed]",
            "text/plain": [
              "<Figure size 1080x504 with 1 Axes>"
            ]
          },
          "metadata": {
            "tags": []
          }
        }
      ]
    },
    {
      "cell_type": "code",
      "metadata": {
        "colab": {
          "base_uri": "https://localhost:8080/"
        },
        "id": "xFZhK0v51LZf",
        "outputId": "ff9696dc-5b0c-40fb-8e61-cf494a19c98b"
      },
      "source": [
        "# The final numbers\r\n",
        "top_colors_com"
      ],
      "execution_count": 224,
      "outputs": [
        {
          "output_type": "execute_result",
          "data": {
            "text/plain": [
              "Vehicle Color\n",
              "WH       3858\n",
              "BROWN     953\n",
              "GY        230\n",
              "BL        186\n",
              "BK        169\n",
              "Name: Summons Number, dtype: int64"
            ]
          },
          "metadata": {
            "tags": []
          },
          "execution_count": 224
        }
      ]
    },
    {
      "cell_type": "markdown",
      "metadata": {
        "id": "YjDq3V3pSQvd"
      },
      "source": [
        "###Number of parking violations per registration state\r\n",
        "Display the number of registration states represented in the data and the average number of parking violations per registration state."
      ]
    },
    {
      "cell_type": "code",
      "metadata": {
        "id": "MBKAMH1d0haF",
        "colab": {
          "base_uri": "https://localhost:8080/",
          "height": 204
        },
        "outputId": "eb316146-acdc-4241-e7b7-7d1c557b518c"
      },
      "source": [
        "df.head()"
      ],
      "execution_count": 225,
      "outputs": [
        {
          "output_type": "execute_result",
          "data": {
            "text/html": [
              "<div>\n",
              "<style scoped>\n",
              "    .dataframe tbody tr th:only-of-type {\n",
              "        vertical-align: middle;\n",
              "    }\n",
              "\n",
              "    .dataframe tbody tr th {\n",
              "        vertical-align: top;\n",
              "    }\n",
              "\n",
              "    .dataframe thead th {\n",
              "        text-align: right;\n",
              "    }\n",
              "</style>\n",
              "<table border=\"1\" class=\"dataframe\">\n",
              "  <thead>\n",
              "    <tr style=\"text-align: right;\">\n",
              "      <th></th>\n",
              "      <th>Summons Number</th>\n",
              "      <th>Registration State</th>\n",
              "      <th>Plate Type</th>\n",
              "      <th>Issue Date</th>\n",
              "      <th>Violation Code</th>\n",
              "      <th>Vehicle Make</th>\n",
              "      <th>Violation Time</th>\n",
              "      <th>Violation County</th>\n",
              "      <th>Street Name</th>\n",
              "      <th>Vehicle Color</th>\n",
              "      <th>Vehicle Year</th>\n",
              "    </tr>\n",
              "  </thead>\n",
              "  <tbody>\n",
              "    <tr>\n",
              "      <th>0</th>\n",
              "      <td>4714702166</td>\n",
              "      <td>NY</td>\n",
              "      <td>PAS</td>\n",
              "      <td>2020-11-12</td>\n",
              "      <td>36</td>\n",
              "      <td>BMW</td>\n",
              "      <td>0637P</td>\n",
              "      <td>BK</td>\n",
              "      <td>WB ATLANTIC AVE @ SH</td>\n",
              "      <td>GY</td>\n",
              "      <td>2007</td>\n",
              "    </tr>\n",
              "    <tr>\n",
              "      <th>4</th>\n",
              "      <td>4706640702</td>\n",
              "      <td>NJ</td>\n",
              "      <td>PAS</td>\n",
              "      <td>2020-09-09</td>\n",
              "      <td>36</td>\n",
              "      <td>TOYOT</td>\n",
              "      <td>0723A</td>\n",
              "      <td>BK</td>\n",
              "      <td>WB FOSTER AVE @ E 18</td>\n",
              "      <td>NaN</td>\n",
              "      <td>2002</td>\n",
              "    </tr>\n",
              "    <tr>\n",
              "      <th>5</th>\n",
              "      <td>4708208868</td>\n",
              "      <td>NY</td>\n",
              "      <td>PAS</td>\n",
              "      <td>2020-09-21</td>\n",
              "      <td>36</td>\n",
              "      <td>INFIN</td>\n",
              "      <td>0655P</td>\n",
              "      <td>BK</td>\n",
              "      <td>NB KNAPP ST @ VOORHI</td>\n",
              "      <td>BK</td>\n",
              "      <td>2017</td>\n",
              "    </tr>\n",
              "    <tr>\n",
              "      <th>6</th>\n",
              "      <td>8818510060</td>\n",
              "      <td>NY</td>\n",
              "      <td>PAS</td>\n",
              "      <td>2020-07-14</td>\n",
              "      <td>20</td>\n",
              "      <td>HONDA</td>\n",
              "      <td>1049A</td>\n",
              "      <td>K</td>\n",
              "      <td>Surf Ave</td>\n",
              "      <td>GY</td>\n",
              "      <td>2008</td>\n",
              "    </tr>\n",
              "    <tr>\n",
              "      <th>7</th>\n",
              "      <td>4702592464</td>\n",
              "      <td>NY</td>\n",
              "      <td>PAS</td>\n",
              "      <td>2020-08-10</td>\n",
              "      <td>36</td>\n",
              "      <td>HONDA</td>\n",
              "      <td>0358P</td>\n",
              "      <td>QN</td>\n",
              "      <td>EB ROCKAWAY BLVD @ 1</td>\n",
              "      <td>BK</td>\n",
              "      <td>2016</td>\n",
              "    </tr>\n",
              "  </tbody>\n",
              "</table>\n",
              "</div>"
            ],
            "text/plain": [
              "   Summons Number Registration State  ... Vehicle Color Vehicle Year\n",
              "0      4714702166                 NY  ...            GY         2007\n",
              "4      4706640702                 NJ  ...           NaN         2002\n",
              "5      4708208868                 NY  ...            BK         2017\n",
              "6      8818510060                 NY  ...            GY         2008\n",
              "7      4702592464                 NY  ...            BK         2016\n",
              "\n",
              "[5 rows x 11 columns]"
            ]
          },
          "metadata": {
            "tags": []
          },
          "execution_count": 225
        }
      ]
    },
    {
      "cell_type": "code",
      "metadata": {
        "id": "Oy6LA8L-x3A5"
      },
      "source": [
        "# Unique states\r\n",
        "\r\n",
        "unq_states_noNY = df[df['Registration State'] != 'NY'].groupby('Registration State')['Summons Number'].count()\r\n",
        "unq_states = df.groupby('Registration State')['Summons Number'].count()"
      ],
      "execution_count": 226,
      "outputs": []
    },
    {
      "cell_type": "code",
      "metadata": {
        "colab": {
          "base_uri": "https://localhost:8080/",
          "height": 590
        },
        "id": "un9nmGmByi7c",
        "outputId": "9ed17e95-1dcf-428c-ad6b-59007409eb38"
      },
      "source": [
        "fig = plt.figure(figsize=(18, 9))\r\n",
        "fig.patch.set_facecolor('#eaeaf2')\r\n",
        "\r\n",
        "sns.barplot(x=unq_states_noNY.index, y=unq_states_noNY.values);\r\n",
        "plt.title('Amount of parking violations \\n(excluding NY registered vehicles)',\r\n",
        "          size=14, alpha=0.8);"
      ],
      "execution_count": 227,
      "outputs": [
        {
          "output_type": "display_data",
          "data": {
            "image/png": "[encoded data removed]",
            "text/plain": [
              "<Figure size 1296x648 with 1 Axes>"
            ]
          },
          "metadata": {
            "tags": []
          }
        }
      ]
    },
    {
      "cell_type": "code",
      "metadata": {
        "colab": {
          "base_uri": "https://localhost:8080/",
          "height": 590
        },
        "id": "zcN4TKmk03fi",
        "outputId": "0aca7368-224a-4393-e3cb-7af35b5873c9"
      },
      "source": [
        "fig = plt.figure(figsize=(18, 9))\r\n",
        "fig.patch.set_facecolor('#eaeaf2')\r\n",
        "\r\n",
        "sns.barplot(x=unq_states.index, y=unq_states.values);\r\n",
        "plt.title('Amount of parking violations \\n(With NY registered vehicles)',\r\n",
        "          size=14, alpha=0.8);"
      ],
      "execution_count": 228,
      "outputs": [
        {
          "output_type": "display_data",
          "data": {
            "image/png": "[encoded data removed]",
            "text/plain": [
              "<Figure size 1296x648 with 1 Axes>"
            ]
          },
          "metadata": {
            "tags": []
          }
        }
      ]
    },
    {
      "cell_type": "code",
      "metadata": {
        "colab": {
          "base_uri": "https://localhost:8080/"
        },
        "id": "0_UREBRW1Sn7",
        "outputId": "73ba8ac2-2d4d-463b-d2ac-a26cda333345"
      },
      "source": [
        "print('Number of Registration States: ' + str(df['Registration State'].nunique()))\r\n",
        "\r\n",
        "print('Average Number of Parking Violations per Registration State: ' +  \r\n",
        "      str(df.groupby('Registration State')['Summons Number'].count().mean()))"
      ],
      "execution_count": 229,
      "outputs": [
        {
          "output_type": "stream",
          "text": [
            "Number of Registration States: 45\n",
            "Average Number of Parking Violations per Registration State: 865.1555555555556\n"
          ],
          "name": "stdout"
        }
      ]
    },
    {
      "cell_type": "markdown",
      "metadata": {
        "id": "st37a52MST33"
      },
      "source": [
        "###The most parking violations for each violation code."
      ]
    },
    {
      "cell_type": "code",
      "metadata": {
        "colab": {
          "base_uri": "https://localhost:8080/",
          "height": 419
        },
        "id": "b1EncB7K1sWb",
        "outputId": "e928db29-2c47-4144-f341-28500048c33d"
      },
      "source": [
        "df.groupby('Violation Code')['Plate Type'].apply(lambda x: x.value_counts().head(1)).reset_index(name='Count').rename(columns={'level_1': 'Plate Type'})"
      ],
      "execution_count": 230,
      "outputs": [
        {
          "output_type": "execute_result",
          "data": {
            "text/html": [
              "<div>\n",
              "<style scoped>\n",
              "    .dataframe tbody tr th:only-of-type {\n",
              "        vertical-align: middle;\n",
              "    }\n",
              "\n",
              "    .dataframe tbody tr th {\n",
              "        vertical-align: top;\n",
              "    }\n",
              "\n",
              "    .dataframe thead th {\n",
              "        text-align: right;\n",
              "    }\n",
              "</style>\n",
              "<table border=\"1\" class=\"dataframe\">\n",
              "  <thead>\n",
              "    <tr style=\"text-align: right;\">\n",
              "      <th></th>\n",
              "      <th>Violation Code</th>\n",
              "      <th>Plate Type</th>\n",
              "      <th>Count</th>\n",
              "    </tr>\n",
              "  </thead>\n",
              "  <tbody>\n",
              "    <tr>\n",
              "      <th>0</th>\n",
              "      <td>4</td>\n",
              "      <td>COM</td>\n",
              "      <td>4</td>\n",
              "    </tr>\n",
              "    <tr>\n",
              "      <th>1</th>\n",
              "      <td>5</td>\n",
              "      <td>PAS</td>\n",
              "      <td>1080</td>\n",
              "    </tr>\n",
              "    <tr>\n",
              "      <th>2</th>\n",
              "      <td>6</td>\n",
              "      <td>APP</td>\n",
              "      <td>3</td>\n",
              "    </tr>\n",
              "    <tr>\n",
              "      <th>3</th>\n",
              "      <td>7</td>\n",
              "      <td>PAS</td>\n",
              "      <td>1398</td>\n",
              "    </tr>\n",
              "    <tr>\n",
              "      <th>4</th>\n",
              "      <td>8</td>\n",
              "      <td>PAS</td>\n",
              "      <td>1</td>\n",
              "    </tr>\n",
              "    <tr>\n",
              "      <th>...</th>\n",
              "      <td>...</td>\n",
              "      <td>...</td>\n",
              "      <td>...</td>\n",
              "    </tr>\n",
              "    <tr>\n",
              "      <th>69</th>\n",
              "      <td>89</td>\n",
              "      <td>COM</td>\n",
              "      <td>1</td>\n",
              "    </tr>\n",
              "    <tr>\n",
              "      <th>70</th>\n",
              "      <td>91</td>\n",
              "      <td>PAS</td>\n",
              "      <td>2</td>\n",
              "    </tr>\n",
              "    <tr>\n",
              "      <th>71</th>\n",
              "      <td>95</td>\n",
              "      <td>PAS</td>\n",
              "      <td>1</td>\n",
              "    </tr>\n",
              "    <tr>\n",
              "      <th>72</th>\n",
              "      <td>98</td>\n",
              "      <td>PAS</td>\n",
              "      <td>91</td>\n",
              "    </tr>\n",
              "    <tr>\n",
              "      <th>73</th>\n",
              "      <td>99</td>\n",
              "      <td>PAS</td>\n",
              "      <td>4</td>\n",
              "    </tr>\n",
              "  </tbody>\n",
              "</table>\n",
              "<p>74 rows × 3 columns</p>\n",
              "</div>"
            ],
            "text/plain": [
              "    Violation Code Plate Type  Count\n",
              "0                4        COM      4\n",
              "1                5        PAS   1080\n",
              "2                6        APP      3\n",
              "3                7        PAS   1398\n",
              "4                8        PAS      1\n",
              "..             ...        ...    ...\n",
              "69              89        COM      1\n",
              "70              91        PAS      2\n",
              "71              95        PAS      1\n",
              "72              98        PAS     91\n",
              "73              99        PAS      4\n",
              "\n",
              "[74 rows x 3 columns]"
            ]
          },
          "metadata": {
            "tags": []
          },
          "execution_count": 230
        }
      ]
    },
    {
      "cell_type": "markdown",
      "metadata": {
        "id": "kpztQ_nSSVwR"
      },
      "source": [
        "###The percentage of parking violations in each county and display in descending order."
      ]
    },
    {
      "cell_type": "code",
      "metadata": {
        "id": "dFZG_t8Z1ukJ"
      },
      "source": [
        "df_county = df.groupby('Violation County')['Summons Number'].count().reset_index(name='Amount')"
      ],
      "execution_count": 235,
      "outputs": []
    },
    {
      "cell_type": "code",
      "metadata": {
        "colab": {
          "base_uri": "https://localhost:8080/",
          "height": 328
        },
        "id": "FMNdECwe2Yc6",
        "outputId": "c62ac0d4-ccd7-4e83-90f5-f07c1fa82f6b"
      },
      "source": [
        "df_county"
      ],
      "execution_count": 236,
      "outputs": [
        {
          "output_type": "execute_result",
          "data": {
            "text/html": [
              "<div>\n",
              "<style scoped>\n",
              "    .dataframe tbody tr th:only-of-type {\n",
              "        vertical-align: middle;\n",
              "    }\n",
              "\n",
              "    .dataframe tbody tr th {\n",
              "        vertical-align: top;\n",
              "    }\n",
              "\n",
              "    .dataframe thead th {\n",
              "        text-align: right;\n",
              "    }\n",
              "</style>\n",
              "<table border=\"1\" class=\"dataframe\">\n",
              "  <thead>\n",
              "    <tr style=\"text-align: right;\">\n",
              "      <th></th>\n",
              "      <th>Violation County</th>\n",
              "      <th>Amount</th>\n",
              "    </tr>\n",
              "  </thead>\n",
              "  <tbody>\n",
              "    <tr>\n",
              "      <th>0</th>\n",
              "      <td>BK</td>\n",
              "      <td>5874</td>\n",
              "    </tr>\n",
              "    <tr>\n",
              "      <th>1</th>\n",
              "      <td>BX</td>\n",
              "      <td>5199</td>\n",
              "    </tr>\n",
              "    <tr>\n",
              "      <th>2</th>\n",
              "      <td>K</td>\n",
              "      <td>5095</td>\n",
              "    </tr>\n",
              "    <tr>\n",
              "      <th>3</th>\n",
              "      <td>MN</td>\n",
              "      <td>2688</td>\n",
              "    </tr>\n",
              "    <tr>\n",
              "      <th>4</th>\n",
              "      <td>NY</td>\n",
              "      <td>8076</td>\n",
              "    </tr>\n",
              "    <tr>\n",
              "      <th>5</th>\n",
              "      <td>Q</td>\n",
              "      <td>5049</td>\n",
              "    </tr>\n",
              "    <tr>\n",
              "      <th>6</th>\n",
              "      <td>QN</td>\n",
              "      <td>5341</td>\n",
              "    </tr>\n",
              "    <tr>\n",
              "      <th>7</th>\n",
              "      <td>R</td>\n",
              "      <td>263</td>\n",
              "    </tr>\n",
              "    <tr>\n",
              "      <th>8</th>\n",
              "      <td>ST</td>\n",
              "      <td>1300</td>\n",
              "    </tr>\n",
              "  </tbody>\n",
              "</table>\n",
              "</div>"
            ],
            "text/plain": [
              "  Violation County  Amount\n",
              "0               BK    5874\n",
              "1               BX    5199\n",
              "2                K    5095\n",
              "3               MN    2688\n",
              "4               NY    8076\n",
              "5                Q    5049\n",
              "6               QN    5341\n",
              "7                R     263\n",
              "8               ST    1300"
            ]
          },
          "metadata": {
            "tags": []
          },
          "execution_count": 236
        }
      ]
    },
    {
      "cell_type": "code",
      "metadata": {
        "colab": {
          "base_uri": "https://localhost:8080/",
          "height": 574
        },
        "id": "2EKLKpoZ2Lgb",
        "outputId": "7a11ede0-2161-4640-b69a-26b2a6b651b2"
      },
      "source": [
        "fig = plt.figure(figsize=(18, 9))\r\n",
        "fig.patch.set_facecolor('#eaeaf2')\r\n",
        "\r\n",
        "sns.barplot(x=df_county['Violation County'], y=df_county['Amount']);\r\n",
        "plt.title('Number of parking violations in each county',\r\n",
        "          size=14, alpha=0.8);"
      ],
      "execution_count": 237,
      "outputs": [
        {
          "output_type": "display_data",
          "data": {
            "image/png": "[encoded data removed]",
            "text/plain": [
              "<Figure size 1296x648 with 1 Axes>"
            ]
          },
          "metadata": {
            "tags": []
          }
        }
      ]
    },
    {
      "cell_type": "code",
      "metadata": {
        "colab": {
          "base_uri": "https://localhost:8080/",
          "height": 863
        },
        "id": "oQ-21_5a264x",
        "outputId": "0cfde6e3-1e10-4dfb-d8c0-88610356fd84"
      },
      "source": [
        "fig = plt.figure(figsize=(15, 15))\r\n",
        "fig.patch.set_facecolor('#eaeaf2')\r\n",
        "\r\n",
        "plt.pie(x=df_county['Amount'], labels=df_county['Violation County'], colors=sns.color_palette(), autopct='%1.0f%%')\r\n",
        "\r\n",
        "plt.title('Percentage of number of parking violations in each county',\r\n",
        "          size=14, alpha=0.8);\r\n",
        "\r\n",
        "plt.show();"
      ],
      "execution_count": 262,
      "outputs": [
        {
          "output_type": "display_data",
          "data": {
            "image/png": "[encoded data removed]",
            "text/plain": [
              "<Figure size 1080x1080 with 1 Axes>"
            ]
          },
          "metadata": {
            "tags": []
          }
        }
      ]
    }
  ]
}