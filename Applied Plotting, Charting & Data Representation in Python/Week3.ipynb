{
  "nbformat": 4,
  "nbformat_minor": 0,
  "metadata": {
    "kernelspec": {
      "display_name": "Python 3",
      "language": "python",
      "name": "python3"
    },
    "language_info": {
      "codemirror_mode": {
        "name": "ipython",
        "version": 3
      },
      "file_extension": ".py",
      "mimetype": "text/x-python",
      "name": "python",
      "nbconvert_exporter": "python",
      "pygments_lexer": "ipython3",
      "version": "3.6.2"
    },
    "colab": {
      "name": "Week3.ipynb",
      "provenance": [],
      "include_colab_link": true
    }
  },
  "cells": [
    {
      "cell_type": "markdown",
      "metadata": {
        "id": "view-in-github",
        "colab_type": "text"
      },
      "source": [
        "<a href=\"https://colab.research.google.com/github/pedrohortencio/applied-data-science-with-python/blob/main/Applied%20Plotting%2C%20Charting%20%26%20Data%20Representation%20in%20Python/Week3.ipynb\" target=\"_parent\"><img src=\"https://colab.research.google.com/assets/colab-badge.svg\" alt=\"Open In Colab\"/></a>"
      ]
    },
    {
      "cell_type": "markdown",
      "metadata": {
        "id": "-em74I80c5-u"
      },
      "source": [
        "# Subplots"
      ]
    },
    {
      "cell_type": "code",
      "metadata": {
        "collapsed": true,
        "id": "sDbYY7CSc5-v"
      },
      "source": [
        "%matplotlib notebook\n",
        "\n",
        "import matplotlib.pyplot as plt\n",
        "import numpy as np\n",
        "\n",
        "plt.subplot?"
      ],
      "execution_count": null,
      "outputs": []
    },
    {
      "cell_type": "code",
      "metadata": {
        "id": "fY0L45qkc5-w"
      },
      "source": [
        "plt.figure()\n",
        "# subplot with 1 row, 2 columns, and current axis is 1st subplot axes\n",
        "plt.subplot(1, 2, 1)\n",
        "\n",
        "linear_data = np.array([1,2,3,4,5,6,7,8])\n",
        "\n",
        "plt.plot(linear_data, '-o')"
      ],
      "execution_count": null,
      "outputs": []
    },
    {
      "cell_type": "code",
      "metadata": {
        "id": "SnA3Rl8gc5-w"
      },
      "source": [
        "exponential_data = linear_data**2 \n",
        "\n",
        "# subplot with 1 row, 2 columns, and current axis is 2nd subplot axes\n",
        "plt.subplot(1, 2, 2)\n",
        "plt.plot(exponential_data, '-o')"
      ],
      "execution_count": null,
      "outputs": []
    },
    {
      "cell_type": "code",
      "metadata": {
        "id": "YjzLmo1xc5-x"
      },
      "source": [
        "# plot exponential data on 1st subplot axes\n",
        "plt.subplot(1, 2, 1)\n",
        "plt.plot(exponential_data, '-x')"
      ],
      "execution_count": null,
      "outputs": []
    },
    {
      "cell_type": "code",
      "metadata": {
        "id": "mYjtYuMGc5-x"
      },
      "source": [
        "plt.figure()\n",
        "ax1 = plt.subplot(1, 2, 1)\n",
        "plt.plot(linear_data, '-o')\n",
        "# pass sharey=ax1 to ensure the two subplots share the same y axis\n",
        "ax2 = plt.subplot(1, 2, 2, sharey=ax1)\n",
        "plt.plot(exponential_data, '-x')"
      ],
      "execution_count": null,
      "outputs": []
    },
    {
      "cell_type": "code",
      "metadata": {
        "id": "6_A0h7g1c5-x"
      },
      "source": [
        "plt.figure()\n",
        "# the right hand side is equivalent shorthand syntax\n",
        "plt.subplot(1,2,1) == plt.subplot(121)"
      ],
      "execution_count": null,
      "outputs": []
    },
    {
      "cell_type": "code",
      "metadata": {
        "id": "Rc4wWDUvc5-x"
      },
      "source": [
        "# create a 3x3 grid of subplots\n",
        "fig, ((ax1,ax2,ax3), (ax4,ax5,ax6), (ax7,ax8,ax9)) = plt.subplots(3, 3, sharex=True, sharey=True)\n",
        "# plot the linear_data on the 5th subplot axes \n",
        "ax5.plot(linear_data, '-')"
      ],
      "execution_count": null,
      "outputs": []
    },
    {
      "cell_type": "code",
      "metadata": {
        "id": "0T91JQ9ic5-y"
      },
      "source": [
        "# set inside tick labels to visible\n",
        "for ax in plt.gcf().get_axes():\n",
        "    for label in ax.get_xticklabels() + ax.get_yticklabels():\n",
        "        label.set_visible(True)"
      ],
      "execution_count": null,
      "outputs": []
    },
    {
      "cell_type": "code",
      "metadata": {
        "collapsed": true,
        "id": "oofD3V_ec5-y"
      },
      "source": [
        "# necessary on some systems to update the plot\n",
        "plt.gcf().canvas.draw()"
      ],
      "execution_count": null,
      "outputs": []
    },
    {
      "cell_type": "markdown",
      "metadata": {
        "id": "oiedTmuNc5-y"
      },
      "source": [
        "# Histograms"
      ]
    },
    {
      "cell_type": "code",
      "metadata": {
        "id": "_ltCOJ3zc5-y"
      },
      "source": [
        "# create 2x2 grid of axis subplots\n",
        "fig, ((ax1, ax2), (ax3, ax4)) = plt.subplots(2, 2, sharex=True)\n",
        "axs = [ax1,ax2,ax3,ax4]\n",
        "\n",
        "# draw n = 10, 100, 1000, and 10000 samples from the normal distribution and plot corresponding histograms\n",
        "for n in range(0,len(axs)):\n",
        "    sample_size = 10**(n+1)\n",
        "    sample = np.random.normal(loc=0.0, scale=1.0, size=sample_size)\n",
        "    axs[n].hist(sample)\n",
        "    axs[n].set_title('n={}'.format(sample_size))"
      ],
      "execution_count": null,
      "outputs": []
    },
    {
      "cell_type": "code",
      "metadata": {
        "id": "jiNLYXNwc5-z"
      },
      "source": [
        "# repeat with number of bins set to 100\n",
        "fig, ((ax1, ax2), (ax3, ax4)) = plt.subplots(2, 2, sharex=True)\n",
        "axs = [ax1,ax2,ax3,ax4]\n",
        "\n",
        "for n in range(0,len(axs)):\n",
        "    sample_size = 10**(n+1)\n",
        "    sample = np.random.normal(loc=0.0, scale=1.0, size=sample_size)\n",
        "    axs[n].hist(sample, bins=100)\n",
        "    axs[n].set_title('n={}'.format(sample_size))"
      ],
      "execution_count": null,
      "outputs": []
    },
    {
      "cell_type": "code",
      "metadata": {
        "id": "6kud058Fc5-z"
      },
      "source": [
        "plt.figure()\n",
        "Y = np.random.normal(loc=0.0, scale=1.0, size=10000)\n",
        "X = np.random.random(size=10000)\n",
        "plt.scatter(X,Y)"
      ],
      "execution_count": null,
      "outputs": []
    },
    {
      "cell_type": "code",
      "metadata": {
        "id": "o64Kh_Puc5-z"
      },
      "source": [
        "# use gridspec to partition the figure into subplots\n",
        "import matplotlib.gridspec as gridspec\n",
        "\n",
        "plt.figure()\n",
        "gspec = gridspec.GridSpec(3, 3)\n",
        "\n",
        "top_histogram = plt.subplot(gspec[0, 1:])\n",
        "side_histogram = plt.subplot(gspec[1:, 0])\n",
        "lower_right = plt.subplot(gspec[1:, 1:])"
      ],
      "execution_count": null,
      "outputs": []
    },
    {
      "cell_type": "code",
      "metadata": {
        "id": "Z6ikIOrQc5-z"
      },
      "source": [
        "Y = np.random.normal(loc=0.0, scale=1.0, size=10000)\n",
        "X = np.random.random(size=10000)\n",
        "lower_right.scatter(X, Y)\n",
        "top_histogram.hist(X, bins=100)\n",
        "s = side_histogram.hist(Y, bins=100, orientation='horizontal')"
      ],
      "execution_count": null,
      "outputs": []
    },
    {
      "cell_type": "code",
      "metadata": {
        "collapsed": true,
        "id": "tyBWsIIvc5-0"
      },
      "source": [
        "# clear the histograms and plot normed histograms\n",
        "top_histogram.clear()\n",
        "top_histogram.hist(X, bins=100, normed=True)\n",
        "side_histogram.clear()\n",
        "side_histogram.hist(Y, bins=100, orientation='horizontal', normed=True)\n",
        "# flip the side histogram's x axis\n",
        "side_histogram.invert_xaxis()"
      ],
      "execution_count": null,
      "outputs": []
    },
    {
      "cell_type": "code",
      "metadata": {
        "id": "VvUitYkyc5-0"
      },
      "source": [
        "# change axes limits\n",
        "for ax in [top_histogram, lower_right]:\n",
        "    ax.set_xlim(0, 1)\n",
        "for ax in [side_histogram, lower_right]:\n",
        "    ax.set_ylim(-5, 5)"
      ],
      "execution_count": null,
      "outputs": []
    },
    {
      "cell_type": "markdown",
      "metadata": {
        "id": "NMPflsBgc5-0"
      },
      "source": [
        "![MOOC DATA](moocdata.png \"Image\")"
      ]
    },
    {
      "cell_type": "markdown",
      "metadata": {
        "id": "D428IV1wc5-0"
      },
      "source": [
        "# Box and Whisker Plots"
      ]
    },
    {
      "cell_type": "code",
      "metadata": {
        "id": "q5CacjWLc5-0"
      },
      "source": [
        "import pandas as pd\n",
        "normal_sample = np.random.normal(loc=0.0, scale=1.0, size=10000)\n",
        "random_sample = np.random.random(size=10000)\n",
        "gamma_sample = np.random.gamma(2, size=10000)\n",
        "\n",
        "df = pd.DataFrame({'normal': normal_sample, \n",
        "                   'random': random_sample, \n",
        "                   'gamma': gamma_sample})"
      ],
      "execution_count": null,
      "outputs": []
    },
    {
      "cell_type": "code",
      "metadata": {
        "id": "EpWAwtEyc5-1"
      },
      "source": [
        "df.describe()"
      ],
      "execution_count": null,
      "outputs": []
    },
    {
      "cell_type": "code",
      "metadata": {
        "id": "2AEpxK3Tc5-1"
      },
      "source": [
        "plt.figure()\n",
        "# create a boxplot of the normal data, assign the output to a variable to supress output\n",
        "_ = plt.boxplot(df['normal'], whis='range')"
      ],
      "execution_count": null,
      "outputs": []
    },
    {
      "cell_type": "code",
      "metadata": {
        "id": "veZvys6ac5-1"
      },
      "source": [
        "# clear the current figure\n",
        "plt.clf()\n",
        "# plot boxplots for all three of df's columns\n",
        "_ = plt.boxplot([ df['normal'], df['random'], df['gamma'] ], whis='range')"
      ],
      "execution_count": null,
      "outputs": []
    },
    {
      "cell_type": "code",
      "metadata": {
        "id": "LqP_7hUBc5-1"
      },
      "source": [
        "plt.figure()\n",
        "_ = plt.hist(df['gamma'], bins=100)"
      ],
      "execution_count": null,
      "outputs": []
    },
    {
      "cell_type": "code",
      "metadata": {
        "id": "OEllid6Oc5-1"
      },
      "source": [
        "import mpl_toolkits.axes_grid1.inset_locator as mpl_il\n",
        "\n",
        "plt.figure()\n",
        "plt.boxplot([ df['normal'], df['random'], df['gamma'] ], whis='range')\n",
        "# overlay axis on top of another \n",
        "ax2 = mpl_il.inset_axes(plt.gca(), width='60%', height='40%', loc=2)\n",
        "ax2.hist(df['gamma'], bins=100)\n",
        "ax2.margins(x=0.5)"
      ],
      "execution_count": null,
      "outputs": []
    },
    {
      "cell_type": "code",
      "metadata": {
        "collapsed": true,
        "id": "gq_wvqQcc5-1"
      },
      "source": [
        "# switch the y axis ticks for ax2 to the right side\n",
        "ax2.yaxis.tick_right()"
      ],
      "execution_count": null,
      "outputs": []
    },
    {
      "cell_type": "code",
      "metadata": {
        "id": "GEb6OS9xc5-2"
      },
      "source": [
        "# if `whis` argument isn't passed, boxplot defaults to showing 1.5*interquartile (IQR) whiskers with outliers\n",
        "plt.figure()\n",
        "_ = plt.boxplot([ df['normal'], df['random'], df['gamma'] ] )"
      ],
      "execution_count": null,
      "outputs": []
    },
    {
      "cell_type": "markdown",
      "metadata": {
        "id": "Oi1DSYoIc5-2"
      },
      "source": [
        "# Heatmaps"
      ]
    },
    {
      "cell_type": "code",
      "metadata": {
        "id": "kbjAGjorc5-2"
      },
      "source": [
        "plt.figure()\n",
        "\n",
        "Y = np.random.normal(loc=0.0, scale=1.0, size=10000)\n",
        "X = np.random.random(size=10000)\n",
        "_ = plt.hist2d(X, Y, bins=25)"
      ],
      "execution_count": null,
      "outputs": []
    },
    {
      "cell_type": "code",
      "metadata": {
        "id": "K-GgGYHzc5-2"
      },
      "source": [
        "plt.figure()\n",
        "_ = plt.hist2d(X, Y, bins=100)"
      ],
      "execution_count": null,
      "outputs": []
    },
    {
      "cell_type": "code",
      "metadata": {
        "id": "CTQmDj-Fc5-2"
      },
      "source": [
        "# add a colorbar legend\n",
        "plt.colorbar()"
      ],
      "execution_count": null,
      "outputs": []
    },
    {
      "cell_type": "markdown",
      "metadata": {
        "collapsed": true,
        "id": "ypHR2VU9c5-3"
      },
      "source": [
        "# Animations"
      ]
    },
    {
      "cell_type": "code",
      "metadata": {
        "collapsed": true,
        "id": "jgkSH2rbc5-3"
      },
      "source": [
        "import matplotlib.animation as animation\n",
        "\n",
        "n = 100\n",
        "x = np.random.randn(n)"
      ],
      "execution_count": null,
      "outputs": []
    },
    {
      "cell_type": "code",
      "metadata": {
        "id": "ftn8bOdfc5-4"
      },
      "source": [
        "# create the function that will do the plotting, where curr is the current frame\n",
        "def update(curr):\n",
        "    # check if animation is at the last frame, and if so, stop the animation a\n",
        "    if curr == n: \n",
        "        a.event_source.stop()\n",
        "    plt.cla()\n",
        "    bins = np.arange(-4, 4, 0.5)\n",
        "    plt.hist(x[:curr], bins=bins)\n",
        "    plt.axis([-4,4,0,30])\n",
        "    plt.gca().set_title('Sampling the Normal Distribution')\n",
        "    plt.gca().set_ylabel('Frequency')\n",
        "    plt.gca().set_xlabel('Value')\n",
        "    plt.annotate('n = {}'.format(curr), [3,27])"
      ],
      "execution_count": null,
      "outputs": []
    },
    {
      "cell_type": "code",
      "metadata": {
        "id": "Ch70HK0Pc5-5"
      },
      "source": [
        "fig = plt.figure()\n",
        "a = animation.FuncAnimation(fig, update, interval=100)"
      ],
      "execution_count": null,
      "outputs": []
    },
    {
      "cell_type": "markdown",
      "metadata": {
        "id": "elkABezzc5-5"
      },
      "source": [
        "# Interactivity"
      ]
    },
    {
      "cell_type": "code",
      "metadata": {
        "id": "1H2KRsaYc5-6"
      },
      "source": [
        "plt.figure()\n",
        "data = np.random.rand(10)\n",
        "plt.plot(data)\n",
        "\n",
        "def onclick(event):\n",
        "    plt.cla()\n",
        "    plt.plot(data)\n",
        "    plt.gca().set_title('Event at pixels {},{} \\nand data {},{}'.format(event.x, event.y, event.xdata, event.ydata))\n",
        "\n",
        "# tell mpl_connect we want to pass a 'button_press_event' into onclick when the event is detected\n",
        "plt.gcf().canvas.mpl_connect('button_press_event', onclick)"
      ],
      "execution_count": null,
      "outputs": []
    },
    {
      "cell_type": "code",
      "metadata": {
        "id": "2dmCMPP2c5-6"
      },
      "source": [
        "from random import shuffle\n",
        "origins = ['China', 'Brazil', 'India', 'USA', 'Canada', 'UK', 'Germany', 'Iraq', 'Chile', 'Mexico']\n",
        "\n",
        "shuffle(origins)\n",
        "\n",
        "df = pd.DataFrame({'height': np.random.rand(10),\n",
        "                   'weight': np.random.rand(10),\n",
        "                   'origin': origins})\n",
        "df"
      ],
      "execution_count": null,
      "outputs": []
    },
    {
      "cell_type": "code",
      "metadata": {
        "id": "SD6dZ9_0c5-6"
      },
      "source": [
        "plt.figure()\n",
        "# picker=5 means the mouse doesn't have to click directly on an event, but can be up to 5 pixels away\n",
        "plt.scatter(df['height'], df['weight'], picker=5)\n",
        "plt.gca().set_ylabel('Weight')\n",
        "plt.gca().set_xlabel('Height')"
      ],
      "execution_count": null,
      "outputs": []
    },
    {
      "cell_type": "code",
      "metadata": {
        "id": "EPfUMPA9c5-6"
      },
      "source": [
        "def onpick(event):\n",
        "    origin = df.iloc[event.ind[0]]['origin']\n",
        "    plt.gca().set_title('Selected item came from {}'.format(origin))\n",
        "\n",
        "# tell mpl_connect we want to pass a 'pick_event' into onpick when the event is detected\n",
        "plt.gcf().canvas.mpl_connect('pick_event', onpick)"
      ],
      "execution_count": null,
      "outputs": []
    }
  ]
}