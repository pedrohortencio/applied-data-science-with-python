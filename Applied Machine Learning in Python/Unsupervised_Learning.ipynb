{
  "nbformat": 4,
  "nbformat_minor": 0,
  "metadata": {
    "anaconda-cloud": {},
    "kernelspec": {
      "display_name": "Python [conda env:NotebookRecording]",
      "language": "python",
      "name": "conda-env-NotebookRecording-py"
    },
    "language_info": {
      "codemirror_mode": {
        "name": "ipython",
        "version": 3
      },
      "file_extension": ".py",
      "mimetype": "text/x-python",
      "name": "python",
      "nbconvert_exporter": "python",
      "pygments_lexer": "ipython3",
      "version": "3.5.3"
    },
    "colab": {
      "name": "Unsupervised Learning.ipynb",
      "provenance": [],
      "toc_visible": true,
      "include_colab_link": true
    }
  },
  "cells": [
    {
      "cell_type": "markdown",
      "metadata": {
        "id": "view-in-github",
        "colab_type": "text"
      },
      "source": [
        "<a href=\"https://colab.research.google.com/github/pedrohortencio/applied-data-science-with-python/blob/main/Applied%20Machine%20Learning%20in%20Python/Unsupervised_Learning.ipynb\" target=\"_parent\"><img src=\"https://colab.research.google.com/assets/colab-badge.svg\" alt=\"Open In Colab\"/></a>"
      ]
    },
    {
      "cell_type": "markdown",
      "metadata": {
        "id": "MpQcOFRor-ZY"
      },
      "source": [
        "# Applied Machine Learning: Unsupervised Learning"
      ]
    },
    {
      "cell_type": "markdown",
      "metadata": {
        "id": "ORUY4ndkr-aA"
      },
      "source": [
        "## Preamble and Datasets"
      ]
    },
    {
      "cell_type": "code",
      "metadata": {
        "id": "njgCSIwWr-aD"
      },
      "source": [
        "%matplotlib notebook\n",
        "import numpy as np\n",
        "import pandas as pd\n",
        "import seaborn as sn\n",
        "import matplotlib.pyplot as plt\n",
        "from sklearn.datasets import load_breast_cancer\n",
        "\n",
        "# Breast cancer dataset\n",
        "cancer = load_breast_cancer()\n",
        "(X_cancer, y_cancer) = load_breast_cancer(return_X_y = True)\n",
        "\n",
        "# Our sample fruits dataset\n",
        "fruits = pd.read_table('fruit_data_with_colors.txt')\n",
        "X_fruits = fruits[['mass','width','height', 'color_score']]\n",
        "y_fruits = fruits[['fruit_label']] - 1"
      ],
      "execution_count": null,
      "outputs": []
    },
    {
      "cell_type": "markdown",
      "metadata": {
        "id": "mLZes4y7r-aF"
      },
      "source": [
        "## Dimensionality Reduction and Manifold Learning"
      ]
    },
    {
      "cell_type": "markdown",
      "metadata": {
        "id": "6ZAH1nTDr-aL"
      },
      "source": [
        "### Principal Components Analysis (PCA)"
      ]
    },
    {
      "cell_type": "markdown",
      "metadata": {
        "id": "0Q9sCaeDr-aM"
      },
      "source": [
        "#### Using PCA to find the first two principal components of the breast cancer dataset"
      ]
    },
    {
      "cell_type": "code",
      "metadata": {
        "id": "gYuRy650r-aN"
      },
      "source": [
        "from sklearn.preprocessing import StandardScaler\n",
        "from sklearn.decomposition import PCA\n",
        "from sklearn.datasets import load_breast_cancer\n",
        "\n",
        "cancer = load_breast_cancer()\n",
        "(X_cancer, y_cancer) = load_breast_cancer(return_X_y = True)\n",
        "\n",
        "# Before applying PCA, each feature should be centered (zero mean) and with unit variance\n",
        "X_normalized = StandardScaler().fit(X_cancer).transform(X_cancer)  \n",
        "\n",
        "pca = PCA(n_components = 2).fit(X_normalized)\n",
        "\n",
        "X_pca = pca.transform(X_normalized)\n",
        "print(X_cancer.shape, X_pca.shape)"
      ],
      "execution_count": null,
      "outputs": []
    },
    {
      "cell_type": "markdown",
      "metadata": {
        "id": "lqQnW38qr-aO"
      },
      "source": [
        "#### Plotting the PCA-transformed version of the breast cancer dataset"
      ]
    },
    {
      "cell_type": "code",
      "metadata": {
        "id": "g0TocH6Ar-aP"
      },
      "source": [
        "from adspy_shared_utilities import plot_labelled_scatter\n",
        "plot_labelled_scatter(X_pca, y_cancer, ['malignant', 'benign'])\n",
        "\n",
        "plt.xlabel('First principal component')\n",
        "plt.ylabel('Second principal component')\n",
        "plt.title('Breast Cancer Dataset PCA (n_components = 2)');"
      ],
      "execution_count": null,
      "outputs": []
    },
    {
      "cell_type": "markdown",
      "metadata": {
        "id": "aPhX8bM-r-aR"
      },
      "source": [
        "#### Plotting the magnitude of each feature value for the first two principal components"
      ]
    },
    {
      "cell_type": "code",
      "metadata": {
        "id": "qW0C26sLr-aS"
      },
      "source": [
        "fig = plt.figure(figsize=(8, 4))\n",
        "plt.imshow(pca.components_, interpolation = 'none', cmap = 'plasma')\n",
        "feature_names = list(cancer.feature_names)\n",
        "\n",
        "plt.gca().set_xticks(np.arange(-.5, len(feature_names)));\n",
        "plt.gca().set_yticks(np.arange(0.5, 2));\n",
        "plt.gca().set_xticklabels(feature_names, rotation=90, ha='left', fontsize=12);\n",
        "plt.gca().set_yticklabels(['First PC', 'Second PC'], va='bottom', fontsize=12);\n",
        "\n",
        "plt.colorbar(orientation='horizontal', ticks=[pca.components_.min(), 0, \n",
        "                                              pca.components_.max()], pad=0.65);"
      ],
      "execution_count": null,
      "outputs": []
    },
    {
      "cell_type": "markdown",
      "metadata": {
        "id": "zQVerT3gr-aT"
      },
      "source": [
        "#### PCA on the fruit dataset (for comparison)"
      ]
    },
    {
      "cell_type": "code",
      "metadata": {
        "id": "p3w5mziXr-aU"
      },
      "source": [
        "from sklearn.preprocessing import StandardScaler\n",
        "from sklearn.decomposition import PCA\n",
        "\n",
        "# each feature should be centered (zero mean) and with unit variance\n",
        "X_normalized = StandardScaler().fit(X_fruits).transform(X_fruits)  \n",
        "\n",
        "pca = PCA(n_components = 2).fit(X_normalized)\n",
        "X_pca = pca.transform(X_normalized)\n",
        "\n",
        "from adspy_shared_utilities import plot_labelled_scatter\n",
        "plot_labelled_scatter(X_pca, y_fruits, ['apple','mandarin','orange','lemon'])\n",
        "\n",
        "plt.xlabel('First principal component')\n",
        "plt.ylabel('Second principal component')\n",
        "plt.title('Fruits Dataset PCA (n_components = 2)');"
      ],
      "execution_count": null,
      "outputs": []
    },
    {
      "cell_type": "markdown",
      "metadata": {
        "id": "8Z_0yYLAr-aV"
      },
      "source": [
        "### Manifold learning methods"
      ]
    },
    {
      "cell_type": "markdown",
      "metadata": {
        "id": "kNUZCJDDr-aW"
      },
      "source": [
        "#### Multidimensional scaling (MDS) on the fruit dataset"
      ]
    },
    {
      "cell_type": "code",
      "metadata": {
        "id": "0pCDsUiVr-aW"
      },
      "source": [
        "from adspy_shared_utilities import plot_labelled_scatter\n",
        "from sklearn.preprocessing import StandardScaler\n",
        "from sklearn.manifold import MDS\n",
        "\n",
        "# each feature should be centered (zero mean) and with unit variance\n",
        "X_fruits_normalized = StandardScaler().fit(X_fruits).transform(X_fruits)  \n",
        "\n",
        "mds = MDS(n_components = 2)\n",
        "\n",
        "X_fruits_mds = mds.fit_transform(X_fruits_normalized)\n",
        "\n",
        "plot_labelled_scatter(X_fruits_mds, y_fruits, ['apple', 'mandarin', 'orange', 'lemon'])\n",
        "plt.xlabel('First MDS feature')\n",
        "plt.ylabel('Second MDS feature')\n",
        "plt.title('Fruit sample dataset MDS');"
      ],
      "execution_count": null,
      "outputs": []
    },
    {
      "cell_type": "markdown",
      "metadata": {
        "id": "tB6s31zor-aX"
      },
      "source": [
        "#### Multidimensional scaling (MDS) on the breast cancer dataset"
      ]
    },
    {
      "cell_type": "markdown",
      "metadata": {
        "id": "H-AQtYbJr-aa"
      },
      "source": [
        "(This example is not covered in the lecture video, but is included here so you can compare it to the results from PCA.)"
      ]
    },
    {
      "cell_type": "code",
      "metadata": {
        "id": "6SNRduStr-ab"
      },
      "source": [
        "from sklearn.preprocessing import StandardScaler\n",
        "from sklearn.manifold import MDS\n",
        "from sklearn.datasets import load_breast_cancer\n",
        "\n",
        "cancer = load_breast_cancer()\n",
        "(X_cancer, y_cancer) = load_breast_cancer(return_X_y = True)\n",
        "\n",
        "# each feature should be centered (zero mean) and with unit variance\n",
        "X_normalized = StandardScaler().fit(X_cancer).transform(X_cancer)  \n",
        "\n",
        "mds = MDS(n_components = 2)\n",
        "\n",
        "X_mds = mds.fit_transform(X_normalized)\n",
        "\n",
        "from adspy_shared_utilities import plot_labelled_scatter\n",
        "plot_labelled_scatter(X_mds, y_cancer, ['malignant', 'benign'])\n",
        "\n",
        "plt.xlabel('First MDS dimension')\n",
        "plt.ylabel('Second MDS dimension')\n",
        "plt.title('Breast Cancer Dataset MDS (n_components = 2)');"
      ],
      "execution_count": null,
      "outputs": []
    },
    {
      "cell_type": "markdown",
      "metadata": {
        "collapsed": true,
        "id": "rajSWDlAr-ad"
      },
      "source": [
        "#### t-SNE on the fruit dataset"
      ]
    },
    {
      "cell_type": "markdown",
      "metadata": {
        "id": "pV2ESImQr-ad"
      },
      "source": [
        "(This example from the lecture video is included so that you can see how some dimensionality reduction methods may be less successful on some datasets. Here, it doesn't work as well at finding structure in the small fruits dataset, compared to other methods like MDS.)"
      ]
    },
    {
      "cell_type": "code",
      "metadata": {
        "id": "RqGnUIeVr-ae"
      },
      "source": [
        "from sklearn.manifold import TSNE\n",
        "\n",
        "tsne = TSNE(random_state = 0)\n",
        "\n",
        "X_tsne = tsne.fit_transform(X_fruits_normalized)\n",
        "\n",
        "plot_labelled_scatter(X_tsne, y_fruits, \n",
        "    ['apple', 'mandarin', 'orange', 'lemon'])\n",
        "plt.xlabel('First t-SNE feature')\n",
        "plt.ylabel('Second t-SNE feature')\n",
        "plt.title('Fruits dataset t-SNE');"
      ],
      "execution_count": null,
      "outputs": []
    },
    {
      "cell_type": "markdown",
      "metadata": {
        "id": "7VULUmWPr-af"
      },
      "source": [
        "#### t-SNE on the breast cancer dataset"
      ]
    },
    {
      "cell_type": "markdown",
      "metadata": {
        "id": "NpOcuwS0r-ag"
      },
      "source": [
        "Although not shown in the lecture video, this example is included for comparison, showing the results of running t-SNE on the breast cancer dataset.  See the reading \"How to Use t-SNE effectively\" for further details on how the visualizations from t-SNE are affected by specific parameter settings."
      ]
    },
    {
      "cell_type": "code",
      "metadata": {
        "id": "tOnbPrNkr-ah"
      },
      "source": [
        "tsne = TSNE(random_state = 0)\n",
        "\n",
        "X_tsne = tsne.fit_transform(X_normalized)\n",
        "\n",
        "plot_labelled_scatter(X_tsne, y_cancer, \n",
        "    ['malignant', 'benign'])\n",
        "plt.xlabel('First t-SNE feature')\n",
        "plt.ylabel('Second t-SNE feature')\n",
        "plt.title('Breast cancer dataset t-SNE');"
      ],
      "execution_count": null,
      "outputs": []
    },
    {
      "cell_type": "markdown",
      "metadata": {
        "id": "bb37HMOOr-ai"
      },
      "source": [
        "## Clustering"
      ]
    },
    {
      "cell_type": "markdown",
      "metadata": {
        "collapsed": true,
        "id": "5PqB4Clir-al"
      },
      "source": [
        "### K-means"
      ]
    },
    {
      "cell_type": "markdown",
      "metadata": {
        "id": "KJOo4HHIr-am"
      },
      "source": [
        "This example from the lecture video creates an artificial dataset with make_blobs, then applies k-means to find 3 clusters, and plots the points in each cluster identified by a corresponding color."
      ]
    },
    {
      "cell_type": "code",
      "metadata": {
        "id": "mOrjPK77r-an"
      },
      "source": [
        "from sklearn.datasets import make_blobs\n",
        "from sklearn.cluster import KMeans\n",
        "from adspy_shared_utilities import plot_labelled_scatter\n",
        "\n",
        "X, y = make_blobs(random_state = 10)\n",
        "\n",
        "kmeans = KMeans(n_clusters = 3)\n",
        "kmeans.fit(X)\n",
        "\n",
        "plot_labelled_scatter(X, kmeans.labels_, ['Cluster 1', 'Cluster 2', 'Cluster 3'])\n"
      ],
      "execution_count": null,
      "outputs": []
    },
    {
      "cell_type": "markdown",
      "metadata": {
        "id": "SnxBYGzjr-ao"
      },
      "source": [
        "Example showing k-means used to find 4 clusters in the fruits dataset.  Note that in general, it's important to scale the individual features before applying k-means clustering."
      ]
    },
    {
      "cell_type": "code",
      "metadata": {
        "id": "egnJp0pPr-as"
      },
      "source": [
        "from sklearn.datasets import make_blobs\n",
        "from sklearn.cluster import KMeans\n",
        "from adspy_shared_utilities import plot_labelled_scatter\n",
        "from sklearn.preprocessing import MinMaxScaler\n",
        "\n",
        "fruits = pd.read_table('fruit_data_with_colors.txt')\n",
        "X_fruits = fruits[['mass','width','height', 'color_score']].as_matrix()\n",
        "y_fruits = fruits[['fruit_label']] - 1\n",
        "\n",
        "X_fruits_normalized = MinMaxScaler().fit(X_fruits).transform(X_fruits)  \n",
        "\n",
        "kmeans = KMeans(n_clusters = 4, random_state = 0)\n",
        "kmeans.fit(X_fruits)\n",
        "\n",
        "plot_labelled_scatter(X_fruits_normalized, kmeans.labels_, \n",
        "                      ['Cluster 1', 'Cluster 2', 'Cluster 3', 'Cluster 4'])"
      ],
      "execution_count": null,
      "outputs": []
    },
    {
      "cell_type": "markdown",
      "metadata": {
        "id": "Boc15Rrfr-at"
      },
      "source": [
        "### Agglomerative clustering"
      ]
    },
    {
      "cell_type": "code",
      "metadata": {
        "scrolled": false,
        "id": "AKyO_Ri-r-au"
      },
      "source": [
        "from sklearn.datasets import make_blobs\n",
        "from sklearn.cluster import AgglomerativeClustering\n",
        "from adspy_shared_utilities import plot_labelled_scatter\n",
        "\n",
        "X, y = make_blobs(random_state = 10)\n",
        "\n",
        "cls = AgglomerativeClustering(n_clusters = 3)\n",
        "cls_assignment = cls.fit_predict(X)\n",
        "\n",
        "plot_labelled_scatter(X, cls_assignment, \n",
        "        ['Cluster 1', 'Cluster 2', 'Cluster 3'])"
      ],
      "execution_count": null,
      "outputs": []
    },
    {
      "cell_type": "markdown",
      "metadata": {
        "id": "njYYSb-fr-aw"
      },
      "source": [
        "#### Creating a dendrogram (using scipy)"
      ]
    },
    {
      "cell_type": "markdown",
      "metadata": {
        "id": "a2DSYAafr-ax"
      },
      "source": [
        "This dendrogram plot is based on the dataset created in the previous step with make_blobs, but for clarity, only 10 samples have been selected for this example, as plotted here:"
      ]
    },
    {
      "cell_type": "code",
      "metadata": {
        "id": "nfsnhRhgr-ay"
      },
      "source": [
        "X, y = make_blobs(random_state = 10, n_samples = 10)\n",
        "plot_labelled_scatter(X, y, \n",
        "        ['Cluster 1', 'Cluster 2', 'Cluster 3'])\n",
        "print(X)"
      ],
      "execution_count": null,
      "outputs": []
    },
    {
      "cell_type": "markdown",
      "metadata": {
        "id": "wzol0yTmr-ay"
      },
      "source": [
        "And here's the dendrogram corresponding to agglomerative clustering of the 10 points above using Ward's method.  The index 0..9 of the points corresponds to the index of the points in the X array above.  For example, point 0 (5.69, -9.47) and point 9 (5.43, -9.76) are the closest two points and are clustered first."
      ]
    },
    {
      "cell_type": "code",
      "metadata": {
        "id": "j4o20SP0r-az"
      },
      "source": [
        "from scipy.cluster.hierarchy import ward, dendrogram\n",
        "plt.figure()\n",
        "dendrogram(ward(X))\n",
        "plt.show()"
      ],
      "execution_count": null,
      "outputs": []
    },
    {
      "cell_type": "markdown",
      "metadata": {
        "id": "8_HM6NTir-a0"
      },
      "source": [
        "### DBSCAN clustering"
      ]
    },
    {
      "cell_type": "code",
      "metadata": {
        "id": "XU9XfePjr-a0"
      },
      "source": [
        "from sklearn.cluster import DBSCAN\n",
        "from sklearn.datasets import make_blobs\n",
        "\n",
        "X, y = make_blobs(random_state = 9, n_samples = 25)\n",
        "\n",
        "dbscan = DBSCAN(eps = 2, min_samples = 2)\n",
        "\n",
        "cls = dbscan.fit_predict(X)\n",
        "print(\"Cluster membership values:\\n{}\".format(cls))\n",
        "\n",
        "plot_labelled_scatter(X, cls + 1, \n",
        "        ['Noise', 'Cluster 0', 'Cluster 1', 'Cluster 2'])"
      ],
      "execution_count": null,
      "outputs": []
    },
    {
      "cell_type": "code",
      "metadata": {
        "collapsed": true,
        "id": "gA_07WPwr-a3"
      },
      "source": [
        ""
      ],
      "execution_count": null,
      "outputs": []
    }
  ]
}