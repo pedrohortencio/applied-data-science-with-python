{
  "nbformat": 4,
  "nbformat_minor": 0,
  "metadata": {
    "coursera": {
      "course_slug": "python-text-mining",
      "graded_item_id": "r35En",
      "launcher_item_id": "tCVfW",
      "part_id": "NTVgL"
    },
    "kernelspec": {
      "display_name": "Python 3",
      "language": "python",
      "name": "python3"
    },
    "language_info": {
      "codemirror_mode": {
        "name": "ipython",
        "version": 3
      },
      "file_extension": ".py",
      "mimetype": "text/x-python",
      "name": "python",
      "nbconvert_exporter": "python",
      "pygments_lexer": "ipython3",
      "version": "3.6.2"
    },
    "colab": {
      "name": "Assignment+2.ipynb",
      "provenance": [],
      "toc_visible": true,
      "include_colab_link": true
    }
  },
  "cells": [
    {
      "cell_type": "markdown",
      "metadata": {
        "id": "view-in-github",
        "colab_type": "text"
      },
      "source": [
        "<a href=\"https://colab.research.google.com/github/pedrohortencio/applied-data-science-with-python/blob/main/Applied%20Text%20Mining%20in%20Python/Assignment%2B2.ipynb\" target=\"_parent\"><img src=\"https://colab.research.google.com/assets/colab-badge.svg\" alt=\"Open In Colab\"/></a>"
      ]
    },
    {
      "cell_type": "markdown",
      "metadata": {
        "id": "9uROJfaIDjaX"
      },
      "source": [
        "---\n",
        "\n",
        "_You are currently looking at **version 1.0** of this notebook. To download notebooks and datafiles, as well as get help on Jupyter notebooks in the Coursera platform, visit the [Jupyter Notebook FAQ](https://www.coursera.org/learn/python-text-mining/resources/d9pwm) course resource._\n",
        "\n",
        "---"
      ]
    },
    {
      "cell_type": "markdown",
      "metadata": {
        "id": "bL6-RQgKDjbd"
      },
      "source": [
        "# Assignment 2 - Introduction to NLTK\n",
        "\n",
        "In part 1 of this assignment you will use nltk to explore the Herman Melville novel Moby Dick. Then in part 2 you will create a spelling recommender function that uses nltk to find words similar to the misspelling. "
      ]
    },
    {
      "cell_type": "markdown",
      "metadata": {
        "id": "6jtshzdPDjbg"
      },
      "source": [
        "## Part 1 - Analyzing Moby Dick"
      ]
    },
    {
      "cell_type": "code",
      "metadata": {
        "id": "RZDu1jktDjbi",
        "outputId": "6d2c93f5-e85f-4c04-d3fd-8290a61c050d"
      },
      "source": [
        "import nltk\n",
        "import pandas as pd\n",
        "import numpy as np\n",
        "\n",
        "#nltk.download('punkt')\n",
        "# If you would like to work with the raw text you can use 'moby_raw'\n",
        "with open('moby.txt', 'r') as f:\n",
        "    moby_raw = f.read()\n",
        "    \n",
        "# If you would like to work with the novel in nltk.Text format you can use 'text1'\n",
        "moby_tokens = nltk.word_tokenize(moby_raw)\n",
        "text1 = nltk.Text(moby_tokens)"
      ],
      "execution_count": null,
      "outputs": [
        {
          "output_type": "stream",
          "text": [
            "[nltk_data] Downloading package punkt to /home/jovyan/nltk_data...\n",
            "[nltk_data]   Unzipping tokenizers/punkt.zip.\n"
          ],
          "name": "stdout"
        }
      ]
    },
    {
      "cell_type": "markdown",
      "metadata": {
        "id": "I9Q5qZgqDjbw"
      },
      "source": [
        "### Example 1\n",
        "\n",
        "How many tokens (words and punctuation symbols) are in text1?\n",
        "\n",
        "*This function should return an integer.*"
      ]
    },
    {
      "cell_type": "code",
      "metadata": {
        "id": "GG9-8lN7Djbx",
        "outputId": "c28a66a0-cfd7-4864-e762-65ea122397be"
      },
      "source": [
        "def example_one():\n",
        "    \n",
        "    return len(nltk.word_tokenize(moby_raw)) # or alternatively len(text1)\n",
        "\n",
        "example_one()"
      ],
      "execution_count": null,
      "outputs": [
        {
          "output_type": "execute_result",
          "data": {
            "text/plain": [
              "254989"
            ]
          },
          "metadata": {
            "tags": []
          },
          "execution_count": 3
        }
      ]
    },
    {
      "cell_type": "markdown",
      "metadata": {
        "id": "2_gnLQxNDjb2"
      },
      "source": [
        "### Example 2\n",
        "\n",
        "How many unique tokens (unique words and punctuation) does text1 have?\n",
        "\n",
        "*This function should return an integer.*"
      ]
    },
    {
      "cell_type": "code",
      "metadata": {
        "id": "xfHrMEMODjb6",
        "outputId": "59cb7099-f3db-4693-a8d4-423932e9bab7"
      },
      "source": [
        "def example_two():\n",
        "    \n",
        "    return len(set(nltk.word_tokenize(moby_raw))) # or alternatively len(set(text1))\n",
        "\n",
        "example_two()"
      ],
      "execution_count": null,
      "outputs": [
        {
          "output_type": "execute_result",
          "data": {
            "text/plain": [
              "20755"
            ]
          },
          "metadata": {
            "tags": []
          },
          "execution_count": 4
        }
      ]
    },
    {
      "cell_type": "markdown",
      "metadata": {
        "id": "LoE3Ecb4Djb8"
      },
      "source": [
        "### Example 3\n",
        "\n",
        "After lemmatizing the verbs, how many unique tokens does text1 have?\n",
        "\n",
        "*This function should return an integer.*"
      ]
    },
    {
      "cell_type": "code",
      "metadata": {
        "id": "OfHq-JinDjb-",
        "outputId": "925070bc-61a2-40e8-da7d-44ac5d1f692e"
      },
      "source": [
        "from nltk.stem import WordNetLemmatizer\n",
        "#nltk.download('wordnet')\n",
        "def example_three():\n",
        "\n",
        "    lemmatizer = WordNetLemmatizer()\n",
        "    lemmatized = [lemmatizer.lemmatize(w,'v') for w in text1]\n",
        "\n",
        "    return len(set(lemmatized))\n",
        "\n",
        "example_three()"
      ],
      "execution_count": null,
      "outputs": [
        {
          "output_type": "stream",
          "text": [
            "[nltk_data] Downloading package wordnet to /home/jovyan/nltk_data...\n",
            "[nltk_data]   Unzipping corpora/wordnet.zip.\n"
          ],
          "name": "stdout"
        },
        {
          "output_type": "execute_result",
          "data": {
            "text/plain": [
              "16900"
            ]
          },
          "metadata": {
            "tags": []
          },
          "execution_count": 6
        }
      ]
    },
    {
      "cell_type": "markdown",
      "metadata": {
        "id": "-66nb_KTDjcA"
      },
      "source": [
        "### Question 1\n",
        "\n",
        "What is the lexical diversity of the given text input? (i.e. ratio of unique tokens to the total number of tokens)\n",
        "\n",
        "*This function should return a float.*"
      ]
    },
    {
      "cell_type": "code",
      "metadata": {
        "id": "Ycxses1nDjcB",
        "outputId": "a1f5d6ec-e621-4830-caff-fa654e872388"
      },
      "source": [
        "def answer_one():\n",
        "    return example_two()/example_one()\n",
        "\n",
        "answer_one()"
      ],
      "execution_count": null,
      "outputs": [
        {
          "output_type": "execute_result",
          "data": {
            "text/plain": [
              "0.08139566804842562"
            ]
          },
          "metadata": {
            "tags": []
          },
          "execution_count": 7
        }
      ]
    },
    {
      "cell_type": "markdown",
      "metadata": {
        "id": "gYsnYBVdDjcE"
      },
      "source": [
        "### Question 2\n",
        "\n",
        "What percentage of tokens is 'whale'or 'Whale'?\n",
        "\n",
        "*This function should return a float.*"
      ]
    },
    {
      "cell_type": "code",
      "metadata": {
        "id": "BElwrFntDjcG",
        "outputId": "2b9818c2-e5b0-4499-d370-f88bcc2774fc"
      },
      "source": [
        "def answer_two():\n",
        "    dist = nltk.FreqDist(text1)\n",
        "    \n",
        "    return (dist['whale'] + dist['Whale'])/len(text1)*100\n",
        "\n",
        "answer_two()"
      ],
      "execution_count": null,
      "outputs": [
        {
          "output_type": "execute_result",
          "data": {
            "text/plain": [
              "0.4125668166077752"
            ]
          },
          "metadata": {
            "tags": []
          },
          "execution_count": 8
        }
      ]
    },
    {
      "cell_type": "markdown",
      "metadata": {
        "id": "Iv8BhHwoDjcL"
      },
      "source": [
        "### Question 3\n",
        "\n",
        "What are the 20 most frequently occurring (unique) tokens in the text? What is their frequency?\n",
        "\n",
        "*This function should return a list of 20 tuples where each tuple is of the form `(token, frequency)`. The list should be sorted in descending order of frequency.*"
      ]
    },
    {
      "cell_type": "code",
      "metadata": {
        "id": "hoq434uKDjcO",
        "outputId": "e4da88a9-005b-414b-99dd-f696c7b547a5"
      },
      "source": [
        "def answer_three():\n",
        "    return nltk.FreqDist(text1).most_common(20)\n",
        "\n",
        "answer_three()"
      ],
      "execution_count": null,
      "outputs": [
        {
          "output_type": "execute_result",
          "data": {
            "text/plain": [
              "[(',', 19204),\n",
              " ('the', 13715),\n",
              " ('.', 7308),\n",
              " ('of', 6513),\n",
              " ('and', 6010),\n",
              " ('a', 4545),\n",
              " ('to', 4515),\n",
              " (';', 4173),\n",
              " ('in', 3908),\n",
              " ('that', 2978),\n",
              " ('his', 2459),\n",
              " ('it', 2196),\n",
              " ('I', 2097),\n",
              " ('!', 1767),\n",
              " ('is', 1722),\n",
              " ('--', 1713),\n",
              " ('with', 1659),\n",
              " ('he', 1658),\n",
              " ('was', 1639),\n",
              " ('as', 1620)]"
            ]
          },
          "metadata": {
            "tags": []
          },
          "execution_count": 9
        }
      ]
    },
    {
      "cell_type": "markdown",
      "metadata": {
        "id": "14TY9k2NDjcP"
      },
      "source": [
        "### Question 4\n",
        "\n",
        "What tokens have a length of greater than 5 and frequency of more than 150?\n",
        "\n",
        "*This function should return an alphabetically sorted list of the tokens that match the above constraints. To sort your list, use `sorted()`*"
      ]
    },
    {
      "cell_type": "code",
      "metadata": {
        "id": "ql8DPZZEDjcR",
        "outputId": "232de6af-67c7-4ba3-be28-9517a3da5847"
      },
      "source": [
        "def answer_four():\n",
        "    return sorted([token for token, freq in text1.vocab().items() \n",
        "                   if len(token) > 5 and freq > 150]) # Your answer here\n",
        "\n",
        "answer_four()"
      ],
      "execution_count": null,
      "outputs": [
        {
          "output_type": "execute_result",
          "data": {
            "text/plain": [
              "['Captain',\n",
              " 'Pequod',\n",
              " 'Queequeg',\n",
              " 'Starbuck',\n",
              " 'almost',\n",
              " 'before',\n",
              " 'himself',\n",
              " 'little',\n",
              " 'seemed',\n",
              " 'should',\n",
              " 'though',\n",
              " 'through',\n",
              " 'whales',\n",
              " 'without']"
            ]
          },
          "metadata": {
            "tags": []
          },
          "execution_count": 10
        }
      ]
    },
    {
      "cell_type": "markdown",
      "metadata": {
        "id": "GuZYOtYGDjcS"
      },
      "source": [
        "### Question 5\n",
        "\n",
        "Find the longest word in text1 and that word's length.\n",
        "\n",
        "*This function should return a tuple `(longest_word, length)`.*"
      ]
    },
    {
      "cell_type": "code",
      "metadata": {
        "id": "iOWyspErDjcT",
        "outputId": "580a3ded-88a1-4c9a-b632-ebf0d391d846"
      },
      "source": [
        "def answer_five():\n",
        "    maxlen = max(len(w) for w in text1)\n",
        "    word = [w for w in text1 if len(w) == maxlen]\n",
        "    \n",
        "    return (word[0],maxlen)\n",
        "\n",
        "answer_five()"
      ],
      "execution_count": null,
      "outputs": [
        {
          "output_type": "execute_result",
          "data": {
            "text/plain": [
              "(\"twelve-o'clock-at-night\", 23)"
            ]
          },
          "metadata": {
            "tags": []
          },
          "execution_count": 11
        }
      ]
    },
    {
      "cell_type": "markdown",
      "metadata": {
        "id": "zmYKSGvQDjcW"
      },
      "source": [
        "### Question 6\n",
        "\n",
        "What unique words have a frequency of more than 2000? What is their frequency?\n",
        "\n",
        "\"Hint:  you may want to use `isalpha()` to check if the token is a word and not punctuation.\"\n",
        "\n",
        "*This function should return a list of tuples of the form `(frequency, word)` sorted in descending order of frequency.*"
      ]
    },
    {
      "cell_type": "code",
      "metadata": {
        "id": "SMAJ0B8vDjcd",
        "outputId": "f2ebc0a7-90a5-4c22-fcdd-117dd0a20948"
      },
      "source": [
        "def answer_six():\n",
        "    dist = nltk.FreqDist(text1)\n",
        "    freqwords = [(dist[w],w) for w in set(text1) if w.isalpha() and dist[w]>2000]\n",
        "    return sorted(freqwords, key=lambda x:x[0],reverse=True)\n",
        "\n",
        "answer_six()"
      ],
      "execution_count": null,
      "outputs": [
        {
          "output_type": "execute_result",
          "data": {
            "text/plain": [
              "[(13715, 'the'),\n",
              " (6513, 'of'),\n",
              " (6010, 'and'),\n",
              " (4545, 'a'),\n",
              " (4515, 'to'),\n",
              " (3908, 'in'),\n",
              " (2978, 'that'),\n",
              " (2459, 'his'),\n",
              " (2196, 'it'),\n",
              " (2097, 'I')]"
            ]
          },
          "metadata": {
            "tags": []
          },
          "execution_count": 12
        }
      ]
    },
    {
      "cell_type": "markdown",
      "metadata": {
        "id": "bBr_A0btDjce"
      },
      "source": [
        "### Question 7\n",
        "\n",
        "What is the average number of tokens per sentence?\n",
        "\n",
        "*This function should return a float.*"
      ]
    },
    {
      "cell_type": "code",
      "metadata": {
        "id": "-k2ZLz9PDjcf",
        "outputId": "fa96244e-5d41-41e9-e257-4f692d61edb8"
      },
      "source": [
        "def answer_seven():\n",
        "    return np.mean([len(nltk.word_tokenize(sent)) \n",
        "                    for sent in nltk.sent_tokenize(moby_raw)])\n",
        "\n",
        "answer_seven()"
      ],
      "execution_count": null,
      "outputs": [
        {
          "output_type": "execute_result",
          "data": {
            "text/plain": [
              "25.881952902963864"
            ]
          },
          "metadata": {
            "tags": []
          },
          "execution_count": 13
        }
      ]
    },
    {
      "cell_type": "markdown",
      "metadata": {
        "id": "2zO7kqYZDjch"
      },
      "source": [
        "### Question 8\n",
        "\n",
        "What are the 5 most frequent parts of speech in this text? What is their frequency?\n",
        "\n",
        "*This function should return a list of tuples of the form `(part_of_speech, frequency)` sorted in descending order of frequency.*"
      ]
    },
    {
      "cell_type": "code",
      "metadata": {
        "id": "OuUen8ipDjci",
        "outputId": "2d9cd4cf-29ea-4615-fed9-c7d54e2a5b78"
      },
      "source": [
        "def answer_eight():\n",
        "    import collections\n",
        "    #nltk.download('averaged_perceptron_tagger')\n",
        "    pos_list = nltk.pos_tag(text1)\n",
        "    pos_counts = collections.Counter((subl[1] for subl in pos_list))\n",
        "    return pos_counts.most_common(5)\n",
        "\n",
        "answer_eight()"
      ],
      "execution_count": null,
      "outputs": [
        {
          "output_type": "stream",
          "text": [
            "[nltk_data] Downloading package averaged_perceptron_tagger to\n",
            "[nltk_data]     /home/jovyan/nltk_data...\n",
            "[nltk_data]   Unzipping taggers/averaged_perceptron_tagger.zip.\n"
          ],
          "name": "stdout"
        },
        {
          "output_type": "execute_result",
          "data": {
            "text/plain": [
              "[('NN', 32730), ('IN', 28657), ('DT', 25867), (',', 19204), ('JJ', 17620)]"
            ]
          },
          "metadata": {
            "tags": []
          },
          "execution_count": 15
        }
      ]
    },
    {
      "cell_type": "markdown",
      "metadata": {
        "id": "Mu5RRVbUDjck"
      },
      "source": [
        "## Part 2 - Spelling Recommender\n",
        "\n",
        "For this part of the assignment you will create three different spelling recommenders, that each take a list of misspelled words and recommends a correctly spelled word for every word in the list.\n",
        "\n",
        "For every misspelled word, the recommender should find find the word in `correct_spellings` that has the shortest distance*, and starts with the same letter as the misspelled word, and return that word as a recommendation.\n",
        "\n",
        "*Each of the three different recommenders will use a different distance measure (outlined below).\n",
        "\n",
        "Each of the recommenders should provide recommendations for the three default words provided: `['cormulent', 'incendenece', 'validrate']`."
      ]
    },
    {
      "cell_type": "code",
      "metadata": {
        "id": "Kof99sHcDjcm",
        "outputId": "65e09797-6296-419d-dea9-a35809c07502"
      },
      "source": [
        "from nltk.corpus import words\n",
        "#nltk.download('words')\n",
        "correct_spellings = words.words()"
      ],
      "execution_count": null,
      "outputs": [
        {
          "output_type": "stream",
          "text": [
            "[nltk_data] Downloading package words to /home/jovyan/nltk_data...\n",
            "[nltk_data]   Unzipping corpora/words.zip.\n"
          ],
          "name": "stdout"
        }
      ]
    },
    {
      "cell_type": "markdown",
      "metadata": {
        "id": "qSfA7Qx9Djcn"
      },
      "source": [
        "### Question 9\n",
        "\n",
        "For this recommender, your function should provide recommendations for the three default words provided above using the following distance metric:\n",
        "\n",
        "**[Jaccard distance](https://en.wikipedia.org/wiki/Jaccard_index) on the trigrams of the two words.**\n",
        "\n",
        "*This function should return a list of length three:\n",
        "`['cormulent_reccomendation', 'incendenece_reccomendation', 'validrate_reccomendation']`.*"
      ]
    },
    {
      "cell_type": "code",
      "metadata": {
        "id": "EZEiudgmDjct",
        "outputId": "44315ec6-2bf7-4d2f-f125-4f153f1f2fb1"
      },
      "source": [
        "def answer_nine(entries=['cormulent', 'incendenece', 'validrate']):\n",
        "    answ = []\n",
        "    import operator\n",
        "    for entry in entries:\n",
        "        spell_list = [spell for spell in correct_spellings if spell.startswith(entry[0]) and len(spell) > 2]\n",
        "        distance_list = [(spell, nltk.jaccard_distance(set(nltk.ngrams(entry, n=3)), set(nltk.ngrams(spell, n=3)))) for spell in spell_list]\n",
        "\n",
        "        answ.append(sorted(distance_list, key=operator.itemgetter(1))[0][0])\n",
        "    \n",
        "    return answ\n",
        "    \n",
        "answer_nine()"
      ],
      "execution_count": null,
      "outputs": [
        {
          "output_type": "execute_result",
          "data": {
            "text/plain": [
              "['corpulent', 'indecence', 'validate']"
            ]
          },
          "metadata": {
            "tags": []
          },
          "execution_count": 18
        }
      ]
    },
    {
      "cell_type": "markdown",
      "metadata": {
        "id": "w3jx1looDjdA"
      },
      "source": [
        "### Question 10\n",
        "\n",
        "For this recommender, your function should provide recommendations for the three default words provided above using the following distance metric:\n",
        "\n",
        "**[Jaccard distance](https://en.wikipedia.org/wiki/Jaccard_index) on the 4-grams of the two words.**\n",
        "\n",
        "*This function should return a list of length three:\n",
        "`['cormulent_reccomendation', 'incendenece_reccomendation', 'validrate_reccomendation']`.*"
      ]
    },
    {
      "cell_type": "code",
      "metadata": {
        "id": "pMjUXVGhDjdC",
        "outputId": "b92941ab-8703-49ef-d17b-a130e1e8e39a"
      },
      "source": [
        "def answer_ten(entries=['cormulent', 'incendenece', 'validrate']):\n",
        "    answ = []\n",
        "    import operator\n",
        "    for entry in entries:\n",
        "        spell_list = [spell for spell in correct_spellings if spell.startswith(entry[0]) and len(spell) > 2]\n",
        "        distance_list = [(spell, nltk.jaccard_distance(set(nltk.ngrams(entry, n=4)), set(nltk.ngrams(spell, n=4)))) for spell in spell_list]\n",
        "\n",
        "        answ.append(sorted(distance_list, key=operator.itemgetter(1))[0][0])\n",
        "    \n",
        "    return answ # Your answer here\n",
        "    \n",
        "answer_ten()"
      ],
      "execution_count": null,
      "outputs": [
        {
          "output_type": "execute_result",
          "data": {
            "text/plain": [
              "['cormus', 'incendiary', 'valid']"
            ]
          },
          "metadata": {
            "tags": []
          },
          "execution_count": 19
        }
      ]
    },
    {
      "cell_type": "markdown",
      "metadata": {
        "id": "XAzQKkj2DjdD"
      },
      "source": [
        "### Question 11\n",
        "\n",
        "For this recommender, your function should provide recommendations for the three default words provided above using the following distance metric:\n",
        "\n",
        "**[Edit distance on the two words with transpositions.](https://en.wikipedia.org/wiki/Damerau%E2%80%93Levenshtein_distance)**\n",
        "\n",
        "*This function should return a list of length three:\n",
        "`['cormulent_reccomendation', 'incendenece_reccomendation', 'validrate_reccomendation']`.*"
      ]
    },
    {
      "cell_type": "code",
      "metadata": {
        "id": "LUFOI1k8DjdE",
        "outputId": "3702d10c-ed3a-438b-e4fa-e4ec12f879d3"
      },
      "source": [
        "def answer_eleven(entries=['cormulent', 'incendenece', 'validrate']):\n",
        "    \n",
        "    answ = []\n",
        "    for entry in entries:\n",
        "        input_spell = [x for x in correct_spellings if x[0] == entry[0]]\n",
        "        \n",
        "        DL_dist = [nltk.edit_distance(x, entry, transpositions=True) for x in input_spell]\n",
        "        \n",
        "        answ.append(input_spell[np.argmin(DL_dist)])\n",
        "        \n",
        "    return answ\n",
        "    \n",
        "answer_eleven()"
      ],
      "execution_count": null,
      "outputs": [
        {
          "output_type": "execute_result",
          "data": {
            "text/plain": [
              "['corpulent', 'intendence', 'validate']"
            ]
          },
          "metadata": {
            "tags": []
          },
          "execution_count": 20
        }
      ]
    }
  ]
}