{
  "nbformat": 4,
  "nbformat_minor": 0,
  "metadata": {
    "coursera": {
      "course_slug": "python-text-mining",
      "graded_item_id": "2qbcK",
      "launcher_item_id": "pi9Sh",
      "part_id": "kQiwX"
    },
    "kernelspec": {
      "display_name": "Python 3",
      "language": "python",
      "name": "python3"
    },
    "language_info": {
      "codemirror_mode": {
        "name": "ipython",
        "version": 3
      },
      "file_extension": ".py",
      "mimetype": "text/x-python",
      "name": "python",
      "nbconvert_exporter": "python",
      "pygments_lexer": "ipython3",
      "version": "3.6.2"
    },
    "colab": {
      "name": "Assignment+4.ipynb",
      "provenance": [],
      "toc_visible": true,
      "include_colab_link": true
    }
  },
  "cells": [
    {
      "cell_type": "markdown",
      "metadata": {
        "id": "view-in-github",
        "colab_type": "text"
      },
      "source": [
        "<a href=\"https://colab.research.google.com/github/pedrohortencio/applied-data-science-with-python/blob/main/Applied%20Text%20Mining%20in%20Python/Assignment%2B4.ipynb\" target=\"_parent\"><img src=\"https://colab.research.google.com/assets/colab-badge.svg\" alt=\"Open In Colab\"/></a>"
      ]
    },
    {
      "cell_type": "markdown",
      "metadata": {
        "id": "GDjaiYeUEI21"
      },
      "source": [
        "---\n",
        "\n",
        "_You are currently looking at **version 1.0** of this notebook. To download notebooks and datafiles, as well as get help on Jupyter notebooks in the Coursera platform, visit the [Jupyter Notebook FAQ](https://www.coursera.org/learn/python-text-mining/resources/d9pwm) course resource._\n",
        "\n",
        "---"
      ]
    },
    {
      "cell_type": "markdown",
      "metadata": {
        "id": "wprEz3xwEI3X"
      },
      "source": [
        "# Assignment 4 - Document Similarity & Topic Modelling"
      ]
    },
    {
      "cell_type": "markdown",
      "metadata": {
        "id": "3_s0QgOHEI3a"
      },
      "source": [
        "## Part 1 - Document Similarity\n",
        "\n",
        "For the first part of this assignment, you will complete the functions `doc_to_synsets` and `similarity_score` which will be used by `document_path_similarity` to find the path similarity between two documents.\n",
        "\n",
        "The following functions are provided:\n",
        "* **`convert_tag:`** converts the tag given by `nltk.pos_tag` to a tag used by `wordnet.synsets`. You will need to use this function in `doc_to_synsets`.\n",
        "* **`document_path_similarity:`** computes the symmetrical path similarity between two documents by finding the synsets in each document using `doc_to_synsets`, then computing similarities using `similarity_score`.\n",
        "\n",
        "You will need to finish writing the following functions:\n",
        "* **`doc_to_synsets:`** returns a list of synsets in document. This function should first tokenize and part of speech tag the document using `nltk.word_tokenize` and `nltk.pos_tag`. Then it should find each tokens corresponding synset using `wn.synsets(token, wordnet_tag)`. The first synset match should be used. If there is no match, that token is skipped.\n",
        "* **`similarity_score:`** returns the normalized similarity score of a list of synsets (s1) onto a second list of synsets (s2). For each synset in s1, find the synset in s2 with the largest similarity value. Sum all of the largest similarity values together and normalize this value by dividing it by the number of largest similarity values found. Be careful with data types, which should be floats. Missing values should be ignored.\n",
        "\n",
        "Once `doc_to_synsets` and `similarity_score` have been completed, submit to the autograder which will run `test_document_path_similarity` to test that these functions are running correctly. \n",
        "\n",
        "*Do not modify the functions `convert_tag`, `document_path_similarity`, and `test_document_path_similarity`.*"
      ]
    },
    {
      "cell_type": "code",
      "metadata": {
        "id": "cyvTPehAEI3c",
        "outputId": "821fad43-6593-445e-a1d8-b6d24b716fcc"
      },
      "source": [
        "import numpy as np\n",
        "import nltk\n",
        "from nltk.corpus import wordnet as wn\n",
        "import pandas as pd\n",
        "nltk.download('punkt')\n",
        "nltk.download('wordnet')\n",
        "nltk.download('averaged_perceptron_tagger')\n",
        "from nltk import pos_tag\n",
        "\n",
        "def convert_tag(tag):\n",
        "    \"\"\"Convert the tag given by nltk.pos_tag to the tag used by wordnet.synsets\"\"\"\n",
        "    \n",
        "    tag_dict = {'N': 'n', 'J': 'a', 'R': 'r', 'V': 'v'}\n",
        "    try:\n",
        "        return tag_dict[tag[0]]\n",
        "    except KeyError:\n",
        "        return None\n",
        "\n",
        "\n",
        "def doc_to_synsets(doc):\n",
        "    \"\"\"\n",
        "    Returns a list of synsets in document.\n",
        "\n",
        "    Tokenizes and tags the words in the document doc.\n",
        "    Then finds the first synset for each word/tag combination.\n",
        "    If a synset is not found for that combination it is skipped.\n",
        "\n",
        "    Args:\n",
        "        doc: string to be converted\n",
        "\n",
        "    Returns:\n",
        "        list of synsets\n",
        "\n",
        "    Example:\n",
        "        doc_to_synsets('Fish are nvqjp friends.')\n",
        "        Out: [Synset('fish.n.01'), Synset('be.v.01'), Synset('friend.n.01')]\n",
        "    \"\"\"\n",
        "    \n",
        "    tokens = nltk.word_tokenize(doc)\n",
        "    pos_tags = nltk.pos_tag(tokens)\n",
        "    wn_tags = [convert_tag(x[1]) for x in pos_tags]\n",
        "    synsetlist = [wn.synsets(x,y)[0] for x,y in zip(tokens, wn_tags) if len(wn.synsets(x,y))>0]\n",
        "    \n",
        "    return synsetlist\n",
        "\n",
        "\n",
        "def similarity_score(s1, s2):\n",
        "    \"\"\"\n",
        "    Calculate the normalized similarity score of s1 onto s2\n",
        "\n",
        "    For each synset in s1, finds the synset in s2 with the largest similarity value.\n",
        "    Sum of all of the largest similarity values and normalize this value by dividing it by the\n",
        "    number of largest similarity values found.\n",
        "\n",
        "    Args:\n",
        "        s1, s2: list of synsets from doc_to_synsets\n",
        "\n",
        "    Returns:\n",
        "        normalized similarity score of s1 onto s2\n",
        "\n",
        "    Example:\n",
        "        synsets1 = doc_to_synsets('I like cats')\n",
        "        synsets2 = doc_to_synsets('I like dogs')\n",
        "        similarity_score(synsets1, synsets2)\n",
        "        Out: 0.73333333333333339\n",
        "    \"\"\"\n",
        "    \n",
        "    s=[]\n",
        "    for i1 in s1:\n",
        "        r=[]\n",
        "        scores=[x for x in [i1.path_similarity(i2) for i2 in s2]if x is not None]\n",
        "        if scores:\n",
        "            s.append(max(scores))\n",
        "    return sum(s)/len(s)\n",
        "\n",
        "\n",
        "def document_path_similarity(doc1, doc2):\n",
        "    \"\"\"Finds the symmetrical similarity between doc1 and doc2\"\"\"\n",
        "\n",
        "    synsets1 = doc_to_synsets(doc1)\n",
        "    synsets2 = doc_to_synsets(doc2)\n",
        "\n",
        "    return (similarity_score(synsets1, synsets2) + similarity_score(synsets2, synsets1)) / 2"
      ],
      "execution_count": null,
      "outputs": [
        {
          "output_type": "stream",
          "text": [
            "[nltk_data] Downloading package punkt to /home/jovyan/nltk_data...\n",
            "[nltk_data]   Package punkt is already up-to-date!\n",
            "[nltk_data] Downloading package wordnet to /home/jovyan/nltk_data...\n",
            "[nltk_data]   Package wordnet is already up-to-date!\n",
            "[nltk_data] Downloading package averaged_perceptron_tagger to\n",
            "[nltk_data]     /home/jovyan/nltk_data...\n",
            "[nltk_data]   Package averaged_perceptron_tagger is already up-to-\n",
            "[nltk_data]       date!\n"
          ],
          "name": "stdout"
        }
      ]
    },
    {
      "cell_type": "markdown",
      "metadata": {
        "id": "Yni4puK6EI3n"
      },
      "source": [
        "### test_document_path_similarity\n",
        "\n",
        "Use this function to check if doc_to_synsets and similarity_score are correct.\n",
        "\n",
        "*This function should return the similarity score as a float.*"
      ]
    },
    {
      "cell_type": "code",
      "metadata": {
        "collapsed": true,
        "id": "491qN97pEI3o"
      },
      "source": [
        "def test_document_path_similarity():\n",
        "    doc1 = 'This is a function to test document_path_similarity.'\n",
        "    doc2 = 'Use this function to see if your code in doc_to_synsets \\\n",
        "    and similarity_score is correct!'\n",
        "    return document_path_similarity(doc1, doc2)"
      ],
      "execution_count": null,
      "outputs": []
    },
    {
      "cell_type": "code",
      "metadata": {
        "id": "q8rFCgJ8EI3q",
        "outputId": "aca68bcb-4a7c-4610-a274-9110445f6d36"
      },
      "source": [
        "test_document_path_similarity()"
      ],
      "execution_count": null,
      "outputs": [
        {
          "output_type": "execute_result",
          "data": {
            "text/plain": [
              "0.554265873015873"
            ]
          },
          "metadata": {
            "tags": []
          },
          "execution_count": 3
        }
      ]
    },
    {
      "cell_type": "markdown",
      "metadata": {
        "id": "5fwiHiBfEI3r"
      },
      "source": [
        "<br>\n",
        "___\n",
        "`paraphrases` is a DataFrame which contains the following columns: `Quality`, `D1`, and `D2`.\n",
        "\n",
        "`Quality` is an indicator variable which indicates if the two documents `D1` and `D2` are paraphrases of one another (1 for paraphrase, 0 for not paraphrase)."
      ]
    },
    {
      "cell_type": "code",
      "metadata": {
        "id": "7hWoiaMJEI3t",
        "outputId": "eb884e45-358e-45cc-afa5-6912fa192f49"
      },
      "source": [
        "# Use this dataframe for questions most_similar_docs and label_accuracy\n",
        "paraphrases = pd.read_csv('paraphrases.csv')\n",
        "paraphrases.head()"
      ],
      "execution_count": null,
      "outputs": [
        {
          "output_type": "execute_result",
          "data": {
            "text/html": [
              "<div>\n",
              "<style>\n",
              "    .dataframe thead tr:only-child th {\n",
              "        text-align: right;\n",
              "    }\n",
              "\n",
              "    .dataframe thead th {\n",
              "        text-align: left;\n",
              "    }\n",
              "\n",
              "    .dataframe tbody tr th {\n",
              "        vertical-align: top;\n",
              "    }\n",
              "</style>\n",
              "<table border=\"1\" class=\"dataframe\">\n",
              "  <thead>\n",
              "    <tr style=\"text-align: right;\">\n",
              "      <th></th>\n",
              "      <th>Quality</th>\n",
              "      <th>D1</th>\n",
              "      <th>D2</th>\n",
              "    </tr>\n",
              "  </thead>\n",
              "  <tbody>\n",
              "    <tr>\n",
              "      <th>0</th>\n",
              "      <td>1</td>\n",
              "      <td>Ms Stewart, the chief executive, was not expec...</td>\n",
              "      <td>Ms Stewart, 61, its chief executive officer an...</td>\n",
              "    </tr>\n",
              "    <tr>\n",
              "      <th>1</th>\n",
              "      <td>1</td>\n",
              "      <td>After more than two years' detention under the...</td>\n",
              "      <td>After more than two years in detention by the ...</td>\n",
              "    </tr>\n",
              "    <tr>\n",
              "      <th>2</th>\n",
              "      <td>1</td>\n",
              "      <td>\"It still remains to be seen whether the reven...</td>\n",
              "      <td>\"It remains to be seen whether the revenue rec...</td>\n",
              "    </tr>\n",
              "    <tr>\n",
              "      <th>3</th>\n",
              "      <td>0</td>\n",
              "      <td>And it's going to be a wild ride,\" said Allan ...</td>\n",
              "      <td>Now the rest is just mechanical,\" said Allan H...</td>\n",
              "    </tr>\n",
              "    <tr>\n",
              "      <th>4</th>\n",
              "      <td>1</td>\n",
              "      <td>The cards are issued by Mexico's consulates to...</td>\n",
              "      <td>The card is issued by Mexico's consulates to i...</td>\n",
              "    </tr>\n",
              "  </tbody>\n",
              "</table>\n",
              "</div>"
            ],
            "text/plain": [
              "   Quality                                                 D1  \\\n",
              "0        1  Ms Stewart, the chief executive, was not expec...   \n",
              "1        1  After more than two years' detention under the...   \n",
              "2        1  \"It still remains to be seen whether the reven...   \n",
              "3        0  And it's going to be a wild ride,\" said Allan ...   \n",
              "4        1  The cards are issued by Mexico's consulates to...   \n",
              "\n",
              "                                                  D2  \n",
              "0  Ms Stewart, 61, its chief executive officer an...  \n",
              "1  After more than two years in detention by the ...  \n",
              "2  \"It remains to be seen whether the revenue rec...  \n",
              "3  Now the rest is just mechanical,\" said Allan H...  \n",
              "4  The card is issued by Mexico's consulates to i...  "
            ]
          },
          "metadata": {
            "tags": []
          },
          "execution_count": 4
        }
      ]
    },
    {
      "cell_type": "markdown",
      "metadata": {
        "id": "mLvC0uYcEI3u"
      },
      "source": [
        "___\n",
        "\n",
        "### most_similar_docs\n",
        "\n",
        "Using `document_path_similarity`, find the pair of documents in paraphrases which has the maximum similarity score.\n",
        "\n",
        "*This function should return a tuple `(D1, D2, similarity_score)`*"
      ]
    },
    {
      "cell_type": "code",
      "metadata": {
        "collapsed": true,
        "id": "aYfyV79FEI3v"
      },
      "source": [
        "def most_similar_docs():\n",
        "    \n",
        "    sim_scores = [document_path_similarity(x,y) for x,y in zip(paraphrases['D1'], paraphrases['D2'])]\n",
        "    \n",
        "    return (paraphrases.loc[np.argmax(sim_scores),'D1'], paraphrases.loc[np.argmax(sim_scores),'D2'], max(sim_scores))"
      ],
      "execution_count": null,
      "outputs": []
    },
    {
      "cell_type": "code",
      "metadata": {
        "id": "-V0DseUWEI30",
        "outputId": "04ad7669-7eb2-43dc-ad82-7a7f5c93dd50"
      },
      "source": [
        "most_similar_docs()"
      ],
      "execution_count": null,
      "outputs": [
        {
          "output_type": "execute_result",
          "data": {
            "text/plain": [
              "('\"Indeed, Iran should be put on notice that efforts to try to remake Iraq in their image will be aggressively put down,\" he said.',\n",
              " '\"Iran should be on notice that attempts to remake Iraq in Iran\\'s image will be aggressively put down,\" he said.\\n',\n",
              " 0.9753086419753086)"
            ]
          },
          "metadata": {
            "tags": []
          },
          "execution_count": 6
        }
      ]
    },
    {
      "cell_type": "markdown",
      "metadata": {
        "id": "uYeTefpxEI36"
      },
      "source": [
        "### label_accuracy\n",
        "\n",
        "Provide labels for the twenty pairs of documents by computing the similarity for each pair using `document_path_similarity`. Let the classifier rule be that if the score is greater than 0.75, label is paraphrase (1), else label is not paraphrase (0). Report accuracy of the classifier using scikit-learn's accuracy_score.\n",
        "\n",
        "*This function should return a float.*"
      ]
    },
    {
      "cell_type": "code",
      "metadata": {
        "collapsed": true,
        "id": "JDhH38ZPEI37"
      },
      "source": [
        "def label_accuracy():\n",
        "    from sklearn.metrics import accuracy_score\n",
        "    df = paraphrases.apply(update_sim_score, axis=1)\n",
        "    score = accuracy_score(df['Quality'].tolist(), df['paraphrase'].tolist())\n",
        "    \n",
        "    return score\n",
        "\n",
        "def update_sim_score(row):\n",
        "    row['similarity_score'] = document_path_similarity(row['D1'], row['D2'])\n",
        "    row['paraphrase'] = 1 if row['similarity_score'] > 0.75 else 0\n",
        "    return row"
      ],
      "execution_count": null,
      "outputs": []
    },
    {
      "cell_type": "code",
      "metadata": {
        "id": "6hvu3MXbEI38",
        "outputId": "0dd451e9-f31f-489d-e8a8-fd6de747214d"
      },
      "source": [
        "label_accuracy()"
      ],
      "execution_count": null,
      "outputs": [
        {
          "output_type": "execute_result",
          "data": {
            "text/plain": [
              "0.80000000000000004"
            ]
          },
          "metadata": {
            "tags": []
          },
          "execution_count": 8
        }
      ]
    },
    {
      "cell_type": "markdown",
      "metadata": {
        "id": "Q0osCsgzEI3-"
      },
      "source": [
        "## Part 2 - Topic Modelling\n",
        "\n",
        "For the second part of this assignment, you will use Gensim's LDA (Latent Dirichlet Allocation) model to model topics in `newsgroup_data`. You will first need to finish the code in the cell below by using gensim.models.ldamodel.LdaModel constructor to estimate LDA model parameters on the corpus, and save to the variable `ldamodel`. Extract 10 topics using `corpus` and `id_map`, and with `passes=25` and `random_state=34`."
      ]
    },
    {
      "cell_type": "code",
      "metadata": {
        "collapsed": true,
        "id": "bCRrvA9rEI3_"
      },
      "source": [
        "import pickle\n",
        "import gensim\n",
        "from sklearn.feature_extraction.text import CountVectorizer\n",
        "\n",
        "# Load the list of documents\n",
        "with open('newsgroups', 'rb') as f:\n",
        "    newsgroup_data = pickle.load(f)\n",
        "\n",
        "# Use CountVectorizor to find three letter tokens, remove stop_words, \n",
        "# remove tokens that don't appear in at least 20 documents,\n",
        "# remove tokens that appear in more than 20% of the documents\n",
        "vect = CountVectorizer(min_df=20, max_df=0.2, stop_words='english', \n",
        "                       token_pattern='(?u)\\\\b\\\\w\\\\w\\\\w+\\\\b')\n",
        "# Fit and transform\n",
        "X = vect.fit_transform(newsgroup_data)\n",
        "\n",
        "# Convert sparse matrix to gensim corpus.\n",
        "corpus = gensim.matutils.Sparse2Corpus(X, documents_columns=False)\n",
        "\n",
        "# Mapping from word IDs to words (To be used in LdaModel's id2word parameter)\n",
        "id_map = dict((v, k) for k, v in vect.vocabulary_.items())\n"
      ],
      "execution_count": null,
      "outputs": []
    },
    {
      "cell_type": "code",
      "metadata": {
        "collapsed": true,
        "id": "CD6E_eSiEI4A"
      },
      "source": [
        "# Use the gensim.models.ldamodel.LdaModel constructor to estimate \n",
        "# LDA model parameters on the corpus, and save to the variable `ldamodel`\n",
        "\n",
        "# Your code here:\n",
        "ldamodel = gensim.models.ldamodel.LdaModel(corpus, num_topics=10, id2word=id_map, passes=25, random_state=34)"
      ],
      "execution_count": null,
      "outputs": []
    },
    {
      "cell_type": "markdown",
      "metadata": {
        "id": "b0v1UG_qEI4C"
      },
      "source": [
        "### lda_topics\n",
        "\n",
        "Using `ldamodel`, find a list of the 10 topics and the most significant 10 words in each topic. This should be structured as a list of 10 tuples where each tuple takes on the form:\n",
        "\n",
        "`(9, '0.068*\"space\" + 0.036*\"nasa\" + 0.021*\"science\" + 0.020*\"edu\" + 0.019*\"data\" + 0.017*\"shuttle\" + 0.015*\"launch\" + 0.015*\"available\" + 0.014*\"center\" + 0.014*\"sci\"')`\n",
        "\n",
        "for example.\n",
        "\n",
        "*This function should return a list of tuples.*"
      ]
    },
    {
      "cell_type": "code",
      "metadata": {
        "collapsed": true,
        "id": "dYSZHi6lEI4D"
      },
      "source": [
        "def lda_topics():\n",
        "    \n",
        "    return list(ldamodel.show_topics(num_topics=10, num_words=10))"
      ],
      "execution_count": null,
      "outputs": []
    },
    {
      "cell_type": "code",
      "metadata": {
        "id": "2iIFlsn7EI4G",
        "outputId": "fd18962c-4936-4ffd-df1b-db7eaa9eb6e2"
      },
      "source": [
        "lda_topics()"
      ],
      "execution_count": null,
      "outputs": [
        {
          "output_type": "error",
          "ename": "NameError",
          "evalue": "name 'ldamodel' is not defined",
          "traceback": [
            "\u001b[0;31m---------------------------------------------------------------------------\u001b[0m",
            "\u001b[0;31mNameError\u001b[0m                                 Traceback (most recent call last)",
            "\u001b[0;32m<ipython-input-12-8c7887402b4f>\u001b[0m in \u001b[0;36m<module>\u001b[0;34m()\u001b[0m\n\u001b[0;32m----> 1\u001b[0;31m \u001b[0mlda_topics\u001b[0m\u001b[0;34m(\u001b[0m\u001b[0;34m)\u001b[0m\u001b[0;34m\u001b[0m\u001b[0m\n\u001b[0m",
            "\u001b[0;32m<ipython-input-11-1b2085a4a8d4>\u001b[0m in \u001b[0;36mlda_topics\u001b[0;34m()\u001b[0m\n\u001b[1;32m      1\u001b[0m \u001b[0;32mdef\u001b[0m \u001b[0mlda_topics\u001b[0m\u001b[0;34m(\u001b[0m\u001b[0;34m)\u001b[0m\u001b[0;34m:\u001b[0m\u001b[0;34m\u001b[0m\u001b[0m\n\u001b[1;32m      2\u001b[0m \u001b[0;34m\u001b[0m\u001b[0m\n\u001b[0;32m----> 3\u001b[0;31m     \u001b[0;32mreturn\u001b[0m \u001b[0mlist\u001b[0m\u001b[0;34m(\u001b[0m\u001b[0mldamodel\u001b[0m\u001b[0;34m.\u001b[0m\u001b[0mshow_topics\u001b[0m\u001b[0;34m(\u001b[0m\u001b[0mnum_topics\u001b[0m\u001b[0;34m=\u001b[0m\u001b[0;36m10\u001b[0m\u001b[0;34m,\u001b[0m \u001b[0mnum_words\u001b[0m\u001b[0;34m=\u001b[0m\u001b[0;36m10\u001b[0m\u001b[0;34m)\u001b[0m\u001b[0;34m)\u001b[0m\u001b[0;34m\u001b[0m\u001b[0m\n\u001b[0m",
            "\u001b[0;31mNameError\u001b[0m: name 'ldamodel' is not defined"
          ]
        }
      ]
    },
    {
      "cell_type": "markdown",
      "metadata": {
        "id": "e-5FfgjeEI4H"
      },
      "source": [
        "### topic_distribution\n",
        "\n",
        "For the new document `new_doc`, find the topic distribution. Remember to use vect.transform on the the new doc, and Sparse2Corpus to convert the sparse matrix to gensim corpus.\n",
        "\n",
        "*This function should return a list of tuples, where each tuple is `(#topic, probability)`*"
      ]
    },
    {
      "cell_type": "code",
      "metadata": {
        "collapsed": true,
        "id": "tGhL3lupEI4I"
      },
      "source": [
        "new_doc = [\"\\n\\nIt's my understanding that the freezing will start to occur because \\\n",
        "of the\\ngrowing distance of Pluto and Charon from the Sun, due to it's\\nelliptical orbit. \\\n",
        "It is not due to shadowing effects. \\n\\n\\nPluto can shadow Charon, and vice-versa.\\n\\nGeorge \\\n",
        "Krumins\\n-- \"]"
      ],
      "execution_count": null,
      "outputs": []
    },
    {
      "cell_type": "code",
      "metadata": {
        "collapsed": true,
        "id": "QUEH3x7vEI4J"
      },
      "source": [
        "def topic_distribution():\n",
        "    \n",
        "    sparse_doc = vect.transform(new_doc)\n",
        "    gen_corpus = gensim.matutils.Sparse2Corpus(sparse_doc, documents_columns=False)\n",
        "    return list(ldamodel[gen_corpus])[0]"
      ],
      "execution_count": null,
      "outputs": []
    },
    {
      "cell_type": "markdown",
      "metadata": {
        "id": "ztEaDUtlEI4K"
      },
      "source": [
        "### topic_names\n",
        "\n",
        "From the list of the following given topics, assign topic names to the topics you found. If none of these names best matches the topics you found, create a new 1-3 word \"title\" for the topic.\n",
        "\n",
        "Topics: Health, Science, Automobiles, Politics, Government, Travel, Computers & IT, Sports, Business, Society & Lifestyle, Religion, Education.\n",
        "\n",
        "*This function should return a list of 10 strings.*"
      ]
    },
    {
      "cell_type": "code",
      "metadata": {
        "collapsed": true,
        "id": "DqgFT444EI4M"
      },
      "source": [
        "def topic_names():\n",
        "\n",
        "    \n",
        "    return ['Education','Science','Computers & IT','Religion','Automobiles','Sports','Science','Religion','Computers & IT','Science']"
      ],
      "execution_count": null,
      "outputs": []
    }
  ]
}